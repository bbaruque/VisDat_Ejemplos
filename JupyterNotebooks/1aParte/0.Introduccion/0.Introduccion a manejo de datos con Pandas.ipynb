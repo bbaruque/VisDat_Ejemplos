{
 "cells": [
  {
   "cell_type": "markdown",
   "metadata": {
    "colab_type": "text",
    "id": "Tsuyg74rQQfU"
   },
   "source": [
    "# Introduccion a manejo de datos con Pandas\n",
    "\n",
    "**Pandas** es una librería de manipulación de datos. Es probablemente una de las más extendidas en el campo. \n",
    "Se recomienda revisar la página oficial para acceder a la documentación de funcionamiento.\n",
    "Incluye funciones para la visualización exploratoria de los datos que emplearemos en estos ejercicios.\n",
    "\n",
    "- Página oficial de documentación: https://pandas.pydata.org/pandas-docs/stable/index.html\n",
    "- En \"10 minutes to pandas\" realiza un resumen rápido de las características más importantes (en la asignatura sólo veremos unas pocas): https://pandas.pydata.org/pandas-docs/stable/10min.html\n",
    "\n",
    "A continuación se muestran ejemplos de las funcionalidades que más se puede necesitar encontrar. Los ejemplos se basan en el tutorial de \"10 minutes to pandas\".\n",
    "\n",
    "Adicionalmente, se emplea en algunos apartados la librería **Numpy** (para computación matemática). No se emplea de forma exhaustiva, pero de ser necesario, se puede encontrar la referencia de la misma aquí: https://docs.scipy.org/doc/numpy/reference/"
   ]
  },
  {
   "cell_type": "markdown",
   "metadata": {
    "colab_type": "text",
    "id": "sCdZrR9HQQfd"
   },
   "source": [
    "En todos los casos, lo primero que se hace en el script es importar las librerías que se van a emplear:"
   ]
  },
  {
   "cell_type": "code",
   "execution_count": 1,
   "metadata": {
    "colab": {},
    "colab_type": "code",
    "id": "T8ZxVg4UQQfi"
   },
   "outputs": [],
   "source": [
    "import pandas as pd #Librería para el manejo de datos en Python. Permite realizar visualizaciones sencillas.\n",
    "import numpy as np #Librería para computación numérica en Python."
   ]
  },
  {
   "cell_type": "markdown",
   "metadata": {
    "colab_type": "text",
    "id": "JgDqbhsQQQft"
   },
   "source": [
    "## Crear Objetos de Datos"
   ]
  },
  {
   "cell_type": "markdown",
   "metadata": {
    "colab_type": "text",
    "id": "SLwEE0luQQfu"
   },
   "source": [
    "En pandas emplearemos en estos ejercicios principalmente 2 tipos de estructuras:\n",
    " - Series: Son arrays unidimensionales con indexación (arrays con índice o etiquetados), similares a los [diccionarios](https://docs.python.org/2/tutorial/datastructures.html#dictionaries). Pueden generarse a partir de diccionarios o de [listas](https://docs.python.org/2/tutorial/datastructures.html#more-on-lists).\n",
    " - DataFrame: Son estructuras de datos similares a las tablas de bases de datos relacionales como SQL. \n",
    " Los DataFrame contienen siempre un índice (que identifica cada entrada / fila) y generalmente varias columnas (identifican cada dato en la(s) entrada(s)). El índice será siempre de tipo 'Serie'. \n",
    " Pueden emplearse índices temporales (timestamps) o índices numéricos.\n",
    " \n",
    " Una introducción a este tipo de estructuras se recoge aquí: https://pandas.pydata.org/pandas-docs/stable/dsintro.html"
   ]
  },
  {
   "cell_type": "code",
   "execution_count": 2,
   "metadata": {
    "colab": {
     "base_uri": "https://localhost:8080/",
     "height": 146
    },
    "colab_type": "code",
    "id": "TiREZHt6QQfw",
    "outputId": "083f6e8e-09b2-4d20-8aab-0ac0dedfc84e"
   },
   "outputs": [
    {
     "data": {
      "text/plain": [
       "0    1.0\n",
       "1    3.0\n",
       "2    5.0\n",
       "3    NaN\n",
       "4    6.0\n",
       "5    8.0\n",
       "dtype: float64"
      ]
     },
     "execution_count": 2,
     "metadata": {},
     "output_type": "execute_result"
    }
   ],
   "source": [
    "# Generacion de una Serie numérica\n",
    "s = pd.Series([1,3,5,np.nan,6,8])\n",
    "s"
   ]
  },
  {
   "cell_type": "code",
   "execution_count": 3,
   "metadata": {
    "colab": {
     "base_uri": "https://localhost:8080/",
     "height": 72
    },
    "colab_type": "code",
    "id": "Z84E0pWSQQf6",
    "outputId": "1d21fcfd-203a-4870-94b1-a788d8926b7a"
   },
   "outputs": [
    {
     "data": {
      "text/plain": [
       "DatetimeIndex(['2013-01-01', '2013-01-02', '2013-01-03', '2013-01-04',\n",
       "               '2013-01-05', '2013-01-06'],\n",
       "              dtype='datetime64[ns]', freq='D')"
      ]
     },
     "execution_count": 3,
     "metadata": {},
     "output_type": "execute_result"
    }
   ],
   "source": [
    "# Generacion de una Serie temporal\n",
    "dates = pd.date_range('20130101', periods=6)\n",
    "dates"
   ]
  },
  {
   "cell_type": "code",
   "execution_count": 4,
   "metadata": {
    "colab": {
     "base_uri": "https://localhost:8080/",
     "height": 238
    },
    "colab_type": "code",
    "id": "pqAUixeSQQgD",
    "outputId": "c1421177-2205-4cb5-86ba-6a7b7b3e7d9b"
   },
   "outputs": [
    {
     "data": {
      "text/html": [
       "<div>\n",
       "<style scoped>\n",
       "    .dataframe tbody tr th:only-of-type {\n",
       "        vertical-align: middle;\n",
       "    }\n",
       "\n",
       "    .dataframe tbody tr th {\n",
       "        vertical-align: top;\n",
       "    }\n",
       "\n",
       "    .dataframe thead th {\n",
       "        text-align: right;\n",
       "    }\n",
       "</style>\n",
       "<table border=\"1\" class=\"dataframe\">\n",
       "  <thead>\n",
       "    <tr style=\"text-align: right;\">\n",
       "      <th></th>\n",
       "      <th>A</th>\n",
       "      <th>B</th>\n",
       "      <th>C</th>\n",
       "      <th>D</th>\n",
       "    </tr>\n",
       "  </thead>\n",
       "  <tbody>\n",
       "    <tr>\n",
       "      <th>2013-01-01</th>\n",
       "      <td>-1.164156</td>\n",
       "      <td>0.690580</td>\n",
       "      <td>0.074791</td>\n",
       "      <td>-0.619303</td>\n",
       "    </tr>\n",
       "    <tr>\n",
       "      <th>2013-01-02</th>\n",
       "      <td>1.756228</td>\n",
       "      <td>1.084116</td>\n",
       "      <td>-0.710002</td>\n",
       "      <td>-0.094943</td>\n",
       "    </tr>\n",
       "    <tr>\n",
       "      <th>2013-01-03</th>\n",
       "      <td>0.059389</td>\n",
       "      <td>0.212852</td>\n",
       "      <td>0.195152</td>\n",
       "      <td>1.548024</td>\n",
       "    </tr>\n",
       "    <tr>\n",
       "      <th>2013-01-04</th>\n",
       "      <td>-1.808922</td>\n",
       "      <td>0.894554</td>\n",
       "      <td>-1.115373</td>\n",
       "      <td>1.094575</td>\n",
       "    </tr>\n",
       "    <tr>\n",
       "      <th>2013-01-05</th>\n",
       "      <td>0.766672</td>\n",
       "      <td>-0.217860</td>\n",
       "      <td>-0.022103</td>\n",
       "      <td>0.213908</td>\n",
       "    </tr>\n",
       "    <tr>\n",
       "      <th>2013-01-06</th>\n",
       "      <td>0.861545</td>\n",
       "      <td>-0.938988</td>\n",
       "      <td>-0.728369</td>\n",
       "      <td>-0.395172</td>\n",
       "    </tr>\n",
       "  </tbody>\n",
       "</table>\n",
       "</div>"
      ],
      "text/plain": [
       "                   A         B         C         D\n",
       "2013-01-01 -1.164156  0.690580  0.074791 -0.619303\n",
       "2013-01-02  1.756228  1.084116 -0.710002 -0.094943\n",
       "2013-01-03  0.059389  0.212852  0.195152  1.548024\n",
       "2013-01-04 -1.808922  0.894554 -1.115373  1.094575\n",
       "2013-01-05  0.766672 -0.217860 -0.022103  0.213908\n",
       "2013-01-06  0.861545 -0.938988 -0.728369 -0.395172"
      ]
     },
     "execution_count": 4,
     "metadata": {},
     "output_type": "execute_result"
    }
   ],
   "source": [
    "# Generacion de un DataFrame que emplea la serie temporal como índice\n",
    "df = pd.DataFrame(np.random.randn(6,4), index=dates, columns=list('ABCD'))\n",
    "df"
   ]
  },
  {
   "cell_type": "markdown",
   "metadata": {
    "colab_type": "text",
    "id": "g3eApKv9QQgM"
   },
   "source": [
    "## Mostrar datos"
   ]
  },
  {
   "cell_type": "code",
   "execution_count": 5,
   "metadata": {
    "colab": {
     "base_uri": "https://localhost:8080/",
     "height": 112
    },
    "colab_type": "code",
    "id": "WkUu842aQQgO",
    "outputId": "3697200e-d8d1-4657-a3ed-a480baf17cc8"
   },
   "outputs": [
    {
     "data": {
      "text/html": [
       "<div>\n",
       "<style scoped>\n",
       "    .dataframe tbody tr th:only-of-type {\n",
       "        vertical-align: middle;\n",
       "    }\n",
       "\n",
       "    .dataframe tbody tr th {\n",
       "        vertical-align: top;\n",
       "    }\n",
       "\n",
       "    .dataframe thead th {\n",
       "        text-align: right;\n",
       "    }\n",
       "</style>\n",
       "<table border=\"1\" class=\"dataframe\">\n",
       "  <thead>\n",
       "    <tr style=\"text-align: right;\">\n",
       "      <th></th>\n",
       "      <th>A</th>\n",
       "      <th>B</th>\n",
       "      <th>C</th>\n",
       "      <th>D</th>\n",
       "    </tr>\n",
       "  </thead>\n",
       "  <tbody>\n",
       "    <tr>\n",
       "      <th>2013-01-01</th>\n",
       "      <td>-1.164156</td>\n",
       "      <td>0.690580</td>\n",
       "      <td>0.074791</td>\n",
       "      <td>-0.619303</td>\n",
       "    </tr>\n",
       "    <tr>\n",
       "      <th>2013-01-02</th>\n",
       "      <td>1.756228</td>\n",
       "      <td>1.084116</td>\n",
       "      <td>-0.710002</td>\n",
       "      <td>-0.094943</td>\n",
       "    </tr>\n",
       "  </tbody>\n",
       "</table>\n",
       "</div>"
      ],
      "text/plain": [
       "                   A         B         C         D\n",
       "2013-01-01 -1.164156  0.690580  0.074791 -0.619303\n",
       "2013-01-02  1.756228  1.084116 -0.710002 -0.094943"
      ]
     },
     "execution_count": 5,
     "metadata": {},
     "output_type": "execute_result"
    }
   ],
   "source": [
    "# 2 primeros elementos (segun el indice)\n",
    "df.head(2)"
   ]
  },
  {
   "cell_type": "code",
   "execution_count": 6,
   "metadata": {
    "colab": {
     "base_uri": "https://localhost:8080/",
     "height": 112
    },
    "colab_type": "code",
    "id": "qEYH2QDUQQgV",
    "outputId": "eafb3946-476e-46ed-bdf3-3bcfadefee37"
   },
   "outputs": [
    {
     "data": {
      "text/html": [
       "<div>\n",
       "<style scoped>\n",
       "    .dataframe tbody tr th:only-of-type {\n",
       "        vertical-align: middle;\n",
       "    }\n",
       "\n",
       "    .dataframe tbody tr th {\n",
       "        vertical-align: top;\n",
       "    }\n",
       "\n",
       "    .dataframe thead th {\n",
       "        text-align: right;\n",
       "    }\n",
       "</style>\n",
       "<table border=\"1\" class=\"dataframe\">\n",
       "  <thead>\n",
       "    <tr style=\"text-align: right;\">\n",
       "      <th></th>\n",
       "      <th>A</th>\n",
       "      <th>B</th>\n",
       "      <th>C</th>\n",
       "      <th>D</th>\n",
       "    </tr>\n",
       "  </thead>\n",
       "  <tbody>\n",
       "    <tr>\n",
       "      <th>2013-01-05</th>\n",
       "      <td>0.766672</td>\n",
       "      <td>-0.217860</td>\n",
       "      <td>-0.022103</td>\n",
       "      <td>0.213908</td>\n",
       "    </tr>\n",
       "    <tr>\n",
       "      <th>2013-01-06</th>\n",
       "      <td>0.861545</td>\n",
       "      <td>-0.938988</td>\n",
       "      <td>-0.728369</td>\n",
       "      <td>-0.395172</td>\n",
       "    </tr>\n",
       "  </tbody>\n",
       "</table>\n",
       "</div>"
      ],
      "text/plain": [
       "                   A         B         C         D\n",
       "2013-01-05  0.766672 -0.217860 -0.022103  0.213908\n",
       "2013-01-06  0.861545 -0.938988 -0.728369 -0.395172"
      ]
     },
     "execution_count": 6,
     "metadata": {},
     "output_type": "execute_result"
    }
   ],
   "source": [
    "# 2 ultimos elementos (segun el indice)\n",
    "df.tail(2)"
   ]
  },
  {
   "cell_type": "code",
   "execution_count": 7,
   "metadata": {
    "colab": {
     "base_uri": "https://localhost:8080/",
     "height": 72
    },
    "colab_type": "code",
    "id": "CwnF2gRzQQgf",
    "outputId": "9bf2a270-30d3-422d-8e3e-7f21a4adccf5"
   },
   "outputs": [
    {
     "data": {
      "text/plain": [
       "DatetimeIndex(['2013-01-01', '2013-01-02', '2013-01-03', '2013-01-04',\n",
       "               '2013-01-05', '2013-01-06'],\n",
       "              dtype='datetime64[ns]', freq='D')"
      ]
     },
     "execution_count": 7,
     "metadata": {},
     "output_type": "execute_result"
    }
   ],
   "source": [
    "# Acceder al índice\n",
    "df.index"
   ]
  },
  {
   "cell_type": "code",
   "execution_count": 8,
   "metadata": {
    "colab": {
     "base_uri": "https://localhost:8080/",
     "height": 127
    },
    "colab_type": "code",
    "id": "vE2BkA4VQQgq",
    "outputId": "f0394737-07ae-4862-d9d4-ff6eb7dac078"
   },
   "outputs": [
    {
     "data": {
      "text/plain": [
       "array([[-1.16415631,  0.6905803 ,  0.07479067, -0.61930261],\n",
       "       [ 1.75622773,  1.08411618, -0.71000172, -0.09494269],\n",
       "       [ 0.05938929,  0.21285177,  0.19515237,  1.54802405],\n",
       "       [-1.80892236,  0.89455446, -1.11537307,  1.09457465],\n",
       "       [ 0.76667204, -0.21785968, -0.02210322,  0.21390826],\n",
       "       [ 0.86154543, -0.93898828, -0.728369  , -0.39517229]])"
      ]
     },
     "execution_count": 8,
     "metadata": {},
     "output_type": "execute_result"
    }
   ],
   "source": [
    "# Acceder a los valores\n",
    "df.values"
   ]
  },
  {
   "cell_type": "code",
   "execution_count": 9,
   "metadata": {
    "colab": {
     "base_uri": "https://localhost:8080/",
     "height": 35
    },
    "colab_type": "code",
    "id": "kjSKacHWRbXq",
    "outputId": "e3c0d692-deb7-41e8-ec25-548036abaa9f"
   },
   "outputs": [
    {
     "data": {
      "text/plain": [
       "Index(['A', 'B', 'C', 'D'], dtype='object')"
      ]
     },
     "execution_count": 9,
     "metadata": {},
     "output_type": "execute_result"
    }
   ],
   "source": [
    "#  Acceder a las columnas\n",
    "df.columns"
   ]
  },
  {
   "cell_type": "code",
   "execution_count": 10,
   "metadata": {
    "colab": {
     "base_uri": "https://localhost:8080/",
     "height": 300
    },
    "colab_type": "code",
    "id": "BDvog82tQQgx",
    "outputId": "d10743ee-8cc9-4f39-a5ec-9aea4887cb26"
   },
   "outputs": [
    {
     "data": {
      "text/html": [
       "<div>\n",
       "<style scoped>\n",
       "    .dataframe tbody tr th:only-of-type {\n",
       "        vertical-align: middle;\n",
       "    }\n",
       "\n",
       "    .dataframe tbody tr th {\n",
       "        vertical-align: top;\n",
       "    }\n",
       "\n",
       "    .dataframe thead th {\n",
       "        text-align: right;\n",
       "    }\n",
       "</style>\n",
       "<table border=\"1\" class=\"dataframe\">\n",
       "  <thead>\n",
       "    <tr style=\"text-align: right;\">\n",
       "      <th></th>\n",
       "      <th>A</th>\n",
       "      <th>B</th>\n",
       "      <th>C</th>\n",
       "      <th>D</th>\n",
       "    </tr>\n",
       "  </thead>\n",
       "  <tbody>\n",
       "    <tr>\n",
       "      <th>count</th>\n",
       "      <td>6.000000</td>\n",
       "      <td>6.000000</td>\n",
       "      <td>6.000000</td>\n",
       "      <td>6.000000</td>\n",
       "    </tr>\n",
       "    <tr>\n",
       "      <th>mean</th>\n",
       "      <td>0.078459</td>\n",
       "      <td>0.287542</td>\n",
       "      <td>-0.384317</td>\n",
       "      <td>0.291182</td>\n",
       "    </tr>\n",
       "    <tr>\n",
       "      <th>std</th>\n",
       "      <td>1.342269</td>\n",
       "      <td>0.765614</td>\n",
       "      <td>0.536031</td>\n",
       "      <td>0.857930</td>\n",
       "    </tr>\n",
       "    <tr>\n",
       "      <th>min</th>\n",
       "      <td>-1.808922</td>\n",
       "      <td>-0.938988</td>\n",
       "      <td>-1.115373</td>\n",
       "      <td>-0.619303</td>\n",
       "    </tr>\n",
       "    <tr>\n",
       "      <th>25%</th>\n",
       "      <td>-0.858270</td>\n",
       "      <td>-0.110182</td>\n",
       "      <td>-0.723777</td>\n",
       "      <td>-0.320115</td>\n",
       "    </tr>\n",
       "    <tr>\n",
       "      <th>50%</th>\n",
       "      <td>0.413031</td>\n",
       "      <td>0.451716</td>\n",
       "      <td>-0.366052</td>\n",
       "      <td>0.059483</td>\n",
       "    </tr>\n",
       "    <tr>\n",
       "      <th>75%</th>\n",
       "      <td>0.837827</td>\n",
       "      <td>0.843561</td>\n",
       "      <td>0.050567</td>\n",
       "      <td>0.874408</td>\n",
       "    </tr>\n",
       "    <tr>\n",
       "      <th>max</th>\n",
       "      <td>1.756228</td>\n",
       "      <td>1.084116</td>\n",
       "      <td>0.195152</td>\n",
       "      <td>1.548024</td>\n",
       "    </tr>\n",
       "  </tbody>\n",
       "</table>\n",
       "</div>"
      ],
      "text/plain": [
       "              A         B         C         D\n",
       "count  6.000000  6.000000  6.000000  6.000000\n",
       "mean   0.078459  0.287542 -0.384317  0.291182\n",
       "std    1.342269  0.765614  0.536031  0.857930\n",
       "min   -1.808922 -0.938988 -1.115373 -0.619303\n",
       "25%   -0.858270 -0.110182 -0.723777 -0.320115\n",
       "50%    0.413031  0.451716 -0.366052  0.059483\n",
       "75%    0.837827  0.843561  0.050567  0.874408\n",
       "max    1.756228  1.084116  0.195152  1.548024"
      ]
     },
     "execution_count": 10,
     "metadata": {},
     "output_type": "execute_result"
    }
   ],
   "source": [
    "# Breve descripción de la tabla\n",
    "df.describe()"
   ]
  },
  {
   "cell_type": "code",
   "execution_count": 11,
   "metadata": {
    "colab": {
     "base_uri": "https://localhost:8080/",
     "height": 238
    },
    "colab_type": "code",
    "id": "1yjsqi9RQQg3",
    "outputId": "b7e2c496-c3f1-4a97-c6dd-67f82adb7fa4"
   },
   "outputs": [
    {
     "data": {
      "text/html": [
       "<div>\n",
       "<style scoped>\n",
       "    .dataframe tbody tr th:only-of-type {\n",
       "        vertical-align: middle;\n",
       "    }\n",
       "\n",
       "    .dataframe tbody tr th {\n",
       "        vertical-align: top;\n",
       "    }\n",
       "\n",
       "    .dataframe thead th {\n",
       "        text-align: right;\n",
       "    }\n",
       "</style>\n",
       "<table border=\"1\" class=\"dataframe\">\n",
       "  <thead>\n",
       "    <tr style=\"text-align: right;\">\n",
       "      <th></th>\n",
       "      <th>D</th>\n",
       "      <th>C</th>\n",
       "      <th>B</th>\n",
       "      <th>A</th>\n",
       "    </tr>\n",
       "  </thead>\n",
       "  <tbody>\n",
       "    <tr>\n",
       "      <th>2013-01-01</th>\n",
       "      <td>-0.619303</td>\n",
       "      <td>0.074791</td>\n",
       "      <td>0.690580</td>\n",
       "      <td>-1.164156</td>\n",
       "    </tr>\n",
       "    <tr>\n",
       "      <th>2013-01-02</th>\n",
       "      <td>-0.094943</td>\n",
       "      <td>-0.710002</td>\n",
       "      <td>1.084116</td>\n",
       "      <td>1.756228</td>\n",
       "    </tr>\n",
       "    <tr>\n",
       "      <th>2013-01-03</th>\n",
       "      <td>1.548024</td>\n",
       "      <td>0.195152</td>\n",
       "      <td>0.212852</td>\n",
       "      <td>0.059389</td>\n",
       "    </tr>\n",
       "    <tr>\n",
       "      <th>2013-01-04</th>\n",
       "      <td>1.094575</td>\n",
       "      <td>-1.115373</td>\n",
       "      <td>0.894554</td>\n",
       "      <td>-1.808922</td>\n",
       "    </tr>\n",
       "    <tr>\n",
       "      <th>2013-01-05</th>\n",
       "      <td>0.213908</td>\n",
       "      <td>-0.022103</td>\n",
       "      <td>-0.217860</td>\n",
       "      <td>0.766672</td>\n",
       "    </tr>\n",
       "    <tr>\n",
       "      <th>2013-01-06</th>\n",
       "      <td>-0.395172</td>\n",
       "      <td>-0.728369</td>\n",
       "      <td>-0.938988</td>\n",
       "      <td>0.861545</td>\n",
       "    </tr>\n",
       "  </tbody>\n",
       "</table>\n",
       "</div>"
      ],
      "text/plain": [
       "                   D         C         B         A\n",
       "2013-01-01 -0.619303  0.074791  0.690580 -1.164156\n",
       "2013-01-02 -0.094943 -0.710002  1.084116  1.756228\n",
       "2013-01-03  1.548024  0.195152  0.212852  0.059389\n",
       "2013-01-04  1.094575 -1.115373  0.894554 -1.808922\n",
       "2013-01-05  0.213908 -0.022103 -0.217860  0.766672\n",
       "2013-01-06 -0.395172 -0.728369 -0.938988  0.861545"
      ]
     },
     "execution_count": 11,
     "metadata": {},
     "output_type": "execute_result"
    }
   ],
   "source": [
    "# Ordenar datos en el eje horizontal (columnas)\n",
    "df.sort_index(axis=1, ascending=False)"
   ]
  },
  {
   "cell_type": "code",
   "execution_count": 12,
   "metadata": {
    "colab": {
     "base_uri": "https://localhost:8080/",
     "height": 238
    },
    "colab_type": "code",
    "id": "xJCiTmsnQQg8",
    "outputId": "491b0afa-bfad-4cb8-92a4-57674cf55af0"
   },
   "outputs": [
    {
     "data": {
      "text/html": [
       "<div>\n",
       "<style scoped>\n",
       "    .dataframe tbody tr th:only-of-type {\n",
       "        vertical-align: middle;\n",
       "    }\n",
       "\n",
       "    .dataframe tbody tr th {\n",
       "        vertical-align: top;\n",
       "    }\n",
       "\n",
       "    .dataframe thead th {\n",
       "        text-align: right;\n",
       "    }\n",
       "</style>\n",
       "<table border=\"1\" class=\"dataframe\">\n",
       "  <thead>\n",
       "    <tr style=\"text-align: right;\">\n",
       "      <th></th>\n",
       "      <th>A</th>\n",
       "      <th>B</th>\n",
       "      <th>C</th>\n",
       "      <th>D</th>\n",
       "    </tr>\n",
       "  </thead>\n",
       "  <tbody>\n",
       "    <tr>\n",
       "      <th>2013-01-06</th>\n",
       "      <td>0.861545</td>\n",
       "      <td>-0.938988</td>\n",
       "      <td>-0.728369</td>\n",
       "      <td>-0.395172</td>\n",
       "    </tr>\n",
       "    <tr>\n",
       "      <th>2013-01-05</th>\n",
       "      <td>0.766672</td>\n",
       "      <td>-0.217860</td>\n",
       "      <td>-0.022103</td>\n",
       "      <td>0.213908</td>\n",
       "    </tr>\n",
       "    <tr>\n",
       "      <th>2013-01-03</th>\n",
       "      <td>0.059389</td>\n",
       "      <td>0.212852</td>\n",
       "      <td>0.195152</td>\n",
       "      <td>1.548024</td>\n",
       "    </tr>\n",
       "    <tr>\n",
       "      <th>2013-01-01</th>\n",
       "      <td>-1.164156</td>\n",
       "      <td>0.690580</td>\n",
       "      <td>0.074791</td>\n",
       "      <td>-0.619303</td>\n",
       "    </tr>\n",
       "    <tr>\n",
       "      <th>2013-01-04</th>\n",
       "      <td>-1.808922</td>\n",
       "      <td>0.894554</td>\n",
       "      <td>-1.115373</td>\n",
       "      <td>1.094575</td>\n",
       "    </tr>\n",
       "    <tr>\n",
       "      <th>2013-01-02</th>\n",
       "      <td>1.756228</td>\n",
       "      <td>1.084116</td>\n",
       "      <td>-0.710002</td>\n",
       "      <td>-0.094943</td>\n",
       "    </tr>\n",
       "  </tbody>\n",
       "</table>\n",
       "</div>"
      ],
      "text/plain": [
       "                   A         B         C         D\n",
       "2013-01-06  0.861545 -0.938988 -0.728369 -0.395172\n",
       "2013-01-05  0.766672 -0.217860 -0.022103  0.213908\n",
       "2013-01-03  0.059389  0.212852  0.195152  1.548024\n",
       "2013-01-01 -1.164156  0.690580  0.074791 -0.619303\n",
       "2013-01-04 -1.808922  0.894554 -1.115373  1.094575\n",
       "2013-01-02  1.756228  1.084116 -0.710002 -0.094943"
      ]
     },
     "execution_count": 12,
     "metadata": {},
     "output_type": "execute_result"
    }
   ],
   "source": [
    "# Ordenar datos en el eje vertical (columna B)\n",
    "df.sort_values(by='B')"
   ]
  },
  {
   "cell_type": "markdown",
   "metadata": {
    "colab_type": "text",
    "id": "SR4o2IKMQQhC"
   },
   "source": [
    "## Selección de datos"
   ]
  },
  {
   "cell_type": "markdown",
   "metadata": {
    "colab_type": "text",
    "id": "ovGOLxQ3QQhD"
   },
   "source": [
    "Selección de columnas.  \n",
    "La selección incluye también el índice, si no se indica lo contrario."
   ]
  },
  {
   "cell_type": "code",
   "execution_count": 13,
   "metadata": {
    "colab": {
     "base_uri": "https://localhost:8080/",
     "height": 146
    },
    "colab_type": "code",
    "id": "3qV3iY4iQQhE",
    "outputId": "656341e8-fc61-4a94-a4ec-5a5e86eb4751"
   },
   "outputs": [
    {
     "data": {
      "text/plain": [
       "2013-01-01   -1.164156\n",
       "2013-01-02    1.756228\n",
       "2013-01-03    0.059389\n",
       "2013-01-04   -1.808922\n",
       "2013-01-05    0.766672\n",
       "2013-01-06    0.861545\n",
       "Freq: D, Name: A, dtype: float64"
      ]
     },
     "execution_count": 13,
     "metadata": {},
     "output_type": "execute_result"
    }
   ],
   "source": [
    "df['A']"
   ]
  },
  {
   "cell_type": "markdown",
   "metadata": {
    "colab_type": "text",
    "id": "ux8FgUzRQQhN"
   },
   "source": [
    "Para obtener solo los valores de una columna, se deben solicitar éstos"
   ]
  },
  {
   "cell_type": "code",
   "execution_count": 14,
   "metadata": {
    "colab": {
     "base_uri": "https://localhost:8080/",
     "height": 54
    },
    "colab_type": "code",
    "id": "HS86mErDQQhP",
    "outputId": "d7de69ed-b4d3-41f4-de8c-3bb1e6f6fbeb"
   },
   "outputs": [
    {
     "data": {
      "text/plain": [
       "array([-1.16415631,  1.75622773,  0.05938929, -1.80892236,  0.76667204,\n",
       "        0.86154543])"
      ]
     },
     "execution_count": 14,
     "metadata": {},
     "output_type": "execute_result"
    }
   ],
   "source": [
    "df['A'].values"
   ]
  },
  {
   "cell_type": "code",
   "execution_count": 15,
   "metadata": {
    "colab": {
     "base_uri": "https://localhost:8080/",
     "height": 146
    },
    "colab_type": "code",
    "id": "4Lpxk485QQhc",
    "outputId": "43a0a7f7-d874-445a-850e-802fe56aff93"
   },
   "outputs": [
    {
     "data": {
      "text/plain": [
       "2013-01-01   -1.164156\n",
       "2013-01-02    1.756228\n",
       "2013-01-03    0.059389\n",
       "2013-01-04   -1.808922\n",
       "2013-01-05    0.766672\n",
       "2013-01-06    0.861545\n",
       "Freq: D, Name: A, dtype: float64"
      ]
     },
     "execution_count": 15,
     "metadata": {},
     "output_type": "execute_result"
    }
   ],
   "source": [
    "df.A"
   ]
  },
  {
   "cell_type": "markdown",
   "metadata": {
    "colab_type": "text",
    "id": "7-p38ZWWQQhq"
   },
   "source": [
    "Seleccion de filas (deben ser contigüas en la tabla)"
   ]
  },
  {
   "cell_type": "code",
   "execution_count": 16,
   "metadata": {
    "colab": {
     "base_uri": "https://localhost:8080/",
     "height": 143
    },
    "colab_type": "code",
    "id": "ma_aSaehQQht",
    "outputId": "62ce6894-bfd1-45f5-b4a7-eef7d87b8dfc"
   },
   "outputs": [
    {
     "data": {
      "text/html": [
       "<div>\n",
       "<style scoped>\n",
       "    .dataframe tbody tr th:only-of-type {\n",
       "        vertical-align: middle;\n",
       "    }\n",
       "\n",
       "    .dataframe tbody tr th {\n",
       "        vertical-align: top;\n",
       "    }\n",
       "\n",
       "    .dataframe thead th {\n",
       "        text-align: right;\n",
       "    }\n",
       "</style>\n",
       "<table border=\"1\" class=\"dataframe\">\n",
       "  <thead>\n",
       "    <tr style=\"text-align: right;\">\n",
       "      <th></th>\n",
       "      <th>A</th>\n",
       "      <th>B</th>\n",
       "      <th>C</th>\n",
       "      <th>D</th>\n",
       "    </tr>\n",
       "  </thead>\n",
       "  <tbody>\n",
       "    <tr>\n",
       "      <th>2013-01-01</th>\n",
       "      <td>-1.164156</td>\n",
       "      <td>0.690580</td>\n",
       "      <td>0.074791</td>\n",
       "      <td>-0.619303</td>\n",
       "    </tr>\n",
       "    <tr>\n",
       "      <th>2013-01-02</th>\n",
       "      <td>1.756228</td>\n",
       "      <td>1.084116</td>\n",
       "      <td>-0.710002</td>\n",
       "      <td>-0.094943</td>\n",
       "    </tr>\n",
       "    <tr>\n",
       "      <th>2013-01-03</th>\n",
       "      <td>0.059389</td>\n",
       "      <td>0.212852</td>\n",
       "      <td>0.195152</td>\n",
       "      <td>1.548024</td>\n",
       "    </tr>\n",
       "  </tbody>\n",
       "</table>\n",
       "</div>"
      ],
      "text/plain": [
       "                   A         B         C         D\n",
       "2013-01-01 -1.164156  0.690580  0.074791 -0.619303\n",
       "2013-01-02  1.756228  1.084116 -0.710002 -0.094943\n",
       "2013-01-03  0.059389  0.212852  0.195152  1.548024"
      ]
     },
     "execution_count": 16,
     "metadata": {},
     "output_type": "execute_result"
    }
   ],
   "source": [
    "df[0:3]"
   ]
  },
  {
   "cell_type": "markdown",
   "metadata": {
    "colab_type": "text",
    "id": "wXPcdR0dQQhz"
   },
   "source": [
    "### Selection por Etiquetas"
   ]
  },
  {
   "cell_type": "markdown",
   "metadata": {
    "colab_type": "text",
    "id": "R-ZctwZSQQh1"
   },
   "source": [
    "Se puede seleccionar una fila por medio de su indice"
   ]
  },
  {
   "cell_type": "code",
   "execution_count": 17,
   "metadata": {
    "colab": {
     "base_uri": "https://localhost:8080/",
     "height": 0
    },
    "colab_type": "code",
    "id": "faY6XymvQQh2",
    "outputId": "570afd74-76f0-4e16-d9b6-70d6b79c8120"
   },
   "outputs": [
    {
     "data": {
      "text/plain": [
       "DatetimeIndex(['2013-01-01', '2013-01-02', '2013-01-03', '2013-01-04',\n",
       "               '2013-01-05', '2013-01-06'],\n",
       "              dtype='datetime64[ns]', freq='D')"
      ]
     },
     "execution_count": 17,
     "metadata": {},
     "output_type": "execute_result"
    }
   ],
   "source": [
    "dates"
   ]
  },
  {
   "cell_type": "code",
   "execution_count": 18,
   "metadata": {
    "colab": {
     "base_uri": "https://localhost:8080/",
     "height": 0
    },
    "colab_type": "code",
    "id": "PG3vLSwHQQh9",
    "outputId": "e6abc2db-6579-4cd0-88af-ec6b83798e44"
   },
   "outputs": [
    {
     "data": {
      "text/plain": [
       "A   -1.164156\n",
       "B    0.690580\n",
       "C    0.074791\n",
       "D   -0.619303\n",
       "Name: 2013-01-01 00:00:00, dtype: float64"
      ]
     },
     "execution_count": 18,
     "metadata": {},
     "output_type": "execute_result"
    }
   ],
   "source": [
    "df.loc[dates[0]]"
   ]
  },
  {
   "cell_type": "code",
   "execution_count": 19,
   "metadata": {
    "colab": {
     "base_uri": "https://localhost:8080/",
     "height": 0
    },
    "colab_type": "code",
    "id": "1qY-h9VcQQiC",
    "outputId": "202400d7-12d7-4201-d4d3-2557707fde56"
   },
   "outputs": [
    {
     "data": {
      "text/html": [
       "<div>\n",
       "<style scoped>\n",
       "    .dataframe tbody tr th:only-of-type {\n",
       "        vertical-align: middle;\n",
       "    }\n",
       "\n",
       "    .dataframe tbody tr th {\n",
       "        vertical-align: top;\n",
       "    }\n",
       "\n",
       "    .dataframe thead th {\n",
       "        text-align: right;\n",
       "    }\n",
       "</style>\n",
       "<table border=\"1\" class=\"dataframe\">\n",
       "  <thead>\n",
       "    <tr style=\"text-align: right;\">\n",
       "      <th></th>\n",
       "      <th>A</th>\n",
       "      <th>B</th>\n",
       "    </tr>\n",
       "  </thead>\n",
       "  <tbody>\n",
       "    <tr>\n",
       "      <th>2013-01-01</th>\n",
       "      <td>-1.164156</td>\n",
       "      <td>0.690580</td>\n",
       "    </tr>\n",
       "    <tr>\n",
       "      <th>2013-01-02</th>\n",
       "      <td>1.756228</td>\n",
       "      <td>1.084116</td>\n",
       "    </tr>\n",
       "    <tr>\n",
       "      <th>2013-01-03</th>\n",
       "      <td>0.059389</td>\n",
       "      <td>0.212852</td>\n",
       "    </tr>\n",
       "    <tr>\n",
       "      <th>2013-01-04</th>\n",
       "      <td>-1.808922</td>\n",
       "      <td>0.894554</td>\n",
       "    </tr>\n",
       "    <tr>\n",
       "      <th>2013-01-05</th>\n",
       "      <td>0.766672</td>\n",
       "      <td>-0.217860</td>\n",
       "    </tr>\n",
       "    <tr>\n",
       "      <th>2013-01-06</th>\n",
       "      <td>0.861545</td>\n",
       "      <td>-0.938988</td>\n",
       "    </tr>\n",
       "  </tbody>\n",
       "</table>\n",
       "</div>"
      ],
      "text/plain": [
       "                   A         B\n",
       "2013-01-01 -1.164156  0.690580\n",
       "2013-01-02  1.756228  1.084116\n",
       "2013-01-03  0.059389  0.212852\n",
       "2013-01-04 -1.808922  0.894554\n",
       "2013-01-05  0.766672 -0.217860\n",
       "2013-01-06  0.861545 -0.938988"
      ]
     },
     "execution_count": 19,
     "metadata": {},
     "output_type": "execute_result"
    }
   ],
   "source": [
    "df.loc[:,['A','B']] # Los : significan 'todos los datos en este eje'. En este caso se selecciona 'todas las filas' y 2 columnas"
   ]
  },
  {
   "cell_type": "code",
   "execution_count": 20,
   "metadata": {
    "colab": {
     "base_uri": "https://localhost:8080/",
     "height": 0
    },
    "colab_type": "code",
    "id": "Np8pYKgHQQiH",
    "outputId": "82e559b8-eabd-4283-b5f1-4408e0299b22"
   },
   "outputs": [
    {
     "data": {
      "text/html": [
       "<div>\n",
       "<style scoped>\n",
       "    .dataframe tbody tr th:only-of-type {\n",
       "        vertical-align: middle;\n",
       "    }\n",
       "\n",
       "    .dataframe tbody tr th {\n",
       "        vertical-align: top;\n",
       "    }\n",
       "\n",
       "    .dataframe thead th {\n",
       "        text-align: right;\n",
       "    }\n",
       "</style>\n",
       "<table border=\"1\" class=\"dataframe\">\n",
       "  <thead>\n",
       "    <tr style=\"text-align: right;\">\n",
       "      <th></th>\n",
       "      <th>A</th>\n",
       "      <th>B</th>\n",
       "    </tr>\n",
       "  </thead>\n",
       "  <tbody>\n",
       "    <tr>\n",
       "      <th>2013-01-02</th>\n",
       "      <td>1.756228</td>\n",
       "      <td>1.084116</td>\n",
       "    </tr>\n",
       "    <tr>\n",
       "      <th>2013-01-03</th>\n",
       "      <td>0.059389</td>\n",
       "      <td>0.212852</td>\n",
       "    </tr>\n",
       "    <tr>\n",
       "      <th>2013-01-04</th>\n",
       "      <td>-1.808922</td>\n",
       "      <td>0.894554</td>\n",
       "    </tr>\n",
       "  </tbody>\n",
       "</table>\n",
       "</div>"
      ],
      "text/plain": [
       "                   A         B\n",
       "2013-01-02  1.756228  1.084116\n",
       "2013-01-03  0.059389  0.212852\n",
       "2013-01-04 -1.808922  0.894554"
      ]
     },
     "execution_count": 20,
     "metadata": {},
     "output_type": "execute_result"
    }
   ],
   "source": [
    "df.loc['20130102':'20130104',['A','B']]"
   ]
  },
  {
   "cell_type": "markdown",
   "metadata": {
    "colab_type": "text",
    "id": "61Ra1L8eQQiL"
   },
   "source": [
    "### Seleccion por Posicion"
   ]
  },
  {
   "cell_type": "code",
   "execution_count": 21,
   "metadata": {
    "colab": {
     "base_uri": "https://localhost:8080/",
     "height": 0
    },
    "colab_type": "code",
    "id": "rfMv2styQQiN",
    "outputId": "e546397e-0628-483e-f641-1dc23c3302ee"
   },
   "outputs": [
    {
     "data": {
      "text/plain": [
       "A   -1.808922\n",
       "B    0.894554\n",
       "C   -1.115373\n",
       "D    1.094575\n",
       "Name: 2013-01-04 00:00:00, dtype: float64"
      ]
     },
     "execution_count": 21,
     "metadata": {},
     "output_type": "execute_result"
    }
   ],
   "source": [
    "df.iloc[3]"
   ]
  },
  {
   "cell_type": "code",
   "execution_count": 22,
   "metadata": {
    "colab": {
     "base_uri": "https://localhost:8080/",
     "height": 0
    },
    "colab_type": "code",
    "id": "2FjPXLJuQQiW",
    "outputId": "3a133cfe-33da-44e0-c7ba-ff380f0cb83a"
   },
   "outputs": [
    {
     "data": {
      "text/html": [
       "<div>\n",
       "<style scoped>\n",
       "    .dataframe tbody tr th:only-of-type {\n",
       "        vertical-align: middle;\n",
       "    }\n",
       "\n",
       "    .dataframe tbody tr th {\n",
       "        vertical-align: top;\n",
       "    }\n",
       "\n",
       "    .dataframe thead th {\n",
       "        text-align: right;\n",
       "    }\n",
       "</style>\n",
       "<table border=\"1\" class=\"dataframe\">\n",
       "  <thead>\n",
       "    <tr style=\"text-align: right;\">\n",
       "      <th></th>\n",
       "      <th>A</th>\n",
       "      <th>B</th>\n",
       "    </tr>\n",
       "  </thead>\n",
       "  <tbody>\n",
       "    <tr>\n",
       "      <th>2013-01-04</th>\n",
       "      <td>-1.808922</td>\n",
       "      <td>0.894554</td>\n",
       "    </tr>\n",
       "    <tr>\n",
       "      <th>2013-01-05</th>\n",
       "      <td>0.766672</td>\n",
       "      <td>-0.217860</td>\n",
       "    </tr>\n",
       "  </tbody>\n",
       "</table>\n",
       "</div>"
      ],
      "text/plain": [
       "                   A         B\n",
       "2013-01-04 -1.808922  0.894554\n",
       "2013-01-05  0.766672 -0.217860"
      ]
     },
     "execution_count": 22,
     "metadata": {},
     "output_type": "execute_result"
    }
   ],
   "source": [
    "df.iloc[3:5,0:2]"
   ]
  },
  {
   "cell_type": "code",
   "execution_count": 23,
   "metadata": {
    "colab": {
     "base_uri": "https://localhost:8080/",
     "height": 0
    },
    "colab_type": "code",
    "id": "hYjAuSa3QQif",
    "outputId": "bfd75a9b-19ae-42ec-e00d-edb85bbe1f5b"
   },
   "outputs": [
    {
     "data": {
      "text/html": [
       "<div>\n",
       "<style scoped>\n",
       "    .dataframe tbody tr th:only-of-type {\n",
       "        vertical-align: middle;\n",
       "    }\n",
       "\n",
       "    .dataframe tbody tr th {\n",
       "        vertical-align: top;\n",
       "    }\n",
       "\n",
       "    .dataframe thead th {\n",
       "        text-align: right;\n",
       "    }\n",
       "</style>\n",
       "<table border=\"1\" class=\"dataframe\">\n",
       "  <thead>\n",
       "    <tr style=\"text-align: right;\">\n",
       "      <th></th>\n",
       "      <th>A</th>\n",
       "      <th>B</th>\n",
       "      <th>C</th>\n",
       "      <th>D</th>\n",
       "    </tr>\n",
       "  </thead>\n",
       "  <tbody>\n",
       "    <tr>\n",
       "      <th>2013-01-02</th>\n",
       "      <td>1.756228</td>\n",
       "      <td>1.084116</td>\n",
       "      <td>-0.710002</td>\n",
       "      <td>-0.094943</td>\n",
       "    </tr>\n",
       "    <tr>\n",
       "      <th>2013-01-03</th>\n",
       "      <td>0.059389</td>\n",
       "      <td>0.212852</td>\n",
       "      <td>0.195152</td>\n",
       "      <td>1.548024</td>\n",
       "    </tr>\n",
       "  </tbody>\n",
       "</table>\n",
       "</div>"
      ],
      "text/plain": [
       "                   A         B         C         D\n",
       "2013-01-02  1.756228  1.084116 -0.710002 -0.094943\n",
       "2013-01-03  0.059389  0.212852  0.195152  1.548024"
      ]
     },
     "execution_count": 23,
     "metadata": {},
     "output_type": "execute_result"
    }
   ],
   "source": [
    "df.iloc[1:3,:]"
   ]
  },
  {
   "cell_type": "code",
   "execution_count": 24,
   "metadata": {
    "colab": {
     "base_uri": "https://localhost:8080/",
     "height": 0
    },
    "colab_type": "code",
    "id": "864oPj2lQQip",
    "outputId": "eccb231b-9adb-422b-b948-235bafe23fb8"
   },
   "outputs": [
    {
     "data": {
      "text/html": [
       "<div>\n",
       "<style scoped>\n",
       "    .dataframe tbody tr th:only-of-type {\n",
       "        vertical-align: middle;\n",
       "    }\n",
       "\n",
       "    .dataframe tbody tr th {\n",
       "        vertical-align: top;\n",
       "    }\n",
       "\n",
       "    .dataframe thead th {\n",
       "        text-align: right;\n",
       "    }\n",
       "</style>\n",
       "<table border=\"1\" class=\"dataframe\">\n",
       "  <thead>\n",
       "    <tr style=\"text-align: right;\">\n",
       "      <th></th>\n",
       "      <th>A</th>\n",
       "      <th>C</th>\n",
       "    </tr>\n",
       "  </thead>\n",
       "  <tbody>\n",
       "    <tr>\n",
       "      <th>2013-01-02</th>\n",
       "      <td>1.756228</td>\n",
       "      <td>-0.710002</td>\n",
       "    </tr>\n",
       "    <tr>\n",
       "      <th>2013-01-03</th>\n",
       "      <td>0.059389</td>\n",
       "      <td>0.195152</td>\n",
       "    </tr>\n",
       "    <tr>\n",
       "      <th>2013-01-05</th>\n",
       "      <td>0.766672</td>\n",
       "      <td>-0.022103</td>\n",
       "    </tr>\n",
       "  </tbody>\n",
       "</table>\n",
       "</div>"
      ],
      "text/plain": [
       "                   A         C\n",
       "2013-01-02  1.756228 -0.710002\n",
       "2013-01-03  0.059389  0.195152\n",
       "2013-01-05  0.766672 -0.022103"
      ]
     },
     "execution_count": 24,
     "metadata": {},
     "output_type": "execute_result"
    }
   ],
   "source": [
    "df.iloc[[1,2,4],[0,2]]"
   ]
  },
  {
   "cell_type": "markdown",
   "metadata": {
    "colab_type": "text",
    "id": "u6V77cqeQQiv"
   },
   "source": [
    "## Valores no definidos"
   ]
  },
  {
   "cell_type": "markdown",
   "metadata": {
    "colab_type": "text",
    "id": "dbO-iZt0QQiw"
   },
   "source": [
    "Comprobamos cómo se puede trabajar para eliminar / obviar la inclusión de valores no definidos en los conjuntos de datos."
   ]
  },
  {
   "cell_type": "code",
   "execution_count": 25,
   "metadata": {
    "colab": {
     "base_uri": "https://localhost:8080/",
     "height": 175
    },
    "colab_type": "code",
    "id": "q-6TAkplQQix",
    "outputId": "7bea72d0-c095-4a28-feb7-a100e13e3376"
   },
   "outputs": [
    {
     "data": {
      "text/html": [
       "<div>\n",
       "<style scoped>\n",
       "    .dataframe tbody tr th:only-of-type {\n",
       "        vertical-align: middle;\n",
       "    }\n",
       "\n",
       "    .dataframe tbody tr th {\n",
       "        vertical-align: top;\n",
       "    }\n",
       "\n",
       "    .dataframe thead th {\n",
       "        text-align: right;\n",
       "    }\n",
       "</style>\n",
       "<table border=\"1\" class=\"dataframe\">\n",
       "  <thead>\n",
       "    <tr style=\"text-align: right;\">\n",
       "      <th></th>\n",
       "      <th>A</th>\n",
       "      <th>B</th>\n",
       "      <th>C</th>\n",
       "      <th>D</th>\n",
       "      <th>E</th>\n",
       "    </tr>\n",
       "  </thead>\n",
       "  <tbody>\n",
       "    <tr>\n",
       "      <th>2013-01-01</th>\n",
       "      <td>-1.164156</td>\n",
       "      <td>0.690580</td>\n",
       "      <td>0.074791</td>\n",
       "      <td>-0.619303</td>\n",
       "      <td>1.0</td>\n",
       "    </tr>\n",
       "    <tr>\n",
       "      <th>2013-01-02</th>\n",
       "      <td>1.756228</td>\n",
       "      <td>1.084116</td>\n",
       "      <td>-0.710002</td>\n",
       "      <td>-0.094943</td>\n",
       "      <td>1.0</td>\n",
       "    </tr>\n",
       "    <tr>\n",
       "      <th>2013-01-03</th>\n",
       "      <td>0.059389</td>\n",
       "      <td>0.212852</td>\n",
       "      <td>0.195152</td>\n",
       "      <td>1.548024</td>\n",
       "      <td>NaN</td>\n",
       "    </tr>\n",
       "    <tr>\n",
       "      <th>2013-01-04</th>\n",
       "      <td>-1.808922</td>\n",
       "      <td>0.894554</td>\n",
       "      <td>-1.115373</td>\n",
       "      <td>1.094575</td>\n",
       "      <td>NaN</td>\n",
       "    </tr>\n",
       "  </tbody>\n",
       "</table>\n",
       "</div>"
      ],
      "text/plain": [
       "                   A         B         C         D    E\n",
       "2013-01-01 -1.164156  0.690580  0.074791 -0.619303  1.0\n",
       "2013-01-02  1.756228  1.084116 -0.710002 -0.094943  1.0\n",
       "2013-01-03  0.059389  0.212852  0.195152  1.548024  NaN\n",
       "2013-01-04 -1.808922  0.894554 -1.115373  1.094575  NaN"
      ]
     },
     "execution_count": 25,
     "metadata": {},
     "output_type": "execute_result"
    }
   ],
   "source": [
    "# Se genera un conjunto de datos que incluya no definidos. Por ejemplo incluyendo una nueva columna 'E'\n",
    "\n",
    "df1 = df.reindex(index=dates[0:4], columns=list(df.columns) + ['E'])\n",
    "df1.loc[dates[0]:dates[1],'E'] = 1\n",
    "df1"
   ]
  },
  {
   "cell_type": "markdown",
   "metadata": {
    "colab_type": "text",
    "id": "PDzPg87hQQi1"
   },
   "source": [
    "Podemos realizar varias operaciones:\n",
    "- Eliminar del conjunto los valores indefinidos\n",
    "- Incluir un valor por defecto (con cuidado de no variar en exceso el conjunto de datos)"
   ]
  },
  {
   "cell_type": "code",
   "execution_count": 26,
   "metadata": {
    "colab": {
     "base_uri": "https://localhost:8080/",
     "height": 112
    },
    "colab_type": "code",
    "id": "TlGohj9IQQi2",
    "outputId": "7b8df646-b728-438e-d061-0f83e9773d89"
   },
   "outputs": [
    {
     "data": {
      "text/html": [
       "<div>\n",
       "<style scoped>\n",
       "    .dataframe tbody tr th:only-of-type {\n",
       "        vertical-align: middle;\n",
       "    }\n",
       "\n",
       "    .dataframe tbody tr th {\n",
       "        vertical-align: top;\n",
       "    }\n",
       "\n",
       "    .dataframe thead th {\n",
       "        text-align: right;\n",
       "    }\n",
       "</style>\n",
       "<table border=\"1\" class=\"dataframe\">\n",
       "  <thead>\n",
       "    <tr style=\"text-align: right;\">\n",
       "      <th></th>\n",
       "      <th>A</th>\n",
       "      <th>B</th>\n",
       "      <th>C</th>\n",
       "      <th>D</th>\n",
       "      <th>E</th>\n",
       "    </tr>\n",
       "  </thead>\n",
       "  <tbody>\n",
       "    <tr>\n",
       "      <th>2013-01-01</th>\n",
       "      <td>-1.164156</td>\n",
       "      <td>0.690580</td>\n",
       "      <td>0.074791</td>\n",
       "      <td>-0.619303</td>\n",
       "      <td>1.0</td>\n",
       "    </tr>\n",
       "    <tr>\n",
       "      <th>2013-01-02</th>\n",
       "      <td>1.756228</td>\n",
       "      <td>1.084116</td>\n",
       "      <td>-0.710002</td>\n",
       "      <td>-0.094943</td>\n",
       "      <td>1.0</td>\n",
       "    </tr>\n",
       "  </tbody>\n",
       "</table>\n",
       "</div>"
      ],
      "text/plain": [
       "                   A         B         C         D    E\n",
       "2013-01-01 -1.164156  0.690580  0.074791 -0.619303  1.0\n",
       "2013-01-02  1.756228  1.084116 -0.710002 -0.094943  1.0"
      ]
     },
     "execution_count": 26,
     "metadata": {},
     "output_type": "execute_result"
    }
   ],
   "source": [
    "# Eliminación de elementos no definidos\n",
    "df1.dropna(how='any')"
   ]
  },
  {
   "cell_type": "code",
   "execution_count": 27,
   "metadata": {
    "colab": {
     "base_uri": "https://localhost:8080/",
     "height": 175
    },
    "colab_type": "code",
    "id": "1IbwD_w2QQi5",
    "outputId": "9e1f7c20-81ec-4c58-a99b-85c1564ef6b7"
   },
   "outputs": [
    {
     "data": {
      "text/html": [
       "<div>\n",
       "<style scoped>\n",
       "    .dataframe tbody tr th:only-of-type {\n",
       "        vertical-align: middle;\n",
       "    }\n",
       "\n",
       "    .dataframe tbody tr th {\n",
       "        vertical-align: top;\n",
       "    }\n",
       "\n",
       "    .dataframe thead th {\n",
       "        text-align: right;\n",
       "    }\n",
       "</style>\n",
       "<table border=\"1\" class=\"dataframe\">\n",
       "  <thead>\n",
       "    <tr style=\"text-align: right;\">\n",
       "      <th></th>\n",
       "      <th>A</th>\n",
       "      <th>B</th>\n",
       "      <th>C</th>\n",
       "      <th>D</th>\n",
       "      <th>E</th>\n",
       "    </tr>\n",
       "  </thead>\n",
       "  <tbody>\n",
       "    <tr>\n",
       "      <th>2013-01-01</th>\n",
       "      <td>-1.164156</td>\n",
       "      <td>0.690580</td>\n",
       "      <td>0.074791</td>\n",
       "      <td>-0.619303</td>\n",
       "      <td>1.0</td>\n",
       "    </tr>\n",
       "    <tr>\n",
       "      <th>2013-01-02</th>\n",
       "      <td>1.756228</td>\n",
       "      <td>1.084116</td>\n",
       "      <td>-0.710002</td>\n",
       "      <td>-0.094943</td>\n",
       "      <td>1.0</td>\n",
       "    </tr>\n",
       "    <tr>\n",
       "      <th>2013-01-03</th>\n",
       "      <td>0.059389</td>\n",
       "      <td>0.212852</td>\n",
       "      <td>0.195152</td>\n",
       "      <td>1.548024</td>\n",
       "      <td>5.0</td>\n",
       "    </tr>\n",
       "    <tr>\n",
       "      <th>2013-01-04</th>\n",
       "      <td>-1.808922</td>\n",
       "      <td>0.894554</td>\n",
       "      <td>-1.115373</td>\n",
       "      <td>1.094575</td>\n",
       "      <td>5.0</td>\n",
       "    </tr>\n",
       "  </tbody>\n",
       "</table>\n",
       "</div>"
      ],
      "text/plain": [
       "                   A         B         C         D    E\n",
       "2013-01-01 -1.164156  0.690580  0.074791 -0.619303  1.0\n",
       "2013-01-02  1.756228  1.084116 -0.710002 -0.094943  1.0\n",
       "2013-01-03  0.059389  0.212852  0.195152  1.548024  5.0\n",
       "2013-01-04 -1.808922  0.894554 -1.115373  1.094575  5.0"
      ]
     },
     "execution_count": 27,
     "metadata": {},
     "output_type": "execute_result"
    }
   ],
   "source": [
    "# Relleno de elementos\n",
    "df1.fillna(value=5)"
   ]
  },
  {
   "cell_type": "code",
   "execution_count": 28,
   "metadata": {
    "colab": {
     "base_uri": "https://localhost:8080/",
     "height": 175
    },
    "colab_type": "code",
    "id": "dcsbs2eVQQi9",
    "outputId": "07c5f2fb-b02d-4a63-8ad4-c4810fa4d1ea"
   },
   "outputs": [
    {
     "data": {
      "text/html": [
       "<div>\n",
       "<style scoped>\n",
       "    .dataframe tbody tr th:only-of-type {\n",
       "        vertical-align: middle;\n",
       "    }\n",
       "\n",
       "    .dataframe tbody tr th {\n",
       "        vertical-align: top;\n",
       "    }\n",
       "\n",
       "    .dataframe thead th {\n",
       "        text-align: right;\n",
       "    }\n",
       "</style>\n",
       "<table border=\"1\" class=\"dataframe\">\n",
       "  <thead>\n",
       "    <tr style=\"text-align: right;\">\n",
       "      <th></th>\n",
       "      <th>A</th>\n",
       "      <th>B</th>\n",
       "      <th>C</th>\n",
       "      <th>D</th>\n",
       "      <th>E</th>\n",
       "    </tr>\n",
       "  </thead>\n",
       "  <tbody>\n",
       "    <tr>\n",
       "      <th>2013-01-01</th>\n",
       "      <td>-1.164156</td>\n",
       "      <td>0.690580</td>\n",
       "      <td>0.074791</td>\n",
       "      <td>-0.619303</td>\n",
       "      <td>1.0</td>\n",
       "    </tr>\n",
       "    <tr>\n",
       "      <th>2013-01-02</th>\n",
       "      <td>1.756228</td>\n",
       "      <td>1.084116</td>\n",
       "      <td>-0.710002</td>\n",
       "      <td>-0.094943</td>\n",
       "      <td>1.0</td>\n",
       "    </tr>\n",
       "    <tr>\n",
       "      <th>2013-01-03</th>\n",
       "      <td>0.059389</td>\n",
       "      <td>0.212852</td>\n",
       "      <td>0.195152</td>\n",
       "      <td>1.548024</td>\n",
       "      <td>1.0</td>\n",
       "    </tr>\n",
       "    <tr>\n",
       "      <th>2013-01-04</th>\n",
       "      <td>-1.808922</td>\n",
       "      <td>0.894554</td>\n",
       "      <td>-1.115373</td>\n",
       "      <td>1.094575</td>\n",
       "      <td>1.0</td>\n",
       "    </tr>\n",
       "  </tbody>\n",
       "</table>\n",
       "</div>"
      ],
      "text/plain": [
       "                   A         B         C         D    E\n",
       "2013-01-01 -1.164156  0.690580  0.074791 -0.619303  1.0\n",
       "2013-01-02  1.756228  1.084116 -0.710002 -0.094943  1.0\n",
       "2013-01-03  0.059389  0.212852  0.195152  1.548024  1.0\n",
       "2013-01-04 -1.808922  0.894554 -1.115373  1.094575  1.0"
      ]
     },
     "execution_count": 28,
     "metadata": {},
     "output_type": "execute_result"
    }
   ],
   "source": [
    "# Relleno de la columna 'E' con la media de los valores de esa columna\n",
    "df1.fillna(value = df1['E'].mean())"
   ]
  },
  {
   "cell_type": "markdown",
   "metadata": {
    "colab_type": "text",
    "id": "zoLzCBkyQQjE"
   },
   "source": [
    "## Operaciones"
   ]
  },
  {
   "cell_type": "markdown",
   "metadata": {
    "colab_type": "text",
    "id": "ORP3u_eIQQjE"
   },
   "source": [
    "### Agrupaciones"
   ]
  },
  {
   "cell_type": "code",
   "execution_count": 29,
   "metadata": {
    "colab": {
     "base_uri": "https://localhost:8080/",
     "height": 0
    },
    "colab_type": "code",
    "id": "1kUnEROpQQjF",
    "outputId": "b9ccef26-8f92-4a5d-b4c9-42ee987ffdc1"
   },
   "outputs": [
    {
     "data": {
      "text/html": [
       "<div>\n",
       "<style scoped>\n",
       "    .dataframe tbody tr th:only-of-type {\n",
       "        vertical-align: middle;\n",
       "    }\n",
       "\n",
       "    .dataframe tbody tr th {\n",
       "        vertical-align: top;\n",
       "    }\n",
       "\n",
       "    .dataframe thead th {\n",
       "        text-align: right;\n",
       "    }\n",
       "</style>\n",
       "<table border=\"1\" class=\"dataframe\">\n",
       "  <thead>\n",
       "    <tr style=\"text-align: right;\">\n",
       "      <th></th>\n",
       "      <th>A</th>\n",
       "      <th>B</th>\n",
       "      <th>C</th>\n",
       "      <th>D</th>\n",
       "    </tr>\n",
       "  </thead>\n",
       "  <tbody>\n",
       "    <tr>\n",
       "      <th>0</th>\n",
       "      <td>foo</td>\n",
       "      <td>one</td>\n",
       "      <td>-0.449848</td>\n",
       "      <td>-0.506281</td>\n",
       "    </tr>\n",
       "    <tr>\n",
       "      <th>1</th>\n",
       "      <td>bar</td>\n",
       "      <td>one</td>\n",
       "      <td>-1.628905</td>\n",
       "      <td>0.043431</td>\n",
       "    </tr>\n",
       "    <tr>\n",
       "      <th>2</th>\n",
       "      <td>foo</td>\n",
       "      <td>two</td>\n",
       "      <td>0.717007</td>\n",
       "      <td>-1.450891</td>\n",
       "    </tr>\n",
       "    <tr>\n",
       "      <th>3</th>\n",
       "      <td>bar</td>\n",
       "      <td>three</td>\n",
       "      <td>-1.042415</td>\n",
       "      <td>-0.350158</td>\n",
       "    </tr>\n",
       "    <tr>\n",
       "      <th>4</th>\n",
       "      <td>foo</td>\n",
       "      <td>two</td>\n",
       "      <td>-1.387774</td>\n",
       "      <td>0.096411</td>\n",
       "    </tr>\n",
       "    <tr>\n",
       "      <th>5</th>\n",
       "      <td>bar</td>\n",
       "      <td>two</td>\n",
       "      <td>1.464720</td>\n",
       "      <td>0.637322</td>\n",
       "    </tr>\n",
       "    <tr>\n",
       "      <th>6</th>\n",
       "      <td>foo</td>\n",
       "      <td>one</td>\n",
       "      <td>0.183730</td>\n",
       "      <td>1.288061</td>\n",
       "    </tr>\n",
       "    <tr>\n",
       "      <th>7</th>\n",
       "      <td>foo</td>\n",
       "      <td>three</td>\n",
       "      <td>-0.372760</td>\n",
       "      <td>-0.408051</td>\n",
       "    </tr>\n",
       "  </tbody>\n",
       "</table>\n",
       "</div>"
      ],
      "text/plain": [
       "     A      B         C         D\n",
       "0  foo    one -0.449848 -0.506281\n",
       "1  bar    one -1.628905  0.043431\n",
       "2  foo    two  0.717007 -1.450891\n",
       "3  bar  three -1.042415 -0.350158\n",
       "4  foo    two -1.387774  0.096411\n",
       "5  bar    two  1.464720  0.637322\n",
       "6  foo    one  0.183730  1.288061\n",
       "7  foo  three -0.372760 -0.408051"
      ]
     },
     "execution_count": 29,
     "metadata": {},
     "output_type": "execute_result"
    }
   ],
   "source": [
    "df = pd.DataFrame({'A' : ['foo', 'bar', 'foo', 'bar',\n",
    "                          'foo', 'bar', 'foo', 'foo'],\n",
    "                   'B' : ['one', 'one', 'two', 'three',\n",
    "                          'two', 'two', 'one', 'three'],\n",
    "                   'C' : np.random.randn(8),\n",
    "                   'D' : np.random.randn(8)})\n",
    "df"
   ]
  },
  {
   "cell_type": "code",
   "execution_count": 30,
   "metadata": {
    "colab": {
     "base_uri": "https://localhost:8080/",
     "height": 0
    },
    "colab_type": "code",
    "id": "IfM2He6wQQjK",
    "outputId": "5a774a17-7a41-4069-be31-aadb3cee82cf"
   },
   "outputs": [
    {
     "data": {
      "text/html": [
       "<div>\n",
       "<style scoped>\n",
       "    .dataframe tbody tr th:only-of-type {\n",
       "        vertical-align: middle;\n",
       "    }\n",
       "\n",
       "    .dataframe tbody tr th {\n",
       "        vertical-align: top;\n",
       "    }\n",
       "\n",
       "    .dataframe thead th {\n",
       "        text-align: right;\n",
       "    }\n",
       "</style>\n",
       "<table border=\"1\" class=\"dataframe\">\n",
       "  <thead>\n",
       "    <tr style=\"text-align: right;\">\n",
       "      <th></th>\n",
       "      <th>B</th>\n",
       "      <th>C</th>\n",
       "      <th>D</th>\n",
       "    </tr>\n",
       "    <tr>\n",
       "      <th>A</th>\n",
       "      <th></th>\n",
       "      <th></th>\n",
       "      <th></th>\n",
       "    </tr>\n",
       "  </thead>\n",
       "  <tbody>\n",
       "    <tr>\n",
       "      <th>bar</th>\n",
       "      <td>3</td>\n",
       "      <td>3</td>\n",
       "      <td>3</td>\n",
       "    </tr>\n",
       "    <tr>\n",
       "      <th>foo</th>\n",
       "      <td>5</td>\n",
       "      <td>5</td>\n",
       "      <td>5</td>\n",
       "    </tr>\n",
       "  </tbody>\n",
       "</table>\n",
       "</div>"
      ],
      "text/plain": [
       "     B  C  D\n",
       "A           \n",
       "bar  3  3  3\n",
       "foo  5  5  5"
      ]
     },
     "execution_count": 30,
     "metadata": {},
     "output_type": "execute_result"
    }
   ],
   "source": [
    "df.groupby('A').count()"
   ]
  },
  {
   "cell_type": "code",
   "execution_count": 31,
   "metadata": {
    "colab": {
     "base_uri": "https://localhost:8080/",
     "height": 0
    },
    "colab_type": "code",
    "id": "e7sqSQBvQQjQ",
    "outputId": "7d6ada50-e724-4a14-d01a-281ffe19262f"
   },
   "outputs": [
    {
     "data": {
      "text/html": [
       "<div>\n",
       "<style scoped>\n",
       "    .dataframe tbody tr th:only-of-type {\n",
       "        vertical-align: middle;\n",
       "    }\n",
       "\n",
       "    .dataframe tbody tr th {\n",
       "        vertical-align: top;\n",
       "    }\n",
       "\n",
       "    .dataframe thead th {\n",
       "        text-align: right;\n",
       "    }\n",
       "</style>\n",
       "<table border=\"1\" class=\"dataframe\">\n",
       "  <thead>\n",
       "    <tr style=\"text-align: right;\">\n",
       "      <th></th>\n",
       "      <th></th>\n",
       "      <th>C</th>\n",
       "      <th>D</th>\n",
       "    </tr>\n",
       "    <tr>\n",
       "      <th>A</th>\n",
       "      <th>B</th>\n",
       "      <th></th>\n",
       "      <th></th>\n",
       "    </tr>\n",
       "  </thead>\n",
       "  <tbody>\n",
       "    <tr>\n",
       "      <th rowspan=\"3\" valign=\"top\">bar</th>\n",
       "      <th>one</th>\n",
       "      <td>-1.628905</td>\n",
       "      <td>0.043431</td>\n",
       "    </tr>\n",
       "    <tr>\n",
       "      <th>three</th>\n",
       "      <td>-1.042415</td>\n",
       "      <td>-0.350158</td>\n",
       "    </tr>\n",
       "    <tr>\n",
       "      <th>two</th>\n",
       "      <td>1.464720</td>\n",
       "      <td>0.637322</td>\n",
       "    </tr>\n",
       "    <tr>\n",
       "      <th rowspan=\"3\" valign=\"top\">foo</th>\n",
       "      <th>one</th>\n",
       "      <td>-0.266118</td>\n",
       "      <td>0.781779</td>\n",
       "    </tr>\n",
       "    <tr>\n",
       "      <th>three</th>\n",
       "      <td>-0.372760</td>\n",
       "      <td>-0.408051</td>\n",
       "    </tr>\n",
       "    <tr>\n",
       "      <th>two</th>\n",
       "      <td>-0.670767</td>\n",
       "      <td>-1.354481</td>\n",
       "    </tr>\n",
       "  </tbody>\n",
       "</table>\n",
       "</div>"
      ],
      "text/plain": [
       "                  C         D\n",
       "A   B                        \n",
       "bar one   -1.628905  0.043431\n",
       "    three -1.042415 -0.350158\n",
       "    two    1.464720  0.637322\n",
       "foo one   -0.266118  0.781779\n",
       "    three -0.372760 -0.408051\n",
       "    two   -0.670767 -1.354481"
      ]
     },
     "execution_count": 31,
     "metadata": {},
     "output_type": "execute_result"
    }
   ],
   "source": [
    "df.groupby(['A','B']).sum()"
   ]
  },
  {
   "cell_type": "markdown",
   "metadata": {
    "colab_type": "text",
    "id": "el6KdoojQQjU"
   },
   "source": [
    "### Aplicar Funciones"
   ]
  },
  {
   "cell_type": "markdown",
   "metadata": {
    "colab_type": "text",
    "id": "aKWzqEFtQQjV"
   },
   "source": [
    "Se pueden definir al vuelo funciones lambda (anónimas) que se aplican a todas (o un subconjunto) de las columnas de la tabla.   \n",
    "Resultan muy útiles para obtener campos calculados a partir de los datos originales."
   ]
  },
  {
   "cell_type": "code",
   "execution_count": 32,
   "metadata": {
    "colab": {
     "base_uri": "https://localhost:8080/",
     "height": 0
    },
    "colab_type": "code",
    "id": "d7dGL3-MQQjV",
    "outputId": "3393f180-63de-4f5b-bb57-d6b73a1d07b9"
   },
   "outputs": [
    {
     "data": {
      "text/plain": [
       "A    3.565150\n",
       "B    0.871264\n",
       "C    1.310525\n",
       "D    2.167327\n",
       "E    0.000000\n",
       "dtype: float64"
      ]
     },
     "execution_count": 32,
     "metadata": {},
     "output_type": "execute_result"
    }
   ],
   "source": [
    "#Ej: Se calula la diferencia entre el mayor y el menor valor de cada columna\n",
    "df1.apply(lambda x: x.max() - x.min())"
   ]
  },
  {
   "cell_type": "markdown",
   "metadata": {
    "colab_type": "text",
    "id": "LXnH1Y5_QQjY"
   },
   "source": [
    "### Mezclas"
   ]
  },
  {
   "cell_type": "markdown",
   "metadata": {
    "colab_type": "text",
    "id": "4UacswZCQQja"
   },
   "source": [
    "#### Concatenación (horizontal)"
   ]
  },
  {
   "cell_type": "code",
   "execution_count": 33,
   "metadata": {
    "colab": {
     "base_uri": "https://localhost:8080/",
     "height": 0
    },
    "colab_type": "code",
    "id": "gNvGe7ytQQjb",
    "outputId": "c8e56386-d800-4c2e-9b3a-11b9e5b86850"
   },
   "outputs": [
    {
     "data": {
      "text/html": [
       "<div>\n",
       "<style scoped>\n",
       "    .dataframe tbody tr th:only-of-type {\n",
       "        vertical-align: middle;\n",
       "    }\n",
       "\n",
       "    .dataframe tbody tr th {\n",
       "        vertical-align: top;\n",
       "    }\n",
       "\n",
       "    .dataframe thead th {\n",
       "        text-align: right;\n",
       "    }\n",
       "</style>\n",
       "<table border=\"1\" class=\"dataframe\">\n",
       "  <thead>\n",
       "    <tr style=\"text-align: right;\">\n",
       "      <th></th>\n",
       "      <th>0</th>\n",
       "      <th>1</th>\n",
       "      <th>2</th>\n",
       "      <th>3</th>\n",
       "    </tr>\n",
       "  </thead>\n",
       "  <tbody>\n",
       "    <tr>\n",
       "      <th>0</th>\n",
       "      <td>-0.640357</td>\n",
       "      <td>0.150207</td>\n",
       "      <td>0.785060</td>\n",
       "      <td>1.187271</td>\n",
       "    </tr>\n",
       "    <tr>\n",
       "      <th>1</th>\n",
       "      <td>-0.522299</td>\n",
       "      <td>0.657273</td>\n",
       "      <td>1.902210</td>\n",
       "      <td>-1.012180</td>\n",
       "    </tr>\n",
       "    <tr>\n",
       "      <th>2</th>\n",
       "      <td>1.696184</td>\n",
       "      <td>-0.307514</td>\n",
       "      <td>-0.764651</td>\n",
       "      <td>-0.750342</td>\n",
       "    </tr>\n",
       "    <tr>\n",
       "      <th>3</th>\n",
       "      <td>0.069484</td>\n",
       "      <td>0.917404</td>\n",
       "      <td>-1.194906</td>\n",
       "      <td>1.964568</td>\n",
       "    </tr>\n",
       "    <tr>\n",
       "      <th>4</th>\n",
       "      <td>-0.484283</td>\n",
       "      <td>0.664582</td>\n",
       "      <td>-2.349547</td>\n",
       "      <td>0.507396</td>\n",
       "    </tr>\n",
       "    <tr>\n",
       "      <th>5</th>\n",
       "      <td>-0.913620</td>\n",
       "      <td>-2.219054</td>\n",
       "      <td>-1.708696</td>\n",
       "      <td>-1.222772</td>\n",
       "    </tr>\n",
       "    <tr>\n",
       "      <th>6</th>\n",
       "      <td>1.564124</td>\n",
       "      <td>0.849046</td>\n",
       "      <td>1.031720</td>\n",
       "      <td>1.851642</td>\n",
       "    </tr>\n",
       "    <tr>\n",
       "      <th>7</th>\n",
       "      <td>-0.607281</td>\n",
       "      <td>-0.383629</td>\n",
       "      <td>-0.525918</td>\n",
       "      <td>1.296901</td>\n",
       "    </tr>\n",
       "    <tr>\n",
       "      <th>8</th>\n",
       "      <td>-1.168905</td>\n",
       "      <td>-0.480140</td>\n",
       "      <td>0.491893</td>\n",
       "      <td>-0.976066</td>\n",
       "    </tr>\n",
       "    <tr>\n",
       "      <th>9</th>\n",
       "      <td>0.234934</td>\n",
       "      <td>0.523870</td>\n",
       "      <td>-0.361889</td>\n",
       "      <td>-0.032462</td>\n",
       "    </tr>\n",
       "  </tbody>\n",
       "</table>\n",
       "</div>"
      ],
      "text/plain": [
       "          0         1         2         3\n",
       "0 -0.640357  0.150207  0.785060  1.187271\n",
       "1 -0.522299  0.657273  1.902210 -1.012180\n",
       "2  1.696184 -0.307514 -0.764651 -0.750342\n",
       "3  0.069484  0.917404 -1.194906  1.964568\n",
       "4 -0.484283  0.664582 -2.349547  0.507396\n",
       "5 -0.913620 -2.219054 -1.708696 -1.222772\n",
       "6  1.564124  0.849046  1.031720  1.851642\n",
       "7 -0.607281 -0.383629 -0.525918  1.296901\n",
       "8 -1.168905 -0.480140  0.491893 -0.976066\n",
       "9  0.234934  0.523870 -0.361889 -0.032462"
      ]
     },
     "execution_count": 33,
     "metadata": {},
     "output_type": "execute_result"
    }
   ],
   "source": [
    "# Se genera un conjunto de datos aleatorio (grande)\n",
    "df = pd.DataFrame(np.random.randn(10, 4))\n",
    "df"
   ]
  },
  {
   "cell_type": "code",
   "execution_count": 34,
   "metadata": {
    "colab": {
     "base_uri": "https://localhost:8080/",
     "height": 0
    },
    "colab_type": "code",
    "id": "Y751yaJrQQje",
    "outputId": "a3b101dd-f145-44f6-f8f4-669145014ebd"
   },
   "outputs": [
    {
     "data": {
      "text/plain": [
       "[          0         1         2         3\n",
       " 0 -0.640357  0.150207  0.785060  1.187271\n",
       " 1 -0.522299  0.657273  1.902210 -1.012180\n",
       " 2  1.696184 -0.307514 -0.764651 -0.750342,\n",
       "           0         1         2         3\n",
       " 3  0.069484  0.917404 -1.194906  1.964568\n",
       " 4 -0.484283  0.664582 -2.349547  0.507396\n",
       " 5 -0.913620 -2.219054 -1.708696 -1.222772\n",
       " 6  1.564124  0.849046  1.031720  1.851642,\n",
       "           0         1         2         3\n",
       " 7 -0.607281 -0.383629 -0.525918  1.296901\n",
       " 8 -1.168905 -0.480140  0.491893 -0.976066\n",
       " 9  0.234934  0.523870 -0.361889 -0.032462]"
      ]
     },
     "execution_count": 34,
     "metadata": {},
     "output_type": "execute_result"
    }
   ],
   "source": [
    "# Se reparte en varios trozos\n",
    "pieces = [df[:3], df[3:7], df[7:]]\n",
    "pieces"
   ]
  },
  {
   "cell_type": "code",
   "execution_count": 35,
   "metadata": {
    "colab": {
     "base_uri": "https://localhost:8080/",
     "height": 0
    },
    "colab_type": "code",
    "id": "1-8vHgFEQQjj",
    "outputId": "092ff0c2-b074-408a-c985-204ded902284"
   },
   "outputs": [
    {
     "data": {
      "text/html": [
       "<div>\n",
       "<style scoped>\n",
       "    .dataframe tbody tr th:only-of-type {\n",
       "        vertical-align: middle;\n",
       "    }\n",
       "\n",
       "    .dataframe tbody tr th {\n",
       "        vertical-align: top;\n",
       "    }\n",
       "\n",
       "    .dataframe thead th {\n",
       "        text-align: right;\n",
       "    }\n",
       "</style>\n",
       "<table border=\"1\" class=\"dataframe\">\n",
       "  <thead>\n",
       "    <tr style=\"text-align: right;\">\n",
       "      <th></th>\n",
       "      <th>0</th>\n",
       "      <th>1</th>\n",
       "      <th>2</th>\n",
       "      <th>3</th>\n",
       "    </tr>\n",
       "  </thead>\n",
       "  <tbody>\n",
       "    <tr>\n",
       "      <th>0</th>\n",
       "      <td>-0.640357</td>\n",
       "      <td>0.150207</td>\n",
       "      <td>0.785060</td>\n",
       "      <td>1.187271</td>\n",
       "    </tr>\n",
       "    <tr>\n",
       "      <th>1</th>\n",
       "      <td>-0.522299</td>\n",
       "      <td>0.657273</td>\n",
       "      <td>1.902210</td>\n",
       "      <td>-1.012180</td>\n",
       "    </tr>\n",
       "    <tr>\n",
       "      <th>2</th>\n",
       "      <td>1.696184</td>\n",
       "      <td>-0.307514</td>\n",
       "      <td>-0.764651</td>\n",
       "      <td>-0.750342</td>\n",
       "    </tr>\n",
       "    <tr>\n",
       "      <th>3</th>\n",
       "      <td>0.069484</td>\n",
       "      <td>0.917404</td>\n",
       "      <td>-1.194906</td>\n",
       "      <td>1.964568</td>\n",
       "    </tr>\n",
       "    <tr>\n",
       "      <th>4</th>\n",
       "      <td>-0.484283</td>\n",
       "      <td>0.664582</td>\n",
       "      <td>-2.349547</td>\n",
       "      <td>0.507396</td>\n",
       "    </tr>\n",
       "    <tr>\n",
       "      <th>5</th>\n",
       "      <td>-0.913620</td>\n",
       "      <td>-2.219054</td>\n",
       "      <td>-1.708696</td>\n",
       "      <td>-1.222772</td>\n",
       "    </tr>\n",
       "    <tr>\n",
       "      <th>6</th>\n",
       "      <td>1.564124</td>\n",
       "      <td>0.849046</td>\n",
       "      <td>1.031720</td>\n",
       "      <td>1.851642</td>\n",
       "    </tr>\n",
       "    <tr>\n",
       "      <th>7</th>\n",
       "      <td>-0.607281</td>\n",
       "      <td>-0.383629</td>\n",
       "      <td>-0.525918</td>\n",
       "      <td>1.296901</td>\n",
       "    </tr>\n",
       "    <tr>\n",
       "      <th>8</th>\n",
       "      <td>-1.168905</td>\n",
       "      <td>-0.480140</td>\n",
       "      <td>0.491893</td>\n",
       "      <td>-0.976066</td>\n",
       "    </tr>\n",
       "    <tr>\n",
       "      <th>9</th>\n",
       "      <td>0.234934</td>\n",
       "      <td>0.523870</td>\n",
       "      <td>-0.361889</td>\n",
       "      <td>-0.032462</td>\n",
       "    </tr>\n",
       "  </tbody>\n",
       "</table>\n",
       "</div>"
      ],
      "text/plain": [
       "          0         1         2         3\n",
       "0 -0.640357  0.150207  0.785060  1.187271\n",
       "1 -0.522299  0.657273  1.902210 -1.012180\n",
       "2  1.696184 -0.307514 -0.764651 -0.750342\n",
       "3  0.069484  0.917404 -1.194906  1.964568\n",
       "4 -0.484283  0.664582 -2.349547  0.507396\n",
       "5 -0.913620 -2.219054 -1.708696 -1.222772\n",
       "6  1.564124  0.849046  1.031720  1.851642\n",
       "7 -0.607281 -0.383629 -0.525918  1.296901\n",
       "8 -1.168905 -0.480140  0.491893 -0.976066\n",
       "9  0.234934  0.523870 -0.361889 -0.032462"
      ]
     },
     "execution_count": 35,
     "metadata": {},
     "output_type": "execute_result"
    }
   ],
   "source": [
    "# Se constuye otro DataFrame que contiene las piezas concatenadas\n",
    "df2 = pd.concat(pieces)\n",
    "df2"
   ]
  },
  {
   "cell_type": "code",
   "execution_count": 36,
   "metadata": {
    "colab": {
     "base_uri": "https://localhost:8080/",
     "height": 0
    },
    "colab_type": "code",
    "id": "Y6553rBWQQjo",
    "outputId": "6f07744f-14c6-4a7d-cf2f-89c09ae1dc14"
   },
   "outputs": [
    {
     "data": {
      "text/html": [
       "<div>\n",
       "<style scoped>\n",
       "    .dataframe tbody tr th:only-of-type {\n",
       "        vertical-align: middle;\n",
       "    }\n",
       "\n",
       "    .dataframe tbody tr th {\n",
       "        vertical-align: top;\n",
       "    }\n",
       "\n",
       "    .dataframe thead th {\n",
       "        text-align: right;\n",
       "    }\n",
       "</style>\n",
       "<table border=\"1\" class=\"dataframe\">\n",
       "  <thead>\n",
       "    <tr style=\"text-align: right;\">\n",
       "      <th></th>\n",
       "      <th>0</th>\n",
       "      <th>1</th>\n",
       "      <th>2</th>\n",
       "      <th>3</th>\n",
       "    </tr>\n",
       "  </thead>\n",
       "  <tbody>\n",
       "    <tr>\n",
       "      <th>0</th>\n",
       "      <td>True</td>\n",
       "      <td>True</td>\n",
       "      <td>True</td>\n",
       "      <td>True</td>\n",
       "    </tr>\n",
       "    <tr>\n",
       "      <th>1</th>\n",
       "      <td>True</td>\n",
       "      <td>True</td>\n",
       "      <td>True</td>\n",
       "      <td>True</td>\n",
       "    </tr>\n",
       "    <tr>\n",
       "      <th>2</th>\n",
       "      <td>True</td>\n",
       "      <td>True</td>\n",
       "      <td>True</td>\n",
       "      <td>True</td>\n",
       "    </tr>\n",
       "    <tr>\n",
       "      <th>3</th>\n",
       "      <td>True</td>\n",
       "      <td>True</td>\n",
       "      <td>True</td>\n",
       "      <td>True</td>\n",
       "    </tr>\n",
       "    <tr>\n",
       "      <th>4</th>\n",
       "      <td>True</td>\n",
       "      <td>True</td>\n",
       "      <td>True</td>\n",
       "      <td>True</td>\n",
       "    </tr>\n",
       "    <tr>\n",
       "      <th>5</th>\n",
       "      <td>True</td>\n",
       "      <td>True</td>\n",
       "      <td>True</td>\n",
       "      <td>True</td>\n",
       "    </tr>\n",
       "    <tr>\n",
       "      <th>6</th>\n",
       "      <td>True</td>\n",
       "      <td>True</td>\n",
       "      <td>True</td>\n",
       "      <td>True</td>\n",
       "    </tr>\n",
       "    <tr>\n",
       "      <th>7</th>\n",
       "      <td>True</td>\n",
       "      <td>True</td>\n",
       "      <td>True</td>\n",
       "      <td>True</td>\n",
       "    </tr>\n",
       "    <tr>\n",
       "      <th>8</th>\n",
       "      <td>True</td>\n",
       "      <td>True</td>\n",
       "      <td>True</td>\n",
       "      <td>True</td>\n",
       "    </tr>\n",
       "    <tr>\n",
       "      <th>9</th>\n",
       "      <td>True</td>\n",
       "      <td>True</td>\n",
       "      <td>True</td>\n",
       "      <td>True</td>\n",
       "    </tr>\n",
       "  </tbody>\n",
       "</table>\n",
       "</div>"
      ],
      "text/plain": [
       "      0     1     2     3\n",
       "0  True  True  True  True\n",
       "1  True  True  True  True\n",
       "2  True  True  True  True\n",
       "3  True  True  True  True\n",
       "4  True  True  True  True\n",
       "5  True  True  True  True\n",
       "6  True  True  True  True\n",
       "7  True  True  True  True\n",
       "8  True  True  True  True\n",
       "9  True  True  True  True"
      ]
     },
     "execution_count": 36,
     "metadata": {},
     "output_type": "execute_result"
    }
   ],
   "source": [
    "# Se puede comprobar que son iguales\n",
    "df == df2"
   ]
  },
  {
   "cell_type": "markdown",
   "metadata": {
    "colab_type": "text",
    "id": "PIs_TGOvQQju"
   },
   "source": [
    "### Join (vertical)"
   ]
  },
  {
   "cell_type": "code",
   "execution_count": 37,
   "metadata": {
    "colab": {
     "base_uri": "https://localhost:8080/",
     "height": 0
    },
    "colab_type": "code",
    "id": "c6atupWgQQjw",
    "outputId": "ffc3ef9e-ff9f-4a40-94cf-29b9bc1d993c"
   },
   "outputs": [
    {
     "data": {
      "text/html": [
       "<div>\n",
       "<style scoped>\n",
       "    .dataframe tbody tr th:only-of-type {\n",
       "        vertical-align: middle;\n",
       "    }\n",
       "\n",
       "    .dataframe tbody tr th {\n",
       "        vertical-align: top;\n",
       "    }\n",
       "\n",
       "    .dataframe thead th {\n",
       "        text-align: right;\n",
       "    }\n",
       "</style>\n",
       "<table border=\"1\" class=\"dataframe\">\n",
       "  <thead>\n",
       "    <tr style=\"text-align: right;\">\n",
       "      <th></th>\n",
       "      <th>key</th>\n",
       "      <th>lval</th>\n",
       "    </tr>\n",
       "  </thead>\n",
       "  <tbody>\n",
       "    <tr>\n",
       "      <th>0</th>\n",
       "      <td>foo</td>\n",
       "      <td>1</td>\n",
       "    </tr>\n",
       "    <tr>\n",
       "      <th>1</th>\n",
       "      <td>foo</td>\n",
       "      <td>2</td>\n",
       "    </tr>\n",
       "  </tbody>\n",
       "</table>\n",
       "</div>"
      ],
      "text/plain": [
       "   key  lval\n",
       "0  foo     1\n",
       "1  foo     2"
      ]
     },
     "execution_count": 37,
     "metadata": {},
     "output_type": "execute_result"
    }
   ],
   "source": [
    "left = pd.DataFrame({'key': ['foo', 'foo'], 'lval': [1, 2]})\n",
    "left"
   ]
  },
  {
   "cell_type": "code",
   "execution_count": 38,
   "metadata": {
    "colab": {
     "base_uri": "https://localhost:8080/",
     "height": 0
    },
    "colab_type": "code",
    "id": "6RD-tHYbQQj0",
    "outputId": "12b76eb1-ffe7-4aee-f20e-6c6a7554f135"
   },
   "outputs": [
    {
     "data": {
      "text/html": [
       "<div>\n",
       "<style scoped>\n",
       "    .dataframe tbody tr th:only-of-type {\n",
       "        vertical-align: middle;\n",
       "    }\n",
       "\n",
       "    .dataframe tbody tr th {\n",
       "        vertical-align: top;\n",
       "    }\n",
       "\n",
       "    .dataframe thead th {\n",
       "        text-align: right;\n",
       "    }\n",
       "</style>\n",
       "<table border=\"1\" class=\"dataframe\">\n",
       "  <thead>\n",
       "    <tr style=\"text-align: right;\">\n",
       "      <th></th>\n",
       "      <th>key</th>\n",
       "      <th>rval</th>\n",
       "    </tr>\n",
       "  </thead>\n",
       "  <tbody>\n",
       "    <tr>\n",
       "      <th>0</th>\n",
       "      <td>foo</td>\n",
       "      <td>4</td>\n",
       "    </tr>\n",
       "    <tr>\n",
       "      <th>1</th>\n",
       "      <td>foo</td>\n",
       "      <td>5</td>\n",
       "    </tr>\n",
       "  </tbody>\n",
       "</table>\n",
       "</div>"
      ],
      "text/plain": [
       "   key  rval\n",
       "0  foo     4\n",
       "1  foo     5"
      ]
     },
     "execution_count": 38,
     "metadata": {},
     "output_type": "execute_result"
    }
   ],
   "source": [
    "right = pd.DataFrame({'key': ['foo', 'foo'], 'rval': [4, 5]})\n",
    "right"
   ]
  },
  {
   "cell_type": "code",
   "execution_count": 39,
   "metadata": {
    "colab": {
     "base_uri": "https://localhost:8080/",
     "height": 0
    },
    "colab_type": "code",
    "id": "Z3jXNYugQQkB",
    "outputId": "9c42a928-50eb-4d83-d7ff-aba09791530e"
   },
   "outputs": [
    {
     "data": {
      "text/html": [
       "<div>\n",
       "<style scoped>\n",
       "    .dataframe tbody tr th:only-of-type {\n",
       "        vertical-align: middle;\n",
       "    }\n",
       "\n",
       "    .dataframe tbody tr th {\n",
       "        vertical-align: top;\n",
       "    }\n",
       "\n",
       "    .dataframe thead th {\n",
       "        text-align: right;\n",
       "    }\n",
       "</style>\n",
       "<table border=\"1\" class=\"dataframe\">\n",
       "  <thead>\n",
       "    <tr style=\"text-align: right;\">\n",
       "      <th></th>\n",
       "      <th>key</th>\n",
       "      <th>lval</th>\n",
       "      <th>rval</th>\n",
       "    </tr>\n",
       "  </thead>\n",
       "  <tbody>\n",
       "    <tr>\n",
       "      <th>0</th>\n",
       "      <td>foo</td>\n",
       "      <td>1</td>\n",
       "      <td>4</td>\n",
       "    </tr>\n",
       "    <tr>\n",
       "      <th>1</th>\n",
       "      <td>foo</td>\n",
       "      <td>1</td>\n",
       "      <td>5</td>\n",
       "    </tr>\n",
       "    <tr>\n",
       "      <th>2</th>\n",
       "      <td>foo</td>\n",
       "      <td>2</td>\n",
       "      <td>4</td>\n",
       "    </tr>\n",
       "    <tr>\n",
       "      <th>3</th>\n",
       "      <td>foo</td>\n",
       "      <td>2</td>\n",
       "      <td>5</td>\n",
       "    </tr>\n",
       "  </tbody>\n",
       "</table>\n",
       "</div>"
      ],
      "text/plain": [
       "   key  lval  rval\n",
       "0  foo     1     4\n",
       "1  foo     1     5\n",
       "2  foo     2     4\n",
       "3  foo     2     5"
      ]
     },
     "execution_count": 39,
     "metadata": {},
     "output_type": "execute_result"
    }
   ],
   "source": [
    "# Se mezcla empleando como clave la columna ('key')\n",
    "# Se generan todos los emparejamientos de los elementos 2 a 2 (al repetirse el valor de 'key')\n",
    "pd.merge(left, right, on='key')"
   ]
  },
  {
   "cell_type": "markdown",
   "metadata": {
    "colab_type": "text",
    "id": "Q4zHvavjQQkF"
   },
   "source": [
    "Otro ejemplo:"
   ]
  },
  {
   "cell_type": "code",
   "execution_count": 40,
   "metadata": {
    "colab": {
     "base_uri": "https://localhost:8080/",
     "height": 0
    },
    "colab_type": "code",
    "id": "8U3KJ4EIQQkG",
    "outputId": "4dfe2d7f-9289-475b-c0b5-5ba992bd5e1e"
   },
   "outputs": [
    {
     "data": {
      "text/html": [
       "<div>\n",
       "<style scoped>\n",
       "    .dataframe tbody tr th:only-of-type {\n",
       "        vertical-align: middle;\n",
       "    }\n",
       "\n",
       "    .dataframe tbody tr th {\n",
       "        vertical-align: top;\n",
       "    }\n",
       "\n",
       "    .dataframe thead th {\n",
       "        text-align: right;\n",
       "    }\n",
       "</style>\n",
       "<table border=\"1\" class=\"dataframe\">\n",
       "  <thead>\n",
       "    <tr style=\"text-align: right;\">\n",
       "      <th></th>\n",
       "      <th>key</th>\n",
       "      <th>lval</th>\n",
       "    </tr>\n",
       "  </thead>\n",
       "  <tbody>\n",
       "    <tr>\n",
       "      <th>0</th>\n",
       "      <td>foo</td>\n",
       "      <td>1</td>\n",
       "    </tr>\n",
       "    <tr>\n",
       "      <th>1</th>\n",
       "      <td>bar</td>\n",
       "      <td>2</td>\n",
       "    </tr>\n",
       "  </tbody>\n",
       "</table>\n",
       "</div>"
      ],
      "text/plain": [
       "   key  lval\n",
       "0  foo     1\n",
       "1  bar     2"
      ]
     },
     "execution_count": 40,
     "metadata": {},
     "output_type": "execute_result"
    }
   ],
   "source": [
    "left = pd.DataFrame({'key': ['foo', 'bar'], 'lval': [1, 2]})\n",
    "left"
   ]
  },
  {
   "cell_type": "code",
   "execution_count": 41,
   "metadata": {
    "colab": {
     "base_uri": "https://localhost:8080/",
     "height": 0
    },
    "colab_type": "code",
    "id": "lLdjLodcQQkK",
    "outputId": "60839312-870c-401c-8541-fd4754a2037c"
   },
   "outputs": [
    {
     "data": {
      "text/html": [
       "<div>\n",
       "<style scoped>\n",
       "    .dataframe tbody tr th:only-of-type {\n",
       "        vertical-align: middle;\n",
       "    }\n",
       "\n",
       "    .dataframe tbody tr th {\n",
       "        vertical-align: top;\n",
       "    }\n",
       "\n",
       "    .dataframe thead th {\n",
       "        text-align: right;\n",
       "    }\n",
       "</style>\n",
       "<table border=\"1\" class=\"dataframe\">\n",
       "  <thead>\n",
       "    <tr style=\"text-align: right;\">\n",
       "      <th></th>\n",
       "      <th>key</th>\n",
       "      <th>rval</th>\n",
       "    </tr>\n",
       "  </thead>\n",
       "  <tbody>\n",
       "    <tr>\n",
       "      <th>0</th>\n",
       "      <td>foo</td>\n",
       "      <td>4</td>\n",
       "    </tr>\n",
       "    <tr>\n",
       "      <th>1</th>\n",
       "      <td>bar</td>\n",
       "      <td>5</td>\n",
       "    </tr>\n",
       "  </tbody>\n",
       "</table>\n",
       "</div>"
      ],
      "text/plain": [
       "   key  rval\n",
       "0  foo     4\n",
       "1  bar     5"
      ]
     },
     "execution_count": 41,
     "metadata": {},
     "output_type": "execute_result"
    }
   ],
   "source": [
    "right = pd.DataFrame({'key': ['foo', 'bar'], 'rval': [4, 5]})\n",
    "right"
   ]
  },
  {
   "cell_type": "code",
   "execution_count": 42,
   "metadata": {
    "colab": {
     "base_uri": "https://localhost:8080/",
     "height": 0
    },
    "colab_type": "code",
    "id": "w3uSqGcnQQkS",
    "outputId": "1d44dd4d-36cd-40fd-87b2-51db00fce1f2"
   },
   "outputs": [
    {
     "data": {
      "text/html": [
       "<div>\n",
       "<style scoped>\n",
       "    .dataframe tbody tr th:only-of-type {\n",
       "        vertical-align: middle;\n",
       "    }\n",
       "\n",
       "    .dataframe tbody tr th {\n",
       "        vertical-align: top;\n",
       "    }\n",
       "\n",
       "    .dataframe thead th {\n",
       "        text-align: right;\n",
       "    }\n",
       "</style>\n",
       "<table border=\"1\" class=\"dataframe\">\n",
       "  <thead>\n",
       "    <tr style=\"text-align: right;\">\n",
       "      <th></th>\n",
       "      <th>key</th>\n",
       "      <th>lval</th>\n",
       "      <th>rval</th>\n",
       "    </tr>\n",
       "  </thead>\n",
       "  <tbody>\n",
       "    <tr>\n",
       "      <th>0</th>\n",
       "      <td>foo</td>\n",
       "      <td>1</td>\n",
       "      <td>4</td>\n",
       "    </tr>\n",
       "    <tr>\n",
       "      <th>1</th>\n",
       "      <td>bar</td>\n",
       "      <td>2</td>\n",
       "      <td>5</td>\n",
       "    </tr>\n",
       "  </tbody>\n",
       "</table>\n",
       "</div>"
      ],
      "text/plain": [
       "   key  lval  rval\n",
       "0  foo     1     4\n",
       "1  bar     2     5"
      ]
     },
     "execution_count": 42,
     "metadata": {},
     "output_type": "execute_result"
    }
   ],
   "source": [
    " pd.merge(left, right, on='key')"
   ]
  },
  {
   "cell_type": "markdown",
   "metadata": {
    "colab_type": "text",
    "id": "f4HKrn0LQQkY"
   },
   "source": [
    "## Entrada / Salida en ficheros"
   ]
  },
  {
   "cell_type": "markdown",
   "metadata": {
    "colab_type": "text",
    "id": "g3myWagwQQkY"
   },
   "source": [
    "### Lectura de datos"
   ]
  },
  {
   "cell_type": "code",
   "execution_count": 43,
   "metadata": {
    "colab": {
     "base_uri": "https://localhost:8080/",
     "height": 945
    },
    "colab_type": "code",
    "id": "a-WDVPgqQQkY",
    "outputId": "a5b6237d-203b-4b23-adf0-f474dfb5dacd"
   },
   "outputs": [
    {
     "data": {
      "text/html": [
       "<div>\n",
       "<style scoped>\n",
       "    .dataframe tbody tr th:only-of-type {\n",
       "        vertical-align: middle;\n",
       "    }\n",
       "\n",
       "    .dataframe tbody tr th {\n",
       "        vertical-align: top;\n",
       "    }\n",
       "\n",
       "    .dataframe thead th {\n",
       "        text-align: right;\n",
       "    }\n",
       "</style>\n",
       "<table border=\"1\" class=\"dataframe\">\n",
       "  <thead>\n",
       "    <tr style=\"text-align: right;\">\n",
       "      <th></th>\n",
       "      <th>Unnamed: 0.1</th>\n",
       "      <th>Name</th>\n",
       "      <th>Age</th>\n",
       "      <th>Photo</th>\n",
       "      <th>Nationality</th>\n",
       "      <th>Flag</th>\n",
       "      <th>Overall</th>\n",
       "      <th>Potential</th>\n",
       "      <th>Club</th>\n",
       "      <th>Club Logo</th>\n",
       "      <th>...</th>\n",
       "      <th>RB</th>\n",
       "      <th>RCB</th>\n",
       "      <th>RCM</th>\n",
       "      <th>RDM</th>\n",
       "      <th>RF</th>\n",
       "      <th>RM</th>\n",
       "      <th>RS</th>\n",
       "      <th>RW</th>\n",
       "      <th>RWB</th>\n",
       "      <th>ST</th>\n",
       "    </tr>\n",
       "  </thead>\n",
       "  <tbody>\n",
       "    <tr>\n",
       "      <th>17020</th>\n",
       "      <td>17020</td>\n",
       "      <td>J. Capacho</td>\n",
       "      <td>19</td>\n",
       "      <td>https://cdn.sofifa.org/48/18/players/239658.png</td>\n",
       "      <td>Colombia</td>\n",
       "      <td>https://cdn.sofifa.org/flags/56.png</td>\n",
       "      <td>54</td>\n",
       "      <td>67</td>\n",
       "      <td>Atlético Bucaramanga</td>\n",
       "      <td>https://cdn.sofifa.org/24/18/teams/112992.png</td>\n",
       "      <td>...</td>\n",
       "      <td>34.0</td>\n",
       "      <td>30.0</td>\n",
       "      <td>43.0</td>\n",
       "      <td>32.0</td>\n",
       "      <td>52.0</td>\n",
       "      <td>49.0</td>\n",
       "      <td>53.0</td>\n",
       "      <td>51.0</td>\n",
       "      <td>35.0</td>\n",
       "      <td>53.0</td>\n",
       "    </tr>\n",
       "    <tr>\n",
       "      <th>5979</th>\n",
       "      <td>5979</td>\n",
       "      <td>T. Makino</td>\n",
       "      <td>30</td>\n",
       "      <td>https://cdn.sofifa.org/48/18/players/194361.png</td>\n",
       "      <td>Japan</td>\n",
       "      <td>https://cdn.sofifa.org/flags/163.png</td>\n",
       "      <td>69</td>\n",
       "      <td>69</td>\n",
       "      <td>Urawa Red Diamonds</td>\n",
       "      <td>https://cdn.sofifa.org/24/18/teams/111575.png</td>\n",
       "      <td>...</td>\n",
       "      <td>66.0</td>\n",
       "      <td>68.0</td>\n",
       "      <td>62.0</td>\n",
       "      <td>67.0</td>\n",
       "      <td>57.0</td>\n",
       "      <td>61.0</td>\n",
       "      <td>56.0</td>\n",
       "      <td>58.0</td>\n",
       "      <td>66.0</td>\n",
       "      <td>56.0</td>\n",
       "    </tr>\n",
       "    <tr>\n",
       "      <th>10520</th>\n",
       "      <td>10520</td>\n",
       "      <td>A. Vincent</td>\n",
       "      <td>23</td>\n",
       "      <td>https://cdn.sofifa.org/48/18/players/227492.png</td>\n",
       "      <td>France</td>\n",
       "      <td>https://cdn.sofifa.org/flags/18.png</td>\n",
       "      <td>65</td>\n",
       "      <td>73</td>\n",
       "      <td>AJ Auxerre</td>\n",
       "      <td>https://cdn.sofifa.org/24/18/teams/57.png</td>\n",
       "      <td>...</td>\n",
       "      <td>43.0</td>\n",
       "      <td>35.0</td>\n",
       "      <td>58.0</td>\n",
       "      <td>42.0</td>\n",
       "      <td>65.0</td>\n",
       "      <td>64.0</td>\n",
       "      <td>64.0</td>\n",
       "      <td>65.0</td>\n",
       "      <td>46.0</td>\n",
       "      <td>64.0</td>\n",
       "    </tr>\n",
       "    <tr>\n",
       "      <th>6231</th>\n",
       "      <td>6231</td>\n",
       "      <td>Paulo Daineiro</td>\n",
       "      <td>33</td>\n",
       "      <td>https://cdn.sofifa.org/48/18/players/236165.png</td>\n",
       "      <td>Brazil</td>\n",
       "      <td>https://cdn.sofifa.org/flags/54.png</td>\n",
       "      <td>69</td>\n",
       "      <td>69</td>\n",
       "      <td>Associação Chapecoense de Futebol</td>\n",
       "      <td>https://cdn.sofifa.org/24/18/teams/112476.png</td>\n",
       "      <td>...</td>\n",
       "      <td>52.0</td>\n",
       "      <td>42.0</td>\n",
       "      <td>62.0</td>\n",
       "      <td>49.0</td>\n",
       "      <td>68.0</td>\n",
       "      <td>70.0</td>\n",
       "      <td>63.0</td>\n",
       "      <td>70.0</td>\n",
       "      <td>55.0</td>\n",
       "      <td>63.0</td>\n",
       "    </tr>\n",
       "    <tr>\n",
       "      <th>3096</th>\n",
       "      <td>3096</td>\n",
       "      <td>Alex Berenguer</td>\n",
       "      <td>21</td>\n",
       "      <td>https://cdn.sofifa.org/48/18/players/225201.png</td>\n",
       "      <td>Spain</td>\n",
       "      <td>https://cdn.sofifa.org/flags/45.png</td>\n",
       "      <td>73</td>\n",
       "      <td>81</td>\n",
       "      <td>Torino</td>\n",
       "      <td>https://cdn.sofifa.org/24/18/teams/54.png</td>\n",
       "      <td>...</td>\n",
       "      <td>71.0</td>\n",
       "      <td>65.0</td>\n",
       "      <td>68.0</td>\n",
       "      <td>68.0</td>\n",
       "      <td>71.0</td>\n",
       "      <td>73.0</td>\n",
       "      <td>68.0</td>\n",
       "      <td>72.0</td>\n",
       "      <td>72.0</td>\n",
       "      <td>68.0</td>\n",
       "    </tr>\n",
       "  </tbody>\n",
       "</table>\n",
       "<p>5 rows × 75 columns</p>\n",
       "</div>"
      ],
      "text/plain": [
       "       Unnamed: 0.1            Name  Age  \\\n",
       "17020         17020      J. Capacho   19   \n",
       "5979           5979       T. Makino   30   \n",
       "10520         10520      A. Vincent   23   \n",
       "6231           6231  Paulo Daineiro   33   \n",
       "3096           3096  Alex Berenguer   21   \n",
       "\n",
       "                                                 Photo Nationality  \\\n",
       "17020  https://cdn.sofifa.org/48/18/players/239658.png    Colombia   \n",
       "5979   https://cdn.sofifa.org/48/18/players/194361.png       Japan   \n",
       "10520  https://cdn.sofifa.org/48/18/players/227492.png      France   \n",
       "6231   https://cdn.sofifa.org/48/18/players/236165.png      Brazil   \n",
       "3096   https://cdn.sofifa.org/48/18/players/225201.png       Spain   \n",
       "\n",
       "                                       Flag  Overall  Potential  \\\n",
       "17020   https://cdn.sofifa.org/flags/56.png       54         67   \n",
       "5979   https://cdn.sofifa.org/flags/163.png       69         69   \n",
       "10520   https://cdn.sofifa.org/flags/18.png       65         73   \n",
       "6231    https://cdn.sofifa.org/flags/54.png       69         69   \n",
       "3096    https://cdn.sofifa.org/flags/45.png       73         81   \n",
       "\n",
       "                                    Club  \\\n",
       "17020               Atlético Bucaramanga   \n",
       "5979                  Urawa Red Diamonds   \n",
       "10520                         AJ Auxerre   \n",
       "6231   Associação Chapecoense de Futebol   \n",
       "3096                              Torino   \n",
       "\n",
       "                                           Club Logo  ...     RB   RCB   RCM  \\\n",
       "17020  https://cdn.sofifa.org/24/18/teams/112992.png  ...   34.0  30.0  43.0   \n",
       "5979   https://cdn.sofifa.org/24/18/teams/111575.png  ...   66.0  68.0  62.0   \n",
       "10520      https://cdn.sofifa.org/24/18/teams/57.png  ...   43.0  35.0  58.0   \n",
       "6231   https://cdn.sofifa.org/24/18/teams/112476.png  ...   52.0  42.0  62.0   \n",
       "3096       https://cdn.sofifa.org/24/18/teams/54.png  ...   71.0  65.0  68.0   \n",
       "\n",
       "        RDM    RF    RM    RS    RW   RWB    ST  \n",
       "17020  32.0  52.0  49.0  53.0  51.0  35.0  53.0  \n",
       "5979   67.0  57.0  61.0  56.0  58.0  66.0  56.0  \n",
       "10520  42.0  65.0  64.0  64.0  65.0  46.0  64.0  \n",
       "6231   49.0  68.0  70.0  63.0  70.0  55.0  63.0  \n",
       "3096   68.0  71.0  73.0  68.0  72.0  72.0  68.0  \n",
       "\n",
       "[5 rows x 75 columns]"
      ]
     },
     "execution_count": 43,
     "metadata": {},
     "output_type": "execute_result"
    }
   ],
   "source": [
    "df = pd.read_csv('../data/FIFA18_Sample25.csv', index_col=0)\n",
    "#df = df.drop('Unnamed: 0',axis=1) # Se elimina la 1ª columna, que no incluye información relevante (es el propio indice)\n",
    "df.head(5)"
   ]
  },
  {
   "cell_type": "markdown",
   "metadata": {
    "colab_type": "text",
    "id": "EIsOtPBdQQkc"
   },
   "source": [
    "### Escritura de datos"
   ]
  },
  {
   "cell_type": "code",
   "execution_count": 44,
   "metadata": {
    "colab": {},
    "colab_type": "code",
    "id": "v_cSHboXQQkc",
    "outputId": "5700c235-6680-4c2b-a80a-d637ceaac110"
   },
   "outputs": [
    {
     "data": {
      "text/html": [
       "<div>\n",
       "<style scoped>\n",
       "    .dataframe tbody tr th:only-of-type {\n",
       "        vertical-align: middle;\n",
       "    }\n",
       "\n",
       "    .dataframe tbody tr th {\n",
       "        vertical-align: top;\n",
       "    }\n",
       "\n",
       "    .dataframe thead th {\n",
       "        text-align: right;\n",
       "    }\n",
       "</style>\n",
       "<table border=\"1\" class=\"dataframe\">\n",
       "  <thead>\n",
       "    <tr style=\"text-align: right;\">\n",
       "      <th></th>\n",
       "      <th>Unnamed: 0.1</th>\n",
       "      <th>Name</th>\n",
       "      <th>Photo</th>\n",
       "      <th>Flag</th>\n",
       "    </tr>\n",
       "  </thead>\n",
       "  <tbody>\n",
       "    <tr>\n",
       "      <th>17020</th>\n",
       "      <td>17020</td>\n",
       "      <td>J. Capacho</td>\n",
       "      <td>https://cdn.sofifa.org/48/18/players/239658.png</td>\n",
       "      <td>https://cdn.sofifa.org/flags/56.png</td>\n",
       "    </tr>\n",
       "    <tr>\n",
       "      <th>5979</th>\n",
       "      <td>5979</td>\n",
       "      <td>T. Makino</td>\n",
       "      <td>https://cdn.sofifa.org/48/18/players/194361.png</td>\n",
       "      <td>https://cdn.sofifa.org/flags/163.png</td>\n",
       "    </tr>\n",
       "    <tr>\n",
       "      <th>10520</th>\n",
       "      <td>10520</td>\n",
       "      <td>A. Vincent</td>\n",
       "      <td>https://cdn.sofifa.org/48/18/players/227492.png</td>\n",
       "      <td>https://cdn.sofifa.org/flags/18.png</td>\n",
       "    </tr>\n",
       "    <tr>\n",
       "      <th>6231</th>\n",
       "      <td>6231</td>\n",
       "      <td>Paulo Daineiro</td>\n",
       "      <td>https://cdn.sofifa.org/48/18/players/236165.png</td>\n",
       "      <td>https://cdn.sofifa.org/flags/54.png</td>\n",
       "    </tr>\n",
       "    <tr>\n",
       "      <th>3096</th>\n",
       "      <td>3096</td>\n",
       "      <td>Alex Berenguer</td>\n",
       "      <td>https://cdn.sofifa.org/48/18/players/225201.png</td>\n",
       "      <td>https://cdn.sofifa.org/flags/45.png</td>\n",
       "    </tr>\n",
       "  </tbody>\n",
       "</table>\n",
       "</div>"
      ],
      "text/plain": [
       "       Unnamed: 0.1            Name  \\\n",
       "17020         17020      J. Capacho   \n",
       "5979           5979       T. Makino   \n",
       "10520         10520      A. Vincent   \n",
       "6231           6231  Paulo Daineiro   \n",
       "3096           3096  Alex Berenguer   \n",
       "\n",
       "                                                 Photo  \\\n",
       "17020  https://cdn.sofifa.org/48/18/players/239658.png   \n",
       "5979   https://cdn.sofifa.org/48/18/players/194361.png   \n",
       "10520  https://cdn.sofifa.org/48/18/players/227492.png   \n",
       "6231   https://cdn.sofifa.org/48/18/players/236165.png   \n",
       "3096   https://cdn.sofifa.org/48/18/players/225201.png   \n",
       "\n",
       "                                       Flag  \n",
       "17020   https://cdn.sofifa.org/flags/56.png  \n",
       "5979   https://cdn.sofifa.org/flags/163.png  \n",
       "10520   https://cdn.sofifa.org/flags/18.png  \n",
       "6231    https://cdn.sofifa.org/flags/54.png  \n",
       "3096    https://cdn.sofifa.org/flags/45.png  "
      ]
     },
     "execution_count": 44,
     "metadata": {},
     "output_type": "execute_result"
    }
   ],
   "source": [
    "df2 = df.iloc[0:5,[0,1,3,5]]\n",
    "df2"
   ]
  },
  {
   "cell_type": "code",
   "execution_count": 45,
   "metadata": {
    "colab": {},
    "colab_type": "code",
    "id": "zk1lbMe7QQkh"
   },
   "outputs": [],
   "source": [
    "df2.to_csv('./First5.csv') # Se puede comprobar que se genera un fichero en formato csv con los datos de df2"
   ]
  },
  {
   "cell_type": "code",
   "execution_count": null,
   "metadata": {
    "colab": {},
    "colab_type": "code",
    "id": "tObC555FQQkm"
   },
   "outputs": [],
   "source": []
  }
 ],
 "metadata": {
  "colab": {
   "name": "0.Introduccion a manejo de datos con Pandas.ipynb",
   "provenance": [],
   "toc_visible": true,
   "version": "0.3.2"
  },
  "kernelspec": {
   "display_name": "Python 3",
   "language": "python",
   "name": "python3"
  },
  "language_info": {
   "codemirror_mode": {
    "name": "ipython",
    "version": 3
   },
   "file_extension": ".py",
   "mimetype": "text/x-python",
   "name": "python",
   "nbconvert_exporter": "python",
   "pygments_lexer": "ipython3",
   "version": "3.6.6"
  }
 },
 "nbformat": 4,
 "nbformat_minor": 1
}
