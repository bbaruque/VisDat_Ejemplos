{
 "cells": [
  {
   "cell_type": "markdown",
   "metadata": {},
   "source": [
    "# Visualizacion de una variable"
   ]
  },
  {
   "cell_type": "markdown",
   "metadata": {},
   "source": [
    "La librería **Pandas** es una de las fundamentales en el ecosistema de python para análisis de datos. \n",
    "Inicialmente está pensada para cargar los datos en una estructura tabular y manejarlos con facilidad.  \n",
    "Sin embargo, también incluye muchas características que permiten la visualización rápida de los datos cargados. Estas opciones facilitan mucho la visualización exploratoria de los datos.  \n",
    "A continuación podemos ver ejemplos del funcionamiento al visualizar sólo 1 de las variables que consituyen el conjunto de datos."
   ]
  },
  {
   "cell_type": "code",
   "execution_count": 1,
   "metadata": {},
   "outputs": [],
   "source": [
    "import pandas as pd"
   ]
  },
  {
   "cell_type": "markdown",
   "metadata": {},
   "source": [
    "En primer lugar, cargamos los datos.\n",
    "El conjunto de datos de ejemplo consiste en la crítica de vinos incluida en una revista especializada. \n",
    "Por cada uno de los tipos de vino se incluye información del vino (incluyendo país, precio, bodega...), junto con información otorgada por la revista (como una puntuación de 0 a 100)."
   ]
  },
  {
   "cell_type": "code",
   "execution_count": null,
   "metadata": {},
   "outputs": [],
   "source": [
    "#Se emplea el código de esta celda solo si se está ejecutando el código en Google Collaboratory (se emplea para obtener los datos)\n",
    "#En caso de estar ejecutando el código en un equipo local, no es necesario volver a descargar los datos\n",
    "\n",
    "#  ! git clone https://github.com/bbaruque/VisDat_Ejemplos.git\n",
    "#  data_dir = \"./VisDat_Ejemplos/JupyterNotebooks/data/\"  "
   ]
  },
  {
   "cell_type": "code",
   "execution_count": 2,
   "metadata": {},
   "outputs": [],
   "source": [
    "# En caso de haber ejecutado la celda anterior, esta debe dejarse SIN EJECUTAR\n",
    "data_dir = \"../../data/datos_1ªy2ªParte/\""
   ]
  },
  {
   "cell_type": "code",
   "execution_count": 3,
   "metadata": {},
   "outputs": [
    {
     "data": {
      "text/html": [
       "<div>\n",
       "<style scoped>\n",
       "    .dataframe tbody tr th:only-of-type {\n",
       "        vertical-align: middle;\n",
       "    }\n",
       "\n",
       "    .dataframe tbody tr th {\n",
       "        vertical-align: top;\n",
       "    }\n",
       "\n",
       "    .dataframe thead th {\n",
       "        text-align: right;\n",
       "    }\n",
       "</style>\n",
       "<table border=\"1\" class=\"dataframe\">\n",
       "  <thead>\n",
       "    <tr style=\"text-align: right;\">\n",
       "      <th></th>\n",
       "      <th>country</th>\n",
       "      <th>description</th>\n",
       "      <th>designation</th>\n",
       "      <th>points</th>\n",
       "      <th>price</th>\n",
       "      <th>province</th>\n",
       "      <th>region_1</th>\n",
       "      <th>region_2</th>\n",
       "      <th>variety</th>\n",
       "      <th>winery</th>\n",
       "    </tr>\n",
       "  </thead>\n",
       "  <tbody>\n",
       "    <tr>\n",
       "      <th>0</th>\n",
       "      <td>US</td>\n",
       "      <td>This tremendous 100% varietal wine hails from ...</td>\n",
       "      <td>Martha's Vineyard</td>\n",
       "      <td>96</td>\n",
       "      <td>235.0</td>\n",
       "      <td>California</td>\n",
       "      <td>Napa Valley</td>\n",
       "      <td>Napa</td>\n",
       "      <td>Cabernet Sauvignon</td>\n",
       "      <td>Heitz</td>\n",
       "    </tr>\n",
       "    <tr>\n",
       "      <th>1</th>\n",
       "      <td>Spain</td>\n",
       "      <td>Ripe aromas of fig, blackberry and cassis are ...</td>\n",
       "      <td>Carodorum Selección Especial Reserva</td>\n",
       "      <td>96</td>\n",
       "      <td>110.0</td>\n",
       "      <td>Northern Spain</td>\n",
       "      <td>Toro</td>\n",
       "      <td>NaN</td>\n",
       "      <td>Tinta de Toro</td>\n",
       "      <td>Bodega Carmen Rodríguez</td>\n",
       "    </tr>\n",
       "    <tr>\n",
       "      <th>2</th>\n",
       "      <td>US</td>\n",
       "      <td>Mac Watson honors the memory of a wine once ma...</td>\n",
       "      <td>Special Selected Late Harvest</td>\n",
       "      <td>96</td>\n",
       "      <td>90.0</td>\n",
       "      <td>California</td>\n",
       "      <td>Knights Valley</td>\n",
       "      <td>Sonoma</td>\n",
       "      <td>Sauvignon Blanc</td>\n",
       "      <td>Macauley</td>\n",
       "    </tr>\n",
       "  </tbody>\n",
       "</table>\n",
       "</div>"
      ],
      "text/plain": [
       "  country                                        description  \\\n",
       "0      US  This tremendous 100% varietal wine hails from ...   \n",
       "1   Spain  Ripe aromas of fig, blackberry and cassis are ...   \n",
       "2      US  Mac Watson honors the memory of a wine once ma...   \n",
       "\n",
       "                            designation  points  price        province  \\\n",
       "0                     Martha's Vineyard      96  235.0      California   \n",
       "1  Carodorum Selección Especial Reserva      96  110.0  Northern Spain   \n",
       "2         Special Selected Late Harvest      96   90.0      California   \n",
       "\n",
       "         region_1 region_2             variety                   winery  \n",
       "0     Napa Valley     Napa  Cabernet Sauvignon                    Heitz  \n",
       "1            Toro      NaN       Tinta de Toro  Bodega Carmen Rodríguez  \n",
       "2  Knights Valley   Sonoma     Sauvignon Blanc                 Macauley  "
      ]
     },
     "execution_count": 3,
     "metadata": {},
     "output_type": "execute_result"
    }
   ],
   "source": [
    "reviews = pd.read_csv(data_dir+\"winemag-data_first150k.csv\", index_col=0)\n",
    "reviews.head(3)"
   ]
  },
  {
   "cell_type": "markdown",
   "metadata": {},
   "source": [
    "## Datos Categóricos\n",
    "\n",
    "Los datos categóricos son aquellos datos no numéricos en nuestro conjunto. Representan categorías en los datos y en general, hay un número finito de opciones a colocar en cada entrada.\n",
    "\n",
    "- En los datos de ejemplo, las **categorías** son **nominales**: categorías \"puras\" que no tienen ningún orden entre sí. Ejemplos de este tipo son: paises, códigos postales, tipos de vino, etc.\n",
    "\n",
    "- El otro tipo de **categorías** serían las **ordinales**: son aquellas que tiene sentido comparar entre sí. Aunque son categorías, se representan con un número que tiene significado como magnitud. Por ejemplo: magnitudes de terremotos, pisos con un determinado número de habitaciones en un área, número de miembros de una familia, etc."
   ]
  },
  {
   "cell_type": "markdown",
   "metadata": {},
   "source": [
    "## Gráficos de Barra\n",
    "\n",
    "Probablemente los más sencillos. Permiten agrupar categorías en números (frecuencia de cada una) y comparar el número de apariciones de cada una."
   ]
  },
  {
   "cell_type": "code",
   "execution_count": 3,
   "metadata": {},
   "outputs": [
    {
     "data": {
      "text/plain": [
       "<matplotlib.axes._subplots.AxesSubplot at 0x95c8b70>"
      ]
     },
     "execution_count": 3,
     "metadata": {},
     "output_type": "execute_result"
    }
   ],
   "source": [
    "# De la tabla de reviews, se extrae la columna 'provincie'\n",
    "# Se cuenta el numero de veces que aparece cada una\n",
    "# Se obtienen las 10 primeras\n",
    "# se genera el gráfico de barras\n",
    "\n",
    "reviews['province'].value_counts().head(10).plot.bar()"
   ]
  },
  {
   "cell_type": "markdown",
   "metadata": {},
   "source": [
    "Se puede comprobar que California produce 4 veces más variedades de vino que la inmediatamente posterior: Washington"
   ]
  },
  {
   "cell_type": "markdown",
   "metadata": {},
   "source": [
    "Con una pequeña modificación (dividiendo por el numero de elementos de la columna), se puede comprobar cual es esta misma cantidad en porcentaje"
   ]
  },
  {
   "cell_type": "code",
   "execution_count": 4,
   "metadata": {},
   "outputs": [
    {
     "data": {
      "text/plain": [
       "<matplotlib.axes._subplots.AxesSubplot at 0x9d347b8>"
      ]
     },
     "execution_count": 4,
     "metadata": {},
     "output_type": "execute_result"
    },
    {
     "data": {
      "image/png": "[encoded data removed]",
      "text/plain": [
       "<Figure size 432x288 with 1 Axes>"
      ]
     },
     "metadata": {},
     "output_type": "display_data"
    }
   ],
   "source": [
    "(reviews['province'].value_counts().head(10)/len(reviews)).plot.bar()"
   ]
  },
  {
   "cell_type": "markdown",
   "metadata": {},
   "source": [
    "California produce un 30% de las variedades de vino en el mercado"
   ]
  },
  {
   "cell_type": "markdown",
   "metadata": {},
   "source": [
    "Estoas gráficos son muy flexibles: la altura puede representar cualquier valor numérico. Cada barra puede representar cualquier valor categórico."
   ]
  },
  {
   "cell_type": "markdown",
   "metadata": {},
   "source": [
    "Podemos comprobar esto creando un gráfico para comprobar el numero de vinos que han recibido una determinada puntuación de calidad:"
   ]
  },
  {
   "cell_type": "code",
   "execution_count": 5,
   "metadata": {},
   "outputs": [
    {
     "data": {
      "text/plain": [
       "<matplotlib.axes._subplots.AxesSubplot at 0xb7bf320>"
      ]
     },
     "execution_count": 5,
     "metadata": {},
     "output_type": "execute_result"
    },
    {
     "data": {
      "image/png": "[encoded data removed]",
      "text/plain": [
       "<Figure size 432x288 with 1 Axes>"
      ]
     },
     "metadata": {},
     "output_type": "display_data"
    }
   ],
   "source": [
    "# De la tabla de reviews, se extrae la columna 'points'\n",
    "# Se cuenta el numero de veces que aparece cada puntuacion\n",
    "# Se ordenan por puntuacion (columna)\n",
    "# se genera el gráfico de barras\n",
    "\n",
    "reviews['points'].value_counts().sort_index().plot.bar()"
   ]
  },
  {
   "cell_type": "markdown",
   "metadata": {},
   "source": [
    "Se puede comprobar que la valoración más otrogada es la de 87, así como que no existen apenas vinos con puntuaciones más altas de 98."
   ]
  },
  {
   "cell_type": "markdown",
   "metadata": {},
   "source": [
    "## Gráficos de Línea"
   ]
  },
  {
   "cell_type": "markdown",
   "metadata": {},
   "source": [
    "En el caso de que se tengan demasiadas categorías como para poder representar una por barra (imaginemos que tuviaramos 100), se puede emplear este típo de gráficos."
   ]
  },
  {
   "cell_type": "code",
   "execution_count": 6,
   "metadata": {},
   "outputs": [
    {
     "data": {
      "text/plain": [
       "<matplotlib.axes._subplots.AxesSubplot at 0x4fce0f0>"
      ]
     },
     "execution_count": 6,
     "metadata": {},
     "output_type": "execute_result"
    },
    {
     "data": {
      "image/png": "[encoded data removed]",
      "text/plain": [
       "<Figure size 432x288 with 1 Axes>"
      ]
     },
     "metadata": {},
     "output_type": "display_data"
    }
   ],
   "source": [
    "# De la tabla de reviews, se extrae la columna 'points'\n",
    "# Se cuenta el numero de veces que aparece cada puntuacion\n",
    "# Se ordenan por puntuacion (columna)\n",
    "# se genera el gráfico de linea\n",
    "\n",
    "reviews['points'].value_counts().sort_index().plot.line()"
   ]
  },
  {
   "cell_type": "markdown",
   "metadata": {},
   "source": [
    "El gráfico de linea puede representar cualquier número de categorías, siendo muy útil en distriubciones de variables con muchos valores diferentes.\n",
    "\n",
    "Sin embargo, no son apropiados para datos categóricos nominales. No permite distinguir cada categoría por separado y da la impresión de que todas son iguales. Además se incluye en la representación una especie de \"orden implícito\" en el eje horizontal que no tiene sentido en las categorías. Por ejemplo, si se representan provincias, una linea descendente de \"California\" a \"Washington\" no tiene un significado claro.\n",
    "\n",
    "Como consejo general, en caso de poder emplear un gráfico de barras, es más claro éste."
   ]
  },
  {
   "cell_type": "markdown",
   "metadata": {},
   "source": [
    "## Gráficos de Área"
   ]
  },
  {
   "cell_type": "markdown",
   "metadata": {},
   "source": [
    "Son exactamente iguales a los de línea, con el fondo relleno. "
   ]
  },
  {
   "cell_type": "code",
   "execution_count": 7,
   "metadata": {},
   "outputs": [
    {
     "data": {
      "text/plain": [
       "<matplotlib.axes._subplots.AxesSubplot at 0xbad07f0>"
      ]
     },
     "execution_count": 7,
     "metadata": {},
     "output_type": "execute_result"
    },
    {
     "data": {
      "image/png": "[encoded data removed]",
      "text/plain": [
       "<Figure size 432x288 with 1 Axes>"
      ]
     },
     "metadata": {},
     "output_type": "display_data"
    }
   ],
   "source": [
    "# De la tabla de reviews, se extrae la columna 'points'\n",
    "# Se cuenta el numero de veces que aparece cada puntuacion\n",
    "# Se ordenan por puntuacion (columna)\n",
    "# se genera el gráfico de area\n",
    "\n",
    "reviews['points'].value_counts().sort_index().plot.area()"
   ]
  },
  {
   "cell_type": "markdown",
   "metadata": {},
   "source": [
    "## Datos de Intervalo\n",
    "\n",
    "\n",
    "Ejemplos de variables en intervalo son la velocidad del viento, la temperatura del sol o la velocidad de un vehiculo.\n",
    "\n",
    "Se pueden considerar diferentes a una variable categórica porque implícitamente tienen un orden específico y tienen un significado interno. Esto significa que se puede cuantificar la diferencia entre 2 valores en la misma variable.\n",
    "\n",
    "Por ejemplo, una muestra puede tener -20ºC y otra 120ºC: la diferencia entre ambas son 140ºC de temperatura, sobre los que se podrían calcular una cierta cantidad de Julios de Energía...\n",
    "\n",
    "Una variable que puede tener potencialmente infinitos valores, será claramente de intervalo. Casi con seguridad, se tratará de un número (podemos medir -20ºC o 20.0001ºC o -20.0000001ºC)\n",
    "\n",
    "En estos casos se recomienda siempre el uso de gráficos de linea. Por el contrario, es complejo emplear gráficos de barras en estos casos."
   ]
  },
  {
   "cell_type": "markdown",
   "metadata": {},
   "source": [
    "## Histogramas"
   ]
  },
  {
   "cell_type": "markdown",
   "metadata": {},
   "source": [
    "Vamos a probar una nuevo tipo de gráfico en este tipo de datos:"
   ]
  },
  {
   "cell_type": "markdown",
   "metadata": {},
   "source": [
    "El histograma es un gráfico de barras especial.  \n",
    "Divide el intervalo de datos que se le pasa en sub-intervalos de igual tamaño y cuenta cuantas muestras tienen su valor en cada intervalo.  \n",
    "La diferencia es que cada barra, en lugar de representar un valor para los datos, representa un intervalo de valores."
   ]
  },
  {
   "cell_type": "code",
   "execution_count": 8,
   "metadata": {},
   "outputs": [
    {
     "data": {
      "text/plain": [
       "<matplotlib.axes._subplots.AxesSubplot at 0xbb2def0>"
      ]
     },
     "execution_count": 8,
     "metadata": {},
     "output_type": "execute_result"
    },
    {
     "data": {
      "image/png": "[encoded data removed]",
      "text/plain": [
       "<Figure size 432x288 with 1 Axes>"
      ]
     },
     "metadata": {},
     "output_type": "display_data"
    }
   ],
   "source": [
    "# De la tabla 'reviews'\n",
    "# Se seleccionan solo las entradas cuya columna 'price' es menor que 200\n",
    "# Se selecciona de éstas la columna 'price'\n",
    "# Se realiza un histograma\n",
    "\n",
    "reviews[reviews['price'] < 200]['price'].plot.hist()"
   ]
  },
  {
   "cell_type": "markdown",
   "metadata": {},
   "source": [
    "Se puede observar que hay algo más de 60.000 variedades de vino cuyo precio es menor de 25$, mientras que hay algunas más de 40.000 cuyo precio está entre 25 y 50. Muy pocas tienen un precio entre 175 y 200€."
   ]
  },
  {
   "cell_type": "code",
   "execution_count": 9,
   "metadata": {},
   "outputs": [
    {
     "data": {
      "text/plain": [
       "<matplotlib.axes._subplots.AxesSubplot at 0xbb39be0>"
      ]
     },
     "execution_count": 9,
     "metadata": {},
     "output_type": "execute_result"
    },
    {
     "data": {
      "image/png": "[encoded data removed]",
      "text/plain": [
       "<Figure size 432x288 with 1 Axes>"
      ]
     },
     "metadata": {},
     "output_type": "display_data"
    }
   ],
   "source": [
    "reviews['price'].plot.hist()"
   ]
  },
  {
   "cell_type": "markdown",
   "metadata": {},
   "source": [
    "Es interesante destacar que hay un numero muy pequeño de vinos cuyo precio pasa de 200€ llega hasta los 2000€ y hace que el gráfico con todos los dato se tenga que adaptar, perdiendo detalle en todas las demás variedades.  \n",
    "La opción más sencilla para evitar esto es la que hemos empleado: recortar los datos que puedan resultar menos relevantes en nuestra visualización y simplemente no mostrarlos."
   ]
  },
  {
   "cell_type": "code",
   "execution_count": 10,
   "metadata": {},
   "outputs": [
    {
     "name": "stdout",
     "output_type": "stream",
     "text": [
      "Variedades de vino de más de 1500: 3\n"
     ]
    }
   ],
   "source": [
    "print(\"Variedades de vino de más de 1500: {}\".format(len(reviews[reviews['price'] > 1500])))"
   ]
  },
  {
   "cell_type": "markdown",
   "metadata": {},
   "source": [
    "La variable 'points' que también es una variable numérica se adapta muy bien al tipo de datos de histograma"
   ]
  },
  {
   "cell_type": "code",
   "execution_count": 11,
   "metadata": {},
   "outputs": [
    {
     "data": {
      "text/plain": [
       "<matplotlib.axes._subplots.AxesSubplot at 0xbc1ec50>"
      ]
     },
     "execution_count": 11,
     "metadata": {},
     "output_type": "execute_result"
    },
    {
     "data": {
      "image/png": "[encoded data removed]",
      "text/plain": [
       "<Figure size 432x288 with 1 Axes>"
      ]
     },
     "metadata": {},
     "output_type": "display_data"
    }
   ],
   "source": [
    "reviews['points'].plot.hist()"
   ]
  },
  {
   "cell_type": "code",
   "execution_count": null,
   "metadata": {},
   "outputs": [],
   "source": []
  }
 ],
 "metadata": {
  "kernelspec": {
   "display_name": "Python 3",
   "language": "python",
   "name": "python3"
  },
  "language_info": {
   "codemirror_mode": {
    "name": "ipython",
    "version": 3
   },
   "file_extension": ".py",
   "mimetype": "text/x-python",
   "name": "python",
   "nbconvert_exporter": "python",
   "pygments_lexer": "ipython3",
   "version": "3.9.13"
  }
 },
 "nbformat": 4,
 "nbformat_minor": 2
}
