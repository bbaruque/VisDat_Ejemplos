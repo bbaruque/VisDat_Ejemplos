{
 "cells": [
  {
   "cell_type": "markdown",
   "metadata": {},
   "source": [
    "# Visualización de Series Temporales"
   ]
  },
  {
   "cell_type": "code",
   "execution_count": 1,
   "metadata": {},
   "outputs": [],
   "source": [
    "import pandas as pd\n",
    "pd.set_option('max_columns', None)\n",
    "import numpy as np"
   ]
  },
  {
   "cell_type": "markdown",
   "metadata": {},
   "source": [
    "En este documento, veremos alguna particularidad de la representación de datos a lo largo del tiempo.\n",
    "No se emplean librerías nuevas, sino que veremos las representaciones de estos datos empleando las herramientas ya vistas anteriormente."
   ]
  },
  {
   "cell_type": "markdown",
   "metadata": {},
   "source": [
    "## Tipos de series temporales"
   ]
  },
  {
   "cell_type": "markdown",
   "metadata": {},
   "source": [
    "La particularidad que tienen los datos de series temporales es que contiene al menos una variable temporal: fecha, hora o fecha y hora. Es decir, son datos asociados unívocamente a un instante de tiempo.\n",
    "\n",
    "El tiempo tiene como características que es linear y de grano totalmente variable (de años a milisegundos), por lo que se trata de un caso especial de variables de intervalo.\n",
    "\n",
    "Los datos temporales pueden aparecer de dos formas diferentes:\n",
    "\n",
    "1. Caso \"Fuerte\", en el que las fechas aparecen de forma explícita como el índice del conjunto de datos. \n",
    "Por ejemplo en los valores bursátiles:"
   ]
  },
  {
   "cell_type": "code",
   "execution_count": 2,
   "metadata": {},
   "outputs": [
    {
     "data": {
      "text/html": [
       "<div>\n",
       "<style scoped>\n",
       "    .dataframe tbody tr th:only-of-type {\n",
       "        vertical-align: middle;\n",
       "    }\n",
       "\n",
       "    .dataframe tbody tr th {\n",
       "        vertical-align: top;\n",
       "    }\n",
       "\n",
       "    .dataframe thead th {\n",
       "        text-align: right;\n",
       "    }\n",
       "</style>\n",
       "<table border=\"1\" class=\"dataframe\">\n",
       "  <thead>\n",
       "    <tr style=\"text-align: right;\">\n",
       "      <th></th>\n",
       "      <th>symbol</th>\n",
       "      <th>open</th>\n",
       "      <th>close</th>\n",
       "      <th>low</th>\n",
       "      <th>high</th>\n",
       "      <th>volume</th>\n",
       "    </tr>\n",
       "    <tr>\n",
       "      <th>date</th>\n",
       "      <th></th>\n",
       "      <th></th>\n",
       "      <th></th>\n",
       "      <th></th>\n",
       "      <th></th>\n",
       "      <th></th>\n",
       "    </tr>\n",
       "  </thead>\n",
       "  <tbody>\n",
       "    <tr>\n",
       "      <th>2010-01-04</th>\n",
       "      <td>GOOG</td>\n",
       "      <td>626.951088</td>\n",
       "      <td>626.751061</td>\n",
       "      <td>624.241073</td>\n",
       "      <td>629.511067</td>\n",
       "      <td>3927000.0</td>\n",
       "    </tr>\n",
       "    <tr>\n",
       "      <th>2010-01-05</th>\n",
       "      <td>GOOG</td>\n",
       "      <td>627.181073</td>\n",
       "      <td>623.991055</td>\n",
       "      <td>621.541045</td>\n",
       "      <td>627.841071</td>\n",
       "      <td>6031900.0</td>\n",
       "    </tr>\n",
       "    <tr>\n",
       "      <th>2010-01-06</th>\n",
       "      <td>GOOG</td>\n",
       "      <td>625.861078</td>\n",
       "      <td>608.261023</td>\n",
       "      <td>606.361042</td>\n",
       "      <td>625.861078</td>\n",
       "      <td>7987100.0</td>\n",
       "    </tr>\n",
       "    <tr>\n",
       "      <th>2010-01-07</th>\n",
       "      <td>GOOG</td>\n",
       "      <td>609.401025</td>\n",
       "      <td>594.101005</td>\n",
       "      <td>592.651008</td>\n",
       "      <td>610.001045</td>\n",
       "      <td>12876600.0</td>\n",
       "    </tr>\n",
       "    <tr>\n",
       "      <th>2010-01-08</th>\n",
       "      <td>GOOG</td>\n",
       "      <td>592.000997</td>\n",
       "      <td>602.021036</td>\n",
       "      <td>589.110988</td>\n",
       "      <td>603.251034</td>\n",
       "      <td>9483900.0</td>\n",
       "    </tr>\n",
       "  </tbody>\n",
       "</table>\n",
       "</div>"
      ],
      "text/plain": [
       "           symbol        open       close         low        high      volume\n",
       "date                                                                         \n",
       "2010-01-04   GOOG  626.951088  626.751061  624.241073  629.511067   3927000.0\n",
       "2010-01-05   GOOG  627.181073  623.991055  621.541045  627.841071   6031900.0\n",
       "2010-01-06   GOOG  625.861078  608.261023  606.361042  625.861078   7987100.0\n",
       "2010-01-07   GOOG  609.401025  594.101005  592.651008  610.001045  12876600.0\n",
       "2010-01-08   GOOG  592.000997  602.021036  589.110988  603.251034   9483900.0"
      ]
     },
     "execution_count": 2,
     "metadata": {},
     "output_type": "execute_result"
    }
   ],
   "source": [
    "stocks = pd.read_csv(\"./data/prices.csv\", parse_dates=['date']) # Se leen los datos de valores bursatiles \n",
    "stocks = stocks[stocks['symbol'] == \"GOOG\"].set_index('date') # Se seleccionan solo los valores de la compañia Google y se marca como índice la fecha de cada valor\n",
    "stocks.head()"
   ]
  },
  {
   "cell_type": "code",
   "execution_count": 3,
   "metadata": {},
   "outputs": [
    {
     "data": {
      "text/html": [
       "<div>\n",
       "<style scoped>\n",
       "    .dataframe tbody tr th:only-of-type {\n",
       "        vertical-align: middle;\n",
       "    }\n",
       "\n",
       "    .dataframe tbody tr th {\n",
       "        vertical-align: top;\n",
       "    }\n",
       "\n",
       "    .dataframe thead th {\n",
       "        text-align: right;\n",
       "    }\n",
       "</style>\n",
       "<table border=\"1\" class=\"dataframe\">\n",
       "  <thead>\n",
       "    <tr style=\"text-align: right;\">\n",
       "      <th></th>\n",
       "      <th>open</th>\n",
       "      <th>close</th>\n",
       "      <th>low</th>\n",
       "      <th>high</th>\n",
       "      <th>volume</th>\n",
       "    </tr>\n",
       "  </thead>\n",
       "  <tbody>\n",
       "    <tr>\n",
       "      <th>count</th>\n",
       "      <td>1762.000000</td>\n",
       "      <td>1762.000000</td>\n",
       "      <td>1762.000000</td>\n",
       "      <td>1762.000000</td>\n",
       "      <td>1.762000e+03</td>\n",
       "    </tr>\n",
       "    <tr>\n",
       "      <th>mean</th>\n",
       "      <td>667.988556</td>\n",
       "      <td>667.732200</td>\n",
       "      <td>662.013391</td>\n",
       "      <td>673.341401</td>\n",
       "      <td>4.051179e+06</td>\n",
       "    </tr>\n",
       "    <tr>\n",
       "      <th>std</th>\n",
       "      <td>159.812252</td>\n",
       "      <td>159.790218</td>\n",
       "      <td>159.052972</td>\n",
       "      <td>160.469786</td>\n",
       "      <td>2.933261e+06</td>\n",
       "    </tr>\n",
       "    <tr>\n",
       "      <th>min</th>\n",
       "      <td>438.310758</td>\n",
       "      <td>436.070761</td>\n",
       "      <td>433.630737</td>\n",
       "      <td>442.280760</td>\n",
       "      <td>7.900000e+03</td>\n",
       "    </tr>\n",
       "    <tr>\n",
       "      <th>25%</th>\n",
       "      <td>548.639605</td>\n",
       "      <td>547.364993</td>\n",
       "      <td>542.753834</td>\n",
       "      <td>553.582514</td>\n",
       "      <td>1.901175e+06</td>\n",
       "    </tr>\n",
       "    <tr>\n",
       "      <th>50%</th>\n",
       "      <td>613.846067</td>\n",
       "      <td>614.161057</td>\n",
       "      <td>609.356057</td>\n",
       "      <td>619.111038</td>\n",
       "      <td>3.642400e+06</td>\n",
       "    </tr>\n",
       "    <tr>\n",
       "      <th>75%</th>\n",
       "      <td>749.962820</td>\n",
       "      <td>749.452515</td>\n",
       "      <td>742.882817</td>\n",
       "      <td>756.218456</td>\n",
       "      <td>5.165425e+06</td>\n",
       "    </tr>\n",
       "    <tr>\n",
       "      <th>max</th>\n",
       "      <td>1226.802152</td>\n",
       "      <td>1220.172036</td>\n",
       "      <td>1218.602083</td>\n",
       "      <td>1228.882066</td>\n",
       "      <td>2.976060e+07</td>\n",
       "    </tr>\n",
       "  </tbody>\n",
       "</table>\n",
       "</div>"
      ],
      "text/plain": [
       "              open        close          low         high        volume\n",
       "count  1762.000000  1762.000000  1762.000000  1762.000000  1.762000e+03\n",
       "mean    667.988556   667.732200   662.013391   673.341401  4.051179e+06\n",
       "std     159.812252   159.790218   159.052972   160.469786  2.933261e+06\n",
       "min     438.310758   436.070761   433.630737   442.280760  7.900000e+03\n",
       "25%     548.639605   547.364993   542.753834   553.582514  1.901175e+06\n",
       "50%     613.846067   614.161057   609.356057   619.111038  3.642400e+06\n",
       "75%     749.962820   749.452515   742.882817   756.218456  5.165425e+06\n",
       "max    1226.802152  1220.172036  1218.602083  1228.882066  2.976060e+07"
      ]
     },
     "execution_count": 3,
     "metadata": {},
     "output_type": "execute_result"
    }
   ],
   "source": [
    "stocks.describe()"
   ]
  },
  {
   "cell_type": "markdown",
   "metadata": {},
   "source": [
    "Los datos se van recogiendo con una frecuencia o periodicidad normalmente fíja (de 1 día en este caso).  \n",
    "Cada una de las muestras contiene datos relativos a ese instante de tiempo."
   ]
  },
  {
   "cell_type": "markdown",
   "metadata": {},
   "source": [
    "2. En el caso \"Débil\", los datos temporales aparecen como un dato más que indica un valor que se asocia a la muestra, pero la muestra no se define unívocamente por el dato.\n",
    "\n",
    "Por ejemplo, en el conjunto de datos de acogida de animales, aparece la fecha de nacimiento \"date_of_birth\" y la fecha de registro \"datetime\", pero sirven para añadir información (2 animales pueden haber nacido en la misma fecha). "
   ]
  },
  {
   "cell_type": "code",
   "execution_count": 4,
   "metadata": {},
   "outputs": [
    {
     "data": {
      "text/html": [
       "<div>\n",
       "<style scoped>\n",
       "    .dataframe tbody tr th:only-of-type {\n",
       "        vertical-align: middle;\n",
       "    }\n",
       "\n",
       "    .dataframe tbody tr th {\n",
       "        vertical-align: top;\n",
       "    }\n",
       "\n",
       "    .dataframe thead th {\n",
       "        text-align: right;\n",
       "    }\n",
       "</style>\n",
       "<table border=\"1\" class=\"dataframe\">\n",
       "  <thead>\n",
       "    <tr style=\"text-align: right;\">\n",
       "      <th></th>\n",
       "      <th>outcome_type</th>\n",
       "      <th>age_upon_outcome</th>\n",
       "      <th>datetime</th>\n",
       "      <th>animal_type</th>\n",
       "      <th>breed</th>\n",
       "      <th>color</th>\n",
       "      <th>sex_upon_outcome</th>\n",
       "      <th>date_of_birth</th>\n",
       "    </tr>\n",
       "  </thead>\n",
       "  <tbody>\n",
       "    <tr>\n",
       "      <th>0</th>\n",
       "      <td>Transfer</td>\n",
       "      <td>2 weeks</td>\n",
       "      <td>2014-07-22 16:04:00</td>\n",
       "      <td>Cat</td>\n",
       "      <td>Domestic Shorthair Mix</td>\n",
       "      <td>Orange Tabby</td>\n",
       "      <td>Intact Male</td>\n",
       "      <td>2014-07-07</td>\n",
       "    </tr>\n",
       "    <tr>\n",
       "      <th>1</th>\n",
       "      <td>Transfer</td>\n",
       "      <td>1 year</td>\n",
       "      <td>2013-11-07 11:47:00</td>\n",
       "      <td>Dog</td>\n",
       "      <td>Beagle Mix</td>\n",
       "      <td>White/Brown</td>\n",
       "      <td>Spayed Female</td>\n",
       "      <td>2012-11-06</td>\n",
       "    </tr>\n",
       "    <tr>\n",
       "      <th>2</th>\n",
       "      <td>Adoption</td>\n",
       "      <td>1 year</td>\n",
       "      <td>2014-06-03 14:20:00</td>\n",
       "      <td>Dog</td>\n",
       "      <td>Pit Bull</td>\n",
       "      <td>Blue/White</td>\n",
       "      <td>Neutered Male</td>\n",
       "      <td>2013-03-31</td>\n",
       "    </tr>\n",
       "    <tr>\n",
       "      <th>3</th>\n",
       "      <td>Transfer</td>\n",
       "      <td>9 years</td>\n",
       "      <td>2014-06-15 15:50:00</td>\n",
       "      <td>Dog</td>\n",
       "      <td>Miniature Schnauzer Mix</td>\n",
       "      <td>White</td>\n",
       "      <td>Neutered Male</td>\n",
       "      <td>2005-06-02</td>\n",
       "    </tr>\n",
       "    <tr>\n",
       "      <th>4</th>\n",
       "      <td>Euthanasia</td>\n",
       "      <td>5 months</td>\n",
       "      <td>2014-07-07 14:04:00</td>\n",
       "      <td>Other</td>\n",
       "      <td>Bat Mix</td>\n",
       "      <td>Brown</td>\n",
       "      <td>Unknown</td>\n",
       "      <td>2014-01-07</td>\n",
       "    </tr>\n",
       "  </tbody>\n",
       "</table>\n",
       "</div>"
      ],
      "text/plain": [
       "  outcome_type age_upon_outcome            datetime animal_type  \\\n",
       "0     Transfer          2 weeks 2014-07-22 16:04:00         Cat   \n",
       "1     Transfer           1 year 2013-11-07 11:47:00         Dog   \n",
       "2     Adoption           1 year 2014-06-03 14:20:00         Dog   \n",
       "3     Transfer          9 years 2014-06-15 15:50:00         Dog   \n",
       "4   Euthanasia         5 months 2014-07-07 14:04:00       Other   \n",
       "\n",
       "                     breed         color sex_upon_outcome date_of_birth  \n",
       "0   Domestic Shorthair Mix  Orange Tabby      Intact Male    2014-07-07  \n",
       "1               Beagle Mix   White/Brown    Spayed Female    2012-11-06  \n",
       "2                 Pit Bull    Blue/White    Neutered Male    2013-03-31  \n",
       "3  Miniature Schnauzer Mix         White    Neutered Male    2005-06-02  \n",
       "4                  Bat Mix         Brown          Unknown    2014-01-07  "
      ]
     },
     "execution_count": 4,
     "metadata": {},
     "output_type": "execute_result"
    }
   ],
   "source": [
    "shelter_outcomes = pd.read_csv(\n",
    "    \"./data/aac_shelter_outcomes.csv\", \n",
    "    parse_dates=['date_of_birth', 'datetime']\n",
    ")\n",
    "shelter_outcomes = shelter_outcomes[\n",
    "    ['outcome_type', 'age_upon_outcome', 'datetime', 'animal_type', 'breed', \n",
    "     'color', 'sex_upon_outcome', 'date_of_birth']\n",
    "]\n",
    "shelter_outcomes.head()"
   ]
  },
  {
   "cell_type": "markdown",
   "metadata": {},
   "source": [
    "En resumen: en el 1º caso, el tiempo define de alguna forma los datos, el cambiar por ejemplo el periodo de tiempo deberá cambiar todos los datos recogidos; mientras que en el 2º simplemente se trata de información adicional, y no es probable que se puedan realizar transformaciones sobre estos tiempos."
   ]
  },
  {
   "cell_type": "markdown",
   "metadata": {},
   "source": [
    "## Visualizar por agrupamiento"
   ]
  },
  {
   "cell_type": "markdown",
   "metadata": {},
   "source": [
    "Al tratarse el tiempo de variables de intervalo (cualitativas y ordenadas), podemos solicitar realizar agrupamientos.\n",
    "\n",
    "Por ejemplo, un gráfico indicando en que fechas nacieron más animales de acogida sería:"
   ]
  },
  {
   "cell_type": "code",
   "execution_count": 5,
   "metadata": {},
   "outputs": [
    {
     "data": {
      "text/plain": [
       "<matplotlib.axes._subplots.AxesSubplot at 0x8d72320>"
      ]
     },
     "execution_count": 5,
     "metadata": {},
     "output_type": "execute_result"
    }
   ],
   "source": [
    "shelter_outcomes['date_of_birth'].value_counts().sort_values().plot.line()"
   ]
  },
  {
   "cell_type": "markdown",
   "metadata": {},
   "source": [
    "El gráfico puede resultar poco claro. El problema puede ser que la cuenta de la frecuencia de las variables aparece recogida por días del año.  \n",
    "Para resumir esto y obtener una gráfica más clara, se pueden agrupar en periodos de tiempo. Es lo que se conoce como **Resampling**. Haciendo esto, se crea un resumen agrupado del conjunto de datos que modifica el conjunto, obteniendo una muestra por cada año.  \n",
    "El método en `pandas` que permite realizar esta operación se llama `resample`."
   ]
  },
  {
   "cell_type": "code",
   "execution_count": 6,
   "metadata": {},
   "outputs": [
    {
     "data": {
      "text/plain": [
       "<matplotlib.axes._subplots.AxesSubplot at 0x94bd5f8>"
      ]
     },
     "execution_count": 6,
     "metadata": {},
     "output_type": "execute_result"
    },
    {
     "data": {
      "image/png": "[encoded data removed]",
      "text/plain": [
       "<Figure size 432x288 with 1 Axes>"
      ]
     },
     "metadata": {},
     "output_type": "display_data"
    }
   ],
   "source": [
    "shelter_outcomes['date_of_birth'].value_counts().resample('Y').sum().plot.line()"
   ]
  },
  {
   "cell_type": "markdown",
   "metadata": {},
   "source": [
    "Se puede comprobar que el gráfico resulta más sencillo de interpretar: la mayoría de los animales adoptados nacieron entre los años 2014 y 2015.  \n",
    "Pandas también adapta las etiquetas de eje X, para indicar que los datos son los acumulados de un año."
   ]
  },
  {
   "cell_type": "markdown",
   "metadata": {},
   "source": [
    "Un ejemplo similar se puede realizar cuando los instantes de tiempo aparecen recogidos en el índice.  \n",
    "\n",
    "Para el conjunto de dato de la bolsa, el ejemplo podría ser:"
   ]
  },
  {
   "cell_type": "code",
   "execution_count": 7,
   "metadata": {},
   "outputs": [
    {
     "data": {
      "text/plain": [
       "<matplotlib.axes._subplots.AxesSubplot at 0x960fe10>"
      ]
     },
     "execution_count": 7,
     "metadata": {},
     "output_type": "execute_result"
    },
    {
     "data": {
      "image/png": "[encoded data removed]",
      "text/plain": [
       "<Figure size 432x288 with 1 Axes>"
      ]
     },
     "metadata": {},
     "output_type": "display_data"
    }
   ],
   "source": [
    "stocks['volume'].resample('Y').mean().plot.bar()"
   ]
  },
  {
   "cell_type": "markdown",
   "metadata": {},
   "source": [
    "## Gráficos para series temporales"
   ]
  },
  {
   "cell_type": "markdown",
   "metadata": {},
   "source": [
    "Existen algunas funciones de representación que resultan particulares de las series temporales, o al menos especialmente útiles cuando se emplean con éstas.  \n",
    "Veremos algunas de ellas ahora:"
   ]
  },
  {
   "cell_type": "markdown",
   "metadata": {},
   "source": [
    "### Gráfico de Retardo (Lag Plot)"
   ]
  },
  {
   "cell_type": "markdown",
   "metadata": {},
   "source": [
    "Este tipo de gráficos permite comparar una muestra en un determinado instante de tiempo con la misma variable un cierto periodo de tiempo anterior (normalmente la muestra anterior).\n",
    "\n",
    "Este tipo de gráficos permite determinar visualmente si la serie de datos sigue una correlación, es decir, datos en un instante se asemejan a los del instante anterior (o si son aleatorios)."
   ]
  },
  {
   "cell_type": "code",
   "execution_count": 8,
   "metadata": {},
   "outputs": [
    {
     "data": {
      "text/plain": [
       "<matplotlib.axes._subplots.AxesSubplot at 0x96e7cc0>"
      ]
     },
     "execution_count": 8,
     "metadata": {},
     "output_type": "execute_result"
    },
    {
     "data": {
      "image/png": "[encoded data removed]",
      "text/plain": [
       "<Figure size 432x288 with 1 Axes>"
      ]
     },
     "metadata": {},
     "output_type": "display_data"
    }
   ],
   "source": [
    "from pandas.plotting import lag_plot\n",
    "\n",
    "lag_plot(stocks['volume'].tail(250))"
   ]
  },
  {
   "cell_type": "markdown",
   "metadata": {},
   "source": [
    "Las series temporales suelen exhibir la característica de la **periodicidad**. Esto implica que los picos y los valles de los valores de la serie suelen coincidir con determinados periodos de tiempo.\n",
    "\n",
    "P. ej: un gimnasio suele tener un pico de asistencia al final de cada día, cuando los clientes salen de sus trabajos (periodicidad diaria); mientras que un bar probablemente vea un pico de clientes los fines de semana (periodicidad semanal).\n",
    "\n",
    "Este tipo de gráficos de retardo permite comprobar si existe este tipo de correlación claramente en el conjunto. \n",
    "** Nótese que sólo podrá comprobarse en el caso de una dependencia \"fuerte\" con el tiempo (intervalos regulares en el conjunto de datos)."
   ]
  },
  {
   "cell_type": "markdown",
   "metadata": {},
   "source": [
    "### Gráfico de Autocorrelación (Autocorrelation Plot)"
   ]
  },
  {
   "cell_type": "markdown",
   "metadata": {},
   "source": [
    "Una gráfica que lleva este concepto de correlación un poco más allá es el gráfico de correlación.  \n",
    "\n",
    "Permite representar todas las periodicidades a la vez. Se trata de una técnica de resumen multi-variable que computa una característica (llamada correlation score) evaluando esta para todos los lags o retardos disponibles en el conjunto de datos. Este proceso se conoce como autocorrelación.\n",
    "\n",
    "En el gráfico de autocorrelación, el retardo aparece en el eje de las x, mientras que el índice de autocorrelación aparece en el de las y. Cuanto más alejada está la autocorrelación de 0, mayor será la influencia que las muestras que están a esa distancia ejercen sobre las otras a esa misma distancia."
   ]
  },
  {
   "cell_type": "code",
   "execution_count": 9,
   "metadata": {},
   "outputs": [
    {
     "data": {
      "text/plain": [
       "<matplotlib.axes._subplots.AxesSubplot at 0x9784eb8>"
      ]
     },
     "execution_count": 9,
     "metadata": {},
     "output_type": "execute_result"
    },
    {
     "data": {
      "image/png": "[encoded data removed]",
      "text/plain": [
       "<Figure size 432x288 with 1 Axes>"
      ]
     },
     "metadata": {},
     "output_type": "display_data"
    }
   ],
   "source": [
    "from pandas.plotting import autocorrelation_plot\n",
    "\n",
    "autocorrelation_plot(stocks['volume'])"
   ]
  },
  {
   "cell_type": "markdown",
   "metadata": {},
   "source": [
    "En el caso de los valores bursátiles, se puede comprobar que el volumen de compra-venta aparece descendentemente correlacionado de forma ligera con los valores del año anterior. Está recogido por días, por lo que alrededor de 365 podemos ver la correlación de exactamente un año.\n",
    "\n",
    "Esto implica un concepto que es más o menos sabido: el volumen de actividad bursatil de un año no tiene ninguna influencia o correlación sobre el volumen del mismo día del año siguiente."
   ]
  },
  {
   "cell_type": "code",
   "execution_count": null,
   "metadata": {},
   "outputs": [],
   "source": []
  }
 ],
 "metadata": {
  "kernelspec": {
   "display_name": "Python 3",
   "language": "python",
   "name": "python3"
  },
  "language_info": {
   "codemirror_mode": {
    "name": "ipython",
    "version": 3
   },
   "file_extension": ".py",
   "mimetype": "text/x-python",
   "name": "python",
   "nbconvert_exporter": "python",
   "pygments_lexer": "ipython3",
   "version": "3.6.6"
  }
 },
 "nbformat": 4,
 "nbformat_minor": 2
}
