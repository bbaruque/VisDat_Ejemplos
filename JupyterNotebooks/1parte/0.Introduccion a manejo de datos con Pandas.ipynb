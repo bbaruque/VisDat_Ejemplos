{
  "nbformat": 4,
  "nbformat_minor": 0,
  "metadata": {
    "colab": {
      "name": "0.Introduccion a manejo de datos con Pandas.ipynb",
      "version": "0.3.2",
      "provenance": [],
      "toc_visible": true
    },
    "kernelspec": {
      "display_name": "Python 3",
      "language": "python",
      "name": "python3"
    }
  },
  "cells": [
    {
      "metadata": {
        "id": "Tsuyg74rQQfU",
        "colab_type": "text"
      },
      "cell_type": "markdown",
      "source": [
        "# Introduccion a manejo de datos con Pandas\n",
        "\n",
        "**Pandas** es una librería de manipulación de datos. Es probablemente una de las más extendidas en el campo. \n",
        "Se recomienda revisar la página oficial para acceder a la documentación de funcionamiento.\n",
        "Incluye funciones para la visualización exploratoria de los datos que emplearemos en estos ejercicios.\n",
        "\n",
        "- Página oficial de documentación: https://pandas.pydata.org/pandas-docs/stable/index.html\n",
        "- En \"10 minutes to pandas\" realiza un resumen rápido de las características más importantes (en la asignatura sólo veremos unas pocas): https://pandas.pydata.org/pandas-docs/stable/10min.html\n",
        "\n",
        "A continuación se muestran ejemplos de las funcionalidades que más se puede necesitar encontrar. Los ejemplos se basan en el tutorial de \"10 minutes to pandas\".\n",
        "\n",
        "Adicionalmente, se emplea en algunos apartados la librería **Numpy** (para computación matemática). No se emplea de forma exhaustiva, pero de ser necesario, se puede encontrar la referencia de la misma aquí: https://docs.scipy.org/doc/numpy/reference/"
      ]
    },
    {
      "metadata": {
        "id": "sCdZrR9HQQfd",
        "colab_type": "text"
      },
      "cell_type": "markdown",
      "source": [
        "En todos los casos, lo primero que se hace en el script es importar las librerías que se van a emplear:"
      ]
    },
    {
      "metadata": {
        "id": "T8ZxVg4UQQfi",
        "colab_type": "code",
        "colab": {}
      },
      "cell_type": "code",
      "source": [
        "import pandas as pd #Librería para el manejo de datos en Python. Permite realizar visualizaciones sencillas.\n",
        "import numpy as np #Librería para computación numérica en Python."
      ],
      "execution_count": 0,
      "outputs": []
    },
    {
      "metadata": {
        "id": "JgDqbhsQQQft",
        "colab_type": "text"
      },
      "cell_type": "markdown",
      "source": [
        "## Crear Objetos de Datos"
      ]
    },
    {
      "metadata": {
        "id": "SLwEE0luQQfu",
        "colab_type": "text"
      },
      "cell_type": "markdown",
      "source": [
        "En pandas emplearemos en estos ejercicios principalmente 2 tipos de estructuras:\n",
        " - Series: Son arrays unidimensionales con indexación (arrays con índice o etiquetados), similares a los [diccionarios](https://docs.python.org/2/tutorial/datastructures.html#dictionaries). Pueden generarse a partir de diccionarios o de [listas](https://docs.python.org/2/tutorial/datastructures.html#more-on-lists).\n",
        " - DataFrame: Son estructuras de datos similares a las tablas de bases de datos relacionales como SQL. \n",
        " Los DataFrame contienen siempre un índice (que identifica cada entrada / fila) y generalmente varias columnas (identifican cada dato en la(s) entrada(s)). El índice será siempre de tipo 'Serie'. \n",
        " Pueden emplearse índices temporales (timestamps) o índices numéricos.\n",
        " \n",
        " Una introducción a este tipo de estructuras se recoge aquí: https://pandas.pydata.org/pandas-docs/stable/dsintro.html"
      ]
    },
    {
      "metadata": {
        "id": "TiREZHt6QQfw",
        "colab_type": "code",
        "colab": {},
        "outputId": "91b4de96-8074-40d9-ae31-747ec57d2c9a"
      },
      "cell_type": "code",
      "source": [
        "# Generacion de una Serie numérica\n",
        "s = pd.Series([1,3,5,np.nan,6,8])\n",
        "s"
      ],
      "execution_count": 0,
      "outputs": [
        {
          "output_type": "execute_result",
          "data": {
            "text/plain": [
              "0    1.0\n",
              "1    3.0\n",
              "2    5.0\n",
              "3    NaN\n",
              "4    6.0\n",
              "5    8.0\n",
              "dtype: float64"
            ]
          },
          "metadata": {
            "tags": []
          },
          "execution_count": 2
        }
      ]
    },
    {
      "metadata": {
        "id": "Z84E0pWSQQf6",
        "colab_type": "code",
        "colab": {},
        "outputId": "5f326534-2231-44f0-ecce-ee809d32125f"
      },
      "cell_type": "code",
      "source": [
        "# Generacion de una Serie temporal\n",
        "dates = pd.date_range('20130101', periods=6)\n",
        "dates"
      ],
      "execution_count": 0,
      "outputs": [
        {
          "output_type": "execute_result",
          "data": {
            "text/plain": [
              "DatetimeIndex(['2013-01-01', '2013-01-02', '2013-01-03', '2013-01-04',\n",
              "               '2013-01-05', '2013-01-06'],\n",
              "              dtype='datetime64[ns]', freq='D')"
            ]
          },
          "metadata": {
            "tags": []
          },
          "execution_count": 3
        }
      ]
    },
    {
      "metadata": {
        "id": "pqAUixeSQQgD",
        "colab_type": "code",
        "colab": {},
        "outputId": "2bfa75a1-5b06-4a3b-b29a-04db134a153a"
      },
      "cell_type": "code",
      "source": [
        "# Generacion de un DataFrame que emplea la serie temporal como índice\n",
        "df = pd.DataFrame(np.random.randn(6,4), index=dates, columns=list('ABCD'))\n",
        "df"
      ],
      "execution_count": 0,
      "outputs": [
        {
          "output_type": "execute_result",
          "data": {
            "text/html": [
              "<div>\n",
              "<style scoped>\n",
              "    .dataframe tbody tr th:only-of-type {\n",
              "        vertical-align: middle;\n",
              "    }\n",
              "\n",
              "    .dataframe tbody tr th {\n",
              "        vertical-align: top;\n",
              "    }\n",
              "\n",
              "    .dataframe thead th {\n",
              "        text-align: right;\n",
              "    }\n",
              "</style>\n",
              "<table border=\"1\" class=\"dataframe\">\n",
              "  <thead>\n",
              "    <tr style=\"text-align: right;\">\n",
              "      <th></th>\n",
              "      <th>A</th>\n",
              "      <th>B</th>\n",
              "      <th>C</th>\n",
              "      <th>D</th>\n",
              "    </tr>\n",
              "  </thead>\n",
              "  <tbody>\n",
              "    <tr>\n",
              "      <th>2013-01-01</th>\n",
              "      <td>0.407875</td>\n",
              "      <td>0.613833</td>\n",
              "      <td>1.085321</td>\n",
              "      <td>-1.059496</td>\n",
              "    </tr>\n",
              "    <tr>\n",
              "      <th>2013-01-02</th>\n",
              "      <td>-0.703462</td>\n",
              "      <td>1.084399</td>\n",
              "      <td>-1.808749</td>\n",
              "      <td>1.125869</td>\n",
              "    </tr>\n",
              "    <tr>\n",
              "      <th>2013-01-03</th>\n",
              "      <td>-1.047285</td>\n",
              "      <td>1.387736</td>\n",
              "      <td>-0.810255</td>\n",
              "      <td>-1.027657</td>\n",
              "    </tr>\n",
              "    <tr>\n",
              "      <th>2013-01-04</th>\n",
              "      <td>-0.331057</td>\n",
              "      <td>-0.006956</td>\n",
              "      <td>-1.045402</td>\n",
              "      <td>-0.369908</td>\n",
              "    </tr>\n",
              "    <tr>\n",
              "      <th>2013-01-05</th>\n",
              "      <td>0.356486</td>\n",
              "      <td>0.545373</td>\n",
              "      <td>-1.177599</td>\n",
              "      <td>-0.238338</td>\n",
              "    </tr>\n",
              "    <tr>\n",
              "      <th>2013-01-06</th>\n",
              "      <td>0.536877</td>\n",
              "      <td>-0.592833</td>\n",
              "      <td>-0.199576</td>\n",
              "      <td>-0.337726</td>\n",
              "    </tr>\n",
              "  </tbody>\n",
              "</table>\n",
              "</div>"
            ],
            "text/plain": [
              "                   A         B         C         D\n",
              "2013-01-01  0.407875  0.613833  1.085321 -1.059496\n",
              "2013-01-02 -0.703462  1.084399 -1.808749  1.125869\n",
              "2013-01-03 -1.047285  1.387736 -0.810255 -1.027657\n",
              "2013-01-04 -0.331057 -0.006956 -1.045402 -0.369908\n",
              "2013-01-05  0.356486  0.545373 -1.177599 -0.238338\n",
              "2013-01-06  0.536877 -0.592833 -0.199576 -0.337726"
            ]
          },
          "metadata": {
            "tags": []
          },
          "execution_count": 4
        }
      ]
    },
    {
      "metadata": {
        "id": "g3eApKv9QQgM",
        "colab_type": "text"
      },
      "cell_type": "markdown",
      "source": [
        "## Mostrar datos"
      ]
    },
    {
      "metadata": {
        "id": "WkUu842aQQgO",
        "colab_type": "code",
        "colab": {},
        "outputId": "2038f162-8132-4d14-9a14-bae4e089c262"
      },
      "cell_type": "code",
      "source": [
        "# X primeros elementos (segun el indice)\n",
        "df.head(2)"
      ],
      "execution_count": 0,
      "outputs": [
        {
          "output_type": "execute_result",
          "data": {
            "text/html": [
              "<div>\n",
              "<style scoped>\n",
              "    .dataframe tbody tr th:only-of-type {\n",
              "        vertical-align: middle;\n",
              "    }\n",
              "\n",
              "    .dataframe tbody tr th {\n",
              "        vertical-align: top;\n",
              "    }\n",
              "\n",
              "    .dataframe thead th {\n",
              "        text-align: right;\n",
              "    }\n",
              "</style>\n",
              "<table border=\"1\" class=\"dataframe\">\n",
              "  <thead>\n",
              "    <tr style=\"text-align: right;\">\n",
              "      <th></th>\n",
              "      <th>A</th>\n",
              "      <th>B</th>\n",
              "      <th>C</th>\n",
              "      <th>D</th>\n",
              "    </tr>\n",
              "  </thead>\n",
              "  <tbody>\n",
              "    <tr>\n",
              "      <th>2013-01-01</th>\n",
              "      <td>0.407875</td>\n",
              "      <td>0.613833</td>\n",
              "      <td>1.085321</td>\n",
              "      <td>-1.059496</td>\n",
              "    </tr>\n",
              "    <tr>\n",
              "      <th>2013-01-02</th>\n",
              "      <td>-0.703462</td>\n",
              "      <td>1.084399</td>\n",
              "      <td>-1.808749</td>\n",
              "      <td>1.125869</td>\n",
              "    </tr>\n",
              "  </tbody>\n",
              "</table>\n",
              "</div>"
            ],
            "text/plain": [
              "                   A         B         C         D\n",
              "2013-01-01  0.407875  0.613833  1.085321 -1.059496\n",
              "2013-01-02 -0.703462  1.084399 -1.808749  1.125869"
            ]
          },
          "metadata": {
            "tags": []
          },
          "execution_count": 5
        }
      ]
    },
    {
      "metadata": {
        "id": "qEYH2QDUQQgV",
        "colab_type": "code",
        "colab": {},
        "outputId": "ae0435f8-a6ed-4aae-c29d-a3d9fe53d47c"
      },
      "cell_type": "code",
      "source": [
        "# X ultimos elementos (segun el indice)\n",
        "df.tail(2)"
      ],
      "execution_count": 0,
      "outputs": [
        {
          "output_type": "execute_result",
          "data": {
            "text/html": [
              "<div>\n",
              "<style scoped>\n",
              "    .dataframe tbody tr th:only-of-type {\n",
              "        vertical-align: middle;\n",
              "    }\n",
              "\n",
              "    .dataframe tbody tr th {\n",
              "        vertical-align: top;\n",
              "    }\n",
              "\n",
              "    .dataframe thead th {\n",
              "        text-align: right;\n",
              "    }\n",
              "</style>\n",
              "<table border=\"1\" class=\"dataframe\">\n",
              "  <thead>\n",
              "    <tr style=\"text-align: right;\">\n",
              "      <th></th>\n",
              "      <th>A</th>\n",
              "      <th>B</th>\n",
              "      <th>C</th>\n",
              "      <th>D</th>\n",
              "    </tr>\n",
              "  </thead>\n",
              "  <tbody>\n",
              "    <tr>\n",
              "      <th>2013-01-05</th>\n",
              "      <td>0.356486</td>\n",
              "      <td>0.545373</td>\n",
              "      <td>-1.177599</td>\n",
              "      <td>-0.238338</td>\n",
              "    </tr>\n",
              "    <tr>\n",
              "      <th>2013-01-06</th>\n",
              "      <td>0.536877</td>\n",
              "      <td>-0.592833</td>\n",
              "      <td>-0.199576</td>\n",
              "      <td>-0.337726</td>\n",
              "    </tr>\n",
              "  </tbody>\n",
              "</table>\n",
              "</div>"
            ],
            "text/plain": [
              "                   A         B         C         D\n",
              "2013-01-05  0.356486  0.545373 -1.177599 -0.238338\n",
              "2013-01-06  0.536877 -0.592833 -0.199576 -0.337726"
            ]
          },
          "metadata": {
            "tags": []
          },
          "execution_count": 6
        }
      ]
    },
    {
      "metadata": {
        "id": "CwnF2gRzQQgf",
        "colab_type": "code",
        "colab": {},
        "outputId": "b9ba0cee-4e4e-4058-e01c-3227f1261be6"
      },
      "cell_type": "code",
      "source": [
        "# Mostrar índice\n",
        "df.index"
      ],
      "execution_count": 0,
      "outputs": [
        {
          "output_type": "execute_result",
          "data": {
            "text/plain": [
              "DatetimeIndex(['2013-01-01', '2013-01-02', '2013-01-03', '2013-01-04',\n",
              "               '2013-01-05', '2013-01-06'],\n",
              "              dtype='datetime64[ns]', freq='D')"
            ]
          },
          "metadata": {
            "tags": []
          },
          "execution_count": 7
        }
      ]
    },
    {
      "metadata": {
        "id": "vE2BkA4VQQgq",
        "colab_type": "code",
        "colab": {},
        "outputId": "a495f629-5208-4a88-8851-f283015d1e68"
      },
      "cell_type": "code",
      "source": [
        "# Mostrar valores\n",
        "df.values"
      ],
      "execution_count": 0,
      "outputs": [
        {
          "output_type": "execute_result",
          "data": {
            "text/plain": [
              "array([[ 0.40787468,  0.613833  ,  1.08532087, -1.05949616],\n",
              "       [-0.70346214,  1.08439914, -1.80874856,  1.1258693 ],\n",
              "       [-1.04728454,  1.38773597, -0.81025549, -1.02765696],\n",
              "       [-0.33105694, -0.00695613, -1.04540215, -0.36990799],\n",
              "       [ 0.35648603,  0.54537292, -1.17759889, -0.23833799],\n",
              "       [ 0.53687652, -0.59283282, -0.1995763 , -0.33772583]])"
            ]
          },
          "metadata": {
            "tags": []
          },
          "execution_count": 8
        }
      ]
    },
    {
      "metadata": {
        "id": "kjSKacHWRbXq",
        "colab_type": "code",
        "colab": {}
      },
      "cell_type": "code",
      "source": [
        "# Mostrar columnas\n",
        "df.columns"
      ],
      "execution_count": 0,
      "outputs": []
    },
    {
      "metadata": {
        "id": "m8n1hXdfRcbI",
        "colab_type": "raw"
      },
      "cell_type": "markdown",
      "source": [
        "# Mostrar columnas\n",
        "df.columns"
      ]
    },
    {
      "metadata": {
        "id": "BDvog82tQQgx",
        "colab_type": "code",
        "colab": {},
        "outputId": "4d00a57d-ef8f-40da-f7b0-4ed47bd7c3d1"
      },
      "cell_type": "code",
      "source": [
        "# Breve descripción\n",
        "df.describe()"
      ],
      "execution_count": 0,
      "outputs": [
        {
          "output_type": "execute_result",
          "data": {
            "text/html": [
              "<div>\n",
              "<style scoped>\n",
              "    .dataframe tbody tr th:only-of-type {\n",
              "        vertical-align: middle;\n",
              "    }\n",
              "\n",
              "    .dataframe tbody tr th {\n",
              "        vertical-align: top;\n",
              "    }\n",
              "\n",
              "    .dataframe thead th {\n",
              "        text-align: right;\n",
              "    }\n",
              "</style>\n",
              "<table border=\"1\" class=\"dataframe\">\n",
              "  <thead>\n",
              "    <tr style=\"text-align: right;\">\n",
              "      <th></th>\n",
              "      <th>A</th>\n",
              "      <th>B</th>\n",
              "      <th>C</th>\n",
              "      <th>D</th>\n",
              "    </tr>\n",
              "  </thead>\n",
              "  <tbody>\n",
              "    <tr>\n",
              "      <th>count</th>\n",
              "      <td>6.000000</td>\n",
              "      <td>6.000000</td>\n",
              "      <td>6.000000</td>\n",
              "      <td>6.000000</td>\n",
              "    </tr>\n",
              "    <tr>\n",
              "      <th>mean</th>\n",
              "      <td>-0.130094</td>\n",
              "      <td>0.505259</td>\n",
              "      <td>-0.659377</td>\n",
              "      <td>-0.317876</td>\n",
              "    </tr>\n",
              "    <tr>\n",
              "      <th>std</th>\n",
              "      <td>0.660514</td>\n",
              "      <td>0.720519</td>\n",
              "      <td>1.001676</td>\n",
              "      <td>0.793425</td>\n",
              "    </tr>\n",
              "    <tr>\n",
              "      <th>min</th>\n",
              "      <td>-1.047285</td>\n",
              "      <td>-0.592833</td>\n",
              "      <td>-1.808749</td>\n",
              "      <td>-1.059496</td>\n",
              "    </tr>\n",
              "    <tr>\n",
              "      <th>25%</th>\n",
              "      <td>-0.610361</td>\n",
              "      <td>0.131126</td>\n",
              "      <td>-1.144550</td>\n",
              "      <td>-0.863220</td>\n",
              "    </tr>\n",
              "    <tr>\n",
              "      <th>50%</th>\n",
              "      <td>0.012715</td>\n",
              "      <td>0.579603</td>\n",
              "      <td>-0.927829</td>\n",
              "      <td>-0.353817</td>\n",
              "    </tr>\n",
              "    <tr>\n",
              "      <th>75%</th>\n",
              "      <td>0.395028</td>\n",
              "      <td>0.966758</td>\n",
              "      <td>-0.352246</td>\n",
              "      <td>-0.263185</td>\n",
              "    </tr>\n",
              "    <tr>\n",
              "      <th>max</th>\n",
              "      <td>0.536877</td>\n",
              "      <td>1.387736</td>\n",
              "      <td>1.085321</td>\n",
              "      <td>1.125869</td>\n",
              "    </tr>\n",
              "  </tbody>\n",
              "</table>\n",
              "</div>"
            ],
            "text/plain": [
              "              A         B         C         D\n",
              "count  6.000000  6.000000  6.000000  6.000000\n",
              "mean  -0.130094  0.505259 -0.659377 -0.317876\n",
              "std    0.660514  0.720519  1.001676  0.793425\n",
              "min   -1.047285 -0.592833 -1.808749 -1.059496\n",
              "25%   -0.610361  0.131126 -1.144550 -0.863220\n",
              "50%    0.012715  0.579603 -0.927829 -0.353817\n",
              "75%    0.395028  0.966758 -0.352246 -0.263185\n",
              "max    0.536877  1.387736  1.085321  1.125869"
            ]
          },
          "metadata": {
            "tags": []
          },
          "execution_count": 9
        }
      ]
    },
    {
      "metadata": {
        "id": "1yjsqi9RQQg3",
        "colab_type": "code",
        "colab": {},
        "outputId": "5c06d10b-120b-4b09-a1a5-a056fa1ced8c"
      },
      "cell_type": "code",
      "source": [
        "# Ordenar datos en el eje horizontal (columnas)\n",
        "df.sort_index(axis=1, ascending=False)"
      ],
      "execution_count": 0,
      "outputs": [
        {
          "output_type": "execute_result",
          "data": {
            "text/html": [
              "<div>\n",
              "<style scoped>\n",
              "    .dataframe tbody tr th:only-of-type {\n",
              "        vertical-align: middle;\n",
              "    }\n",
              "\n",
              "    .dataframe tbody tr th {\n",
              "        vertical-align: top;\n",
              "    }\n",
              "\n",
              "    .dataframe thead th {\n",
              "        text-align: right;\n",
              "    }\n",
              "</style>\n",
              "<table border=\"1\" class=\"dataframe\">\n",
              "  <thead>\n",
              "    <tr style=\"text-align: right;\">\n",
              "      <th></th>\n",
              "      <th>D</th>\n",
              "      <th>C</th>\n",
              "      <th>B</th>\n",
              "      <th>A</th>\n",
              "    </tr>\n",
              "  </thead>\n",
              "  <tbody>\n",
              "    <tr>\n",
              "      <th>2013-01-01</th>\n",
              "      <td>-1.059496</td>\n",
              "      <td>1.085321</td>\n",
              "      <td>0.613833</td>\n",
              "      <td>0.407875</td>\n",
              "    </tr>\n",
              "    <tr>\n",
              "      <th>2013-01-02</th>\n",
              "      <td>1.125869</td>\n",
              "      <td>-1.808749</td>\n",
              "      <td>1.084399</td>\n",
              "      <td>-0.703462</td>\n",
              "    </tr>\n",
              "    <tr>\n",
              "      <th>2013-01-03</th>\n",
              "      <td>-1.027657</td>\n",
              "      <td>-0.810255</td>\n",
              "      <td>1.387736</td>\n",
              "      <td>-1.047285</td>\n",
              "    </tr>\n",
              "    <tr>\n",
              "      <th>2013-01-04</th>\n",
              "      <td>-0.369908</td>\n",
              "      <td>-1.045402</td>\n",
              "      <td>-0.006956</td>\n",
              "      <td>-0.331057</td>\n",
              "    </tr>\n",
              "    <tr>\n",
              "      <th>2013-01-05</th>\n",
              "      <td>-0.238338</td>\n",
              "      <td>-1.177599</td>\n",
              "      <td>0.545373</td>\n",
              "      <td>0.356486</td>\n",
              "    </tr>\n",
              "    <tr>\n",
              "      <th>2013-01-06</th>\n",
              "      <td>-0.337726</td>\n",
              "      <td>-0.199576</td>\n",
              "      <td>-0.592833</td>\n",
              "      <td>0.536877</td>\n",
              "    </tr>\n",
              "  </tbody>\n",
              "</table>\n",
              "</div>"
            ],
            "text/plain": [
              "                   D         C         B         A\n",
              "2013-01-01 -1.059496  1.085321  0.613833  0.407875\n",
              "2013-01-02  1.125869 -1.808749  1.084399 -0.703462\n",
              "2013-01-03 -1.027657 -0.810255  1.387736 -1.047285\n",
              "2013-01-04 -0.369908 -1.045402 -0.006956 -0.331057\n",
              "2013-01-05 -0.238338 -1.177599  0.545373  0.356486\n",
              "2013-01-06 -0.337726 -0.199576 -0.592833  0.536877"
            ]
          },
          "metadata": {
            "tags": []
          },
          "execution_count": 10
        }
      ]
    },
    {
      "metadata": {
        "id": "xJCiTmsnQQg8",
        "colab_type": "code",
        "colab": {},
        "outputId": "97da5f56-a049-4d3d-f8d7-a92fd622478b"
      },
      "cell_type": "code",
      "source": [
        "# Ordenar datos en el eje vertical (columna B)\n",
        "df.sort_values(by='B')"
      ],
      "execution_count": 0,
      "outputs": [
        {
          "output_type": "execute_result",
          "data": {
            "text/html": [
              "<div>\n",
              "<style scoped>\n",
              "    .dataframe tbody tr th:only-of-type {\n",
              "        vertical-align: middle;\n",
              "    }\n",
              "\n",
              "    .dataframe tbody tr th {\n",
              "        vertical-align: top;\n",
              "    }\n",
              "\n",
              "    .dataframe thead th {\n",
              "        text-align: right;\n",
              "    }\n",
              "</style>\n",
              "<table border=\"1\" class=\"dataframe\">\n",
              "  <thead>\n",
              "    <tr style=\"text-align: right;\">\n",
              "      <th></th>\n",
              "      <th>A</th>\n",
              "      <th>B</th>\n",
              "      <th>C</th>\n",
              "      <th>D</th>\n",
              "    </tr>\n",
              "  </thead>\n",
              "  <tbody>\n",
              "    <tr>\n",
              "      <th>2013-01-06</th>\n",
              "      <td>0.536877</td>\n",
              "      <td>-0.592833</td>\n",
              "      <td>-0.199576</td>\n",
              "      <td>-0.337726</td>\n",
              "    </tr>\n",
              "    <tr>\n",
              "      <th>2013-01-04</th>\n",
              "      <td>-0.331057</td>\n",
              "      <td>-0.006956</td>\n",
              "      <td>-1.045402</td>\n",
              "      <td>-0.369908</td>\n",
              "    </tr>\n",
              "    <tr>\n",
              "      <th>2013-01-05</th>\n",
              "      <td>0.356486</td>\n",
              "      <td>0.545373</td>\n",
              "      <td>-1.177599</td>\n",
              "      <td>-0.238338</td>\n",
              "    </tr>\n",
              "    <tr>\n",
              "      <th>2013-01-01</th>\n",
              "      <td>0.407875</td>\n",
              "      <td>0.613833</td>\n",
              "      <td>1.085321</td>\n",
              "      <td>-1.059496</td>\n",
              "    </tr>\n",
              "    <tr>\n",
              "      <th>2013-01-02</th>\n",
              "      <td>-0.703462</td>\n",
              "      <td>1.084399</td>\n",
              "      <td>-1.808749</td>\n",
              "      <td>1.125869</td>\n",
              "    </tr>\n",
              "    <tr>\n",
              "      <th>2013-01-03</th>\n",
              "      <td>-1.047285</td>\n",
              "      <td>1.387736</td>\n",
              "      <td>-0.810255</td>\n",
              "      <td>-1.027657</td>\n",
              "    </tr>\n",
              "  </tbody>\n",
              "</table>\n",
              "</div>"
            ],
            "text/plain": [
              "                   A         B         C         D\n",
              "2013-01-06  0.536877 -0.592833 -0.199576 -0.337726\n",
              "2013-01-04 -0.331057 -0.006956 -1.045402 -0.369908\n",
              "2013-01-05  0.356486  0.545373 -1.177599 -0.238338\n",
              "2013-01-01  0.407875  0.613833  1.085321 -1.059496\n",
              "2013-01-02 -0.703462  1.084399 -1.808749  1.125869\n",
              "2013-01-03 -1.047285  1.387736 -0.810255 -1.027657"
            ]
          },
          "metadata": {
            "tags": []
          },
          "execution_count": 11
        }
      ]
    },
    {
      "metadata": {
        "id": "SR4o2IKMQQhC",
        "colab_type": "text"
      },
      "cell_type": "markdown",
      "source": [
        "## Selección de datos"
      ]
    },
    {
      "metadata": {
        "id": "ovGOLxQ3QQhD",
        "colab_type": "text"
      },
      "cell_type": "markdown",
      "source": [
        "Selección de columnas.  \n",
        "La selección incluye también el índice, si no se indica lo contrario."
      ]
    },
    {
      "metadata": {
        "id": "3qV3iY4iQQhE",
        "colab_type": "code",
        "colab": {},
        "outputId": "42967af1-f03d-45f2-ad2b-a7f06b71434e"
      },
      "cell_type": "code",
      "source": [
        "df['A']"
      ],
      "execution_count": 0,
      "outputs": [
        {
          "output_type": "execute_result",
          "data": {
            "text/plain": [
              "2013-01-01    0.407875\n",
              "2013-01-02   -0.703462\n",
              "2013-01-03   -1.047285\n",
              "2013-01-04   -0.331057\n",
              "2013-01-05    0.356486\n",
              "2013-01-06    0.536877\n",
              "Freq: D, Name: A, dtype: float64"
            ]
          },
          "metadata": {
            "tags": []
          },
          "execution_count": 12
        }
      ]
    },
    {
      "metadata": {
        "id": "ux8FgUzRQQhN",
        "colab_type": "text"
      },
      "cell_type": "markdown",
      "source": [
        "Para obtener solo los valores de una columna, se deben solicitar éstos"
      ]
    },
    {
      "metadata": {
        "id": "HS86mErDQQhP",
        "colab_type": "code",
        "colab": {},
        "outputId": "7d0f87a1-072e-4394-a27c-6e0d3fee04d8"
      },
      "cell_type": "code",
      "source": [
        "df['A'].values"
      ],
      "execution_count": 0,
      "outputs": [
        {
          "output_type": "execute_result",
          "data": {
            "text/plain": [
              "array([ 0.40787468, -0.70346214, -1.04728454, -0.33105694,  0.35648603,\n",
              "        0.53687652])"
            ]
          },
          "metadata": {
            "tags": []
          },
          "execution_count": 13
        }
      ]
    },
    {
      "metadata": {
        "id": "4Lpxk485QQhc",
        "colab_type": "code",
        "colab": {},
        "outputId": "95470acb-0c32-49fd-8dd0-0cafb79b2113"
      },
      "cell_type": "code",
      "source": [
        "df.A"
      ],
      "execution_count": 0,
      "outputs": [
        {
          "output_type": "execute_result",
          "data": {
            "text/plain": [
              "2013-01-01    0.407875\n",
              "2013-01-02   -0.703462\n",
              "2013-01-03   -1.047285\n",
              "2013-01-04   -0.331057\n",
              "2013-01-05    0.356486\n",
              "2013-01-06    0.536877\n",
              "Freq: D, Name: A, dtype: float64"
            ]
          },
          "metadata": {
            "tags": []
          },
          "execution_count": 14
        }
      ]
    },
    {
      "metadata": {
        "id": "7-p38ZWWQQhq",
        "colab_type": "text"
      },
      "cell_type": "markdown",
      "source": [
        "Seleccion de filas (deben ser contigüas en la tabla)"
      ]
    },
    {
      "metadata": {
        "id": "ma_aSaehQQht",
        "colab_type": "code",
        "colab": {},
        "outputId": "599466d3-bc91-4f81-d48d-68bd8f87f11f"
      },
      "cell_type": "code",
      "source": [
        "df[0:3]"
      ],
      "execution_count": 0,
      "outputs": [
        {
          "output_type": "execute_result",
          "data": {
            "text/html": [
              "<div>\n",
              "<style scoped>\n",
              "    .dataframe tbody tr th:only-of-type {\n",
              "        vertical-align: middle;\n",
              "    }\n",
              "\n",
              "    .dataframe tbody tr th {\n",
              "        vertical-align: top;\n",
              "    }\n",
              "\n",
              "    .dataframe thead th {\n",
              "        text-align: right;\n",
              "    }\n",
              "</style>\n",
              "<table border=\"1\" class=\"dataframe\">\n",
              "  <thead>\n",
              "    <tr style=\"text-align: right;\">\n",
              "      <th></th>\n",
              "      <th>A</th>\n",
              "      <th>B</th>\n",
              "      <th>C</th>\n",
              "      <th>D</th>\n",
              "    </tr>\n",
              "  </thead>\n",
              "  <tbody>\n",
              "    <tr>\n",
              "      <th>2013-01-01</th>\n",
              "      <td>0.407875</td>\n",
              "      <td>0.613833</td>\n",
              "      <td>1.085321</td>\n",
              "      <td>-1.059496</td>\n",
              "    </tr>\n",
              "    <tr>\n",
              "      <th>2013-01-02</th>\n",
              "      <td>-0.703462</td>\n",
              "      <td>1.084399</td>\n",
              "      <td>-1.808749</td>\n",
              "      <td>1.125869</td>\n",
              "    </tr>\n",
              "    <tr>\n",
              "      <th>2013-01-03</th>\n",
              "      <td>-1.047285</td>\n",
              "      <td>1.387736</td>\n",
              "      <td>-0.810255</td>\n",
              "      <td>-1.027657</td>\n",
              "    </tr>\n",
              "  </tbody>\n",
              "</table>\n",
              "</div>"
            ],
            "text/plain": [
              "                   A         B         C         D\n",
              "2013-01-01  0.407875  0.613833  1.085321 -1.059496\n",
              "2013-01-02 -0.703462  1.084399 -1.808749  1.125869\n",
              "2013-01-03 -1.047285  1.387736 -0.810255 -1.027657"
            ]
          },
          "metadata": {
            "tags": []
          },
          "execution_count": 15
        }
      ]
    },
    {
      "metadata": {
        "id": "wXPcdR0dQQhz",
        "colab_type": "text"
      },
      "cell_type": "markdown",
      "source": [
        "### Selection por Etiquetas"
      ]
    },
    {
      "metadata": {
        "id": "R-ZctwZSQQh1",
        "colab_type": "text"
      },
      "cell_type": "markdown",
      "source": [
        "Se puede seleccionar una fila por medio de su indice"
      ]
    },
    {
      "metadata": {
        "id": "faY6XymvQQh2",
        "colab_type": "code",
        "colab": {},
        "outputId": "9ea2311d-0536-4ffc-ca6d-5bff75b6df30"
      },
      "cell_type": "code",
      "source": [
        "dates"
      ],
      "execution_count": 0,
      "outputs": [
        {
          "output_type": "execute_result",
          "data": {
            "text/plain": [
              "DatetimeIndex(['2013-01-01', '2013-01-02', '2013-01-03', '2013-01-04',\n",
              "               '2013-01-05', '2013-01-06'],\n",
              "              dtype='datetime64[ns]', freq='D')"
            ]
          },
          "metadata": {
            "tags": []
          },
          "execution_count": 16
        }
      ]
    },
    {
      "metadata": {
        "id": "PG3vLSwHQQh9",
        "colab_type": "code",
        "colab": {},
        "outputId": "86368dd1-5d30-4329-f4c0-aad97999421a"
      },
      "cell_type": "code",
      "source": [
        "df.loc[dates[0]]"
      ],
      "execution_count": 0,
      "outputs": [
        {
          "output_type": "execute_result",
          "data": {
            "text/plain": [
              "A    0.407875\n",
              "B    0.613833\n",
              "C    1.085321\n",
              "D   -1.059496\n",
              "Name: 2013-01-01 00:00:00, dtype: float64"
            ]
          },
          "metadata": {
            "tags": []
          },
          "execution_count": 17
        }
      ]
    },
    {
      "metadata": {
        "id": "1qY-h9VcQQiC",
        "colab_type": "code",
        "colab": {},
        "outputId": "71cff871-0e55-4f87-cd75-3ef2ba706245"
      },
      "cell_type": "code",
      "source": [
        "df.loc[:,['A','B']] # Los : significan 'todos los datos en este eje'. En este caso se selecciona 'todas las filas' y 2 columnas"
      ],
      "execution_count": 0,
      "outputs": [
        {
          "output_type": "execute_result",
          "data": {
            "text/html": [
              "<div>\n",
              "<style scoped>\n",
              "    .dataframe tbody tr th:only-of-type {\n",
              "        vertical-align: middle;\n",
              "    }\n",
              "\n",
              "    .dataframe tbody tr th {\n",
              "        vertical-align: top;\n",
              "    }\n",
              "\n",
              "    .dataframe thead th {\n",
              "        text-align: right;\n",
              "    }\n",
              "</style>\n",
              "<table border=\"1\" class=\"dataframe\">\n",
              "  <thead>\n",
              "    <tr style=\"text-align: right;\">\n",
              "      <th></th>\n",
              "      <th>A</th>\n",
              "      <th>B</th>\n",
              "    </tr>\n",
              "  </thead>\n",
              "  <tbody>\n",
              "    <tr>\n",
              "      <th>2013-01-01</th>\n",
              "      <td>0.407875</td>\n",
              "      <td>0.613833</td>\n",
              "    </tr>\n",
              "    <tr>\n",
              "      <th>2013-01-02</th>\n",
              "      <td>-0.703462</td>\n",
              "      <td>1.084399</td>\n",
              "    </tr>\n",
              "    <tr>\n",
              "      <th>2013-01-03</th>\n",
              "      <td>-1.047285</td>\n",
              "      <td>1.387736</td>\n",
              "    </tr>\n",
              "    <tr>\n",
              "      <th>2013-01-04</th>\n",
              "      <td>-0.331057</td>\n",
              "      <td>-0.006956</td>\n",
              "    </tr>\n",
              "    <tr>\n",
              "      <th>2013-01-05</th>\n",
              "      <td>0.356486</td>\n",
              "      <td>0.545373</td>\n",
              "    </tr>\n",
              "    <tr>\n",
              "      <th>2013-01-06</th>\n",
              "      <td>0.536877</td>\n",
              "      <td>-0.592833</td>\n",
              "    </tr>\n",
              "  </tbody>\n",
              "</table>\n",
              "</div>"
            ],
            "text/plain": [
              "                   A         B\n",
              "2013-01-01  0.407875  0.613833\n",
              "2013-01-02 -0.703462  1.084399\n",
              "2013-01-03 -1.047285  1.387736\n",
              "2013-01-04 -0.331057 -0.006956\n",
              "2013-01-05  0.356486  0.545373\n",
              "2013-01-06  0.536877 -0.592833"
            ]
          },
          "metadata": {
            "tags": []
          },
          "execution_count": 18
        }
      ]
    },
    {
      "metadata": {
        "id": "Np8pYKgHQQiH",
        "colab_type": "code",
        "colab": {},
        "outputId": "6a6762ae-b501-4ecb-ff01-159b7a7ef652"
      },
      "cell_type": "code",
      "source": [
        "df.loc['20130102':'20130104',['A','B']]"
      ],
      "execution_count": 0,
      "outputs": [
        {
          "output_type": "execute_result",
          "data": {
            "text/html": [
              "<div>\n",
              "<style scoped>\n",
              "    .dataframe tbody tr th:only-of-type {\n",
              "        vertical-align: middle;\n",
              "    }\n",
              "\n",
              "    .dataframe tbody tr th {\n",
              "        vertical-align: top;\n",
              "    }\n",
              "\n",
              "    .dataframe thead th {\n",
              "        text-align: right;\n",
              "    }\n",
              "</style>\n",
              "<table border=\"1\" class=\"dataframe\">\n",
              "  <thead>\n",
              "    <tr style=\"text-align: right;\">\n",
              "      <th></th>\n",
              "      <th>A</th>\n",
              "      <th>B</th>\n",
              "    </tr>\n",
              "  </thead>\n",
              "  <tbody>\n",
              "    <tr>\n",
              "      <th>2013-01-02</th>\n",
              "      <td>-0.703462</td>\n",
              "      <td>1.084399</td>\n",
              "    </tr>\n",
              "    <tr>\n",
              "      <th>2013-01-03</th>\n",
              "      <td>-1.047285</td>\n",
              "      <td>1.387736</td>\n",
              "    </tr>\n",
              "    <tr>\n",
              "      <th>2013-01-04</th>\n",
              "      <td>-0.331057</td>\n",
              "      <td>-0.006956</td>\n",
              "    </tr>\n",
              "  </tbody>\n",
              "</table>\n",
              "</div>"
            ],
            "text/plain": [
              "                   A         B\n",
              "2013-01-02 -0.703462  1.084399\n",
              "2013-01-03 -1.047285  1.387736\n",
              "2013-01-04 -0.331057 -0.006956"
            ]
          },
          "metadata": {
            "tags": []
          },
          "execution_count": 19
        }
      ]
    },
    {
      "metadata": {
        "id": "61Ra1L8eQQiL",
        "colab_type": "text"
      },
      "cell_type": "markdown",
      "source": [
        "### Seleccion por Posicion"
      ]
    },
    {
      "metadata": {
        "id": "rfMv2styQQiN",
        "colab_type": "code",
        "colab": {},
        "outputId": "3354936c-8af8-425a-a166-0729d925b4ae"
      },
      "cell_type": "code",
      "source": [
        "df.iloc[3]"
      ],
      "execution_count": 0,
      "outputs": [
        {
          "output_type": "execute_result",
          "data": {
            "text/plain": [
              "A   -0.331057\n",
              "B   -0.006956\n",
              "C   -1.045402\n",
              "D   -0.369908\n",
              "Name: 2013-01-04 00:00:00, dtype: float64"
            ]
          },
          "metadata": {
            "tags": []
          },
          "execution_count": 20
        }
      ]
    },
    {
      "metadata": {
        "id": "2FjPXLJuQQiW",
        "colab_type": "code",
        "colab": {},
        "outputId": "22c90406-02aa-438f-8f6e-2b55444ad2e1"
      },
      "cell_type": "code",
      "source": [
        "df.iloc[3:5,0:2]"
      ],
      "execution_count": 0,
      "outputs": [
        {
          "output_type": "execute_result",
          "data": {
            "text/html": [
              "<div>\n",
              "<style scoped>\n",
              "    .dataframe tbody tr th:only-of-type {\n",
              "        vertical-align: middle;\n",
              "    }\n",
              "\n",
              "    .dataframe tbody tr th {\n",
              "        vertical-align: top;\n",
              "    }\n",
              "\n",
              "    .dataframe thead th {\n",
              "        text-align: right;\n",
              "    }\n",
              "</style>\n",
              "<table border=\"1\" class=\"dataframe\">\n",
              "  <thead>\n",
              "    <tr style=\"text-align: right;\">\n",
              "      <th></th>\n",
              "      <th>A</th>\n",
              "      <th>B</th>\n",
              "    </tr>\n",
              "  </thead>\n",
              "  <tbody>\n",
              "    <tr>\n",
              "      <th>2013-01-04</th>\n",
              "      <td>-0.331057</td>\n",
              "      <td>-0.006956</td>\n",
              "    </tr>\n",
              "    <tr>\n",
              "      <th>2013-01-05</th>\n",
              "      <td>0.356486</td>\n",
              "      <td>0.545373</td>\n",
              "    </tr>\n",
              "  </tbody>\n",
              "</table>\n",
              "</div>"
            ],
            "text/plain": [
              "                   A         B\n",
              "2013-01-04 -0.331057 -0.006956\n",
              "2013-01-05  0.356486  0.545373"
            ]
          },
          "metadata": {
            "tags": []
          },
          "execution_count": 21
        }
      ]
    },
    {
      "metadata": {
        "id": "hYjAuSa3QQif",
        "colab_type": "code",
        "colab": {},
        "outputId": "9d5c316e-b03d-4d01-e6f1-079c181f4a64"
      },
      "cell_type": "code",
      "source": [
        "df.iloc[1:3,:]"
      ],
      "execution_count": 0,
      "outputs": [
        {
          "output_type": "execute_result",
          "data": {
            "text/html": [
              "<div>\n",
              "<style scoped>\n",
              "    .dataframe tbody tr th:only-of-type {\n",
              "        vertical-align: middle;\n",
              "    }\n",
              "\n",
              "    .dataframe tbody tr th {\n",
              "        vertical-align: top;\n",
              "    }\n",
              "\n",
              "    .dataframe thead th {\n",
              "        text-align: right;\n",
              "    }\n",
              "</style>\n",
              "<table border=\"1\" class=\"dataframe\">\n",
              "  <thead>\n",
              "    <tr style=\"text-align: right;\">\n",
              "      <th></th>\n",
              "      <th>A</th>\n",
              "      <th>B</th>\n",
              "      <th>C</th>\n",
              "      <th>D</th>\n",
              "    </tr>\n",
              "  </thead>\n",
              "  <tbody>\n",
              "    <tr>\n",
              "      <th>2013-01-02</th>\n",
              "      <td>-0.703462</td>\n",
              "      <td>1.084399</td>\n",
              "      <td>-1.808749</td>\n",
              "      <td>1.125869</td>\n",
              "    </tr>\n",
              "    <tr>\n",
              "      <th>2013-01-03</th>\n",
              "      <td>-1.047285</td>\n",
              "      <td>1.387736</td>\n",
              "      <td>-0.810255</td>\n",
              "      <td>-1.027657</td>\n",
              "    </tr>\n",
              "  </tbody>\n",
              "</table>\n",
              "</div>"
            ],
            "text/plain": [
              "                   A         B         C         D\n",
              "2013-01-02 -0.703462  1.084399 -1.808749  1.125869\n",
              "2013-01-03 -1.047285  1.387736 -0.810255 -1.027657"
            ]
          },
          "metadata": {
            "tags": []
          },
          "execution_count": 22
        }
      ]
    },
    {
      "metadata": {
        "id": "864oPj2lQQip",
        "colab_type": "code",
        "colab": {},
        "outputId": "84f78c0f-d0ac-4e4f-c4ac-f96d9f6ac708"
      },
      "cell_type": "code",
      "source": [
        "df.iloc[[1,2,4],[0,2]]"
      ],
      "execution_count": 0,
      "outputs": [
        {
          "output_type": "execute_result",
          "data": {
            "text/html": [
              "<div>\n",
              "<style scoped>\n",
              "    .dataframe tbody tr th:only-of-type {\n",
              "        vertical-align: middle;\n",
              "    }\n",
              "\n",
              "    .dataframe tbody tr th {\n",
              "        vertical-align: top;\n",
              "    }\n",
              "\n",
              "    .dataframe thead th {\n",
              "        text-align: right;\n",
              "    }\n",
              "</style>\n",
              "<table border=\"1\" class=\"dataframe\">\n",
              "  <thead>\n",
              "    <tr style=\"text-align: right;\">\n",
              "      <th></th>\n",
              "      <th>A</th>\n",
              "      <th>C</th>\n",
              "    </tr>\n",
              "  </thead>\n",
              "  <tbody>\n",
              "    <tr>\n",
              "      <th>2013-01-02</th>\n",
              "      <td>-0.703462</td>\n",
              "      <td>-1.808749</td>\n",
              "    </tr>\n",
              "    <tr>\n",
              "      <th>2013-01-03</th>\n",
              "      <td>-1.047285</td>\n",
              "      <td>-0.810255</td>\n",
              "    </tr>\n",
              "    <tr>\n",
              "      <th>2013-01-05</th>\n",
              "      <td>0.356486</td>\n",
              "      <td>-1.177599</td>\n",
              "    </tr>\n",
              "  </tbody>\n",
              "</table>\n",
              "</div>"
            ],
            "text/plain": [
              "                   A         C\n",
              "2013-01-02 -0.703462 -1.808749\n",
              "2013-01-03 -1.047285 -0.810255\n",
              "2013-01-05  0.356486 -1.177599"
            ]
          },
          "metadata": {
            "tags": []
          },
          "execution_count": 23
        }
      ]
    },
    {
      "metadata": {
        "id": "u6V77cqeQQiv",
        "colab_type": "text"
      },
      "cell_type": "markdown",
      "source": [
        "## Valores no definidos"
      ]
    },
    {
      "metadata": {
        "id": "dbO-iZt0QQiw",
        "colab_type": "text"
      },
      "cell_type": "markdown",
      "source": [
        "Comprobamos cómo se puede trabajar para eliminar / obviar la inclusión de valores no definidos en los conjuntos de datos."
      ]
    },
    {
      "metadata": {
        "id": "q-6TAkplQQix",
        "colab_type": "code",
        "colab": {},
        "outputId": "ad8eb79a-edb7-43c9-bf70-82a4a8717aa0"
      },
      "cell_type": "code",
      "source": [
        "# Se genera un conjunto de datos que incluya no definidos. Por ejemplo incluyendo una nueva columna 'E'\n",
        "\n",
        "df1 = df.reindex(index=dates[0:4], columns=list(df.columns) + ['E'])\n",
        "df1.loc[dates[0]:dates[1],'E'] = 1\n",
        "df1"
      ],
      "execution_count": 0,
      "outputs": [
        {
          "output_type": "execute_result",
          "data": {
            "text/html": [
              "<div>\n",
              "<style scoped>\n",
              "    .dataframe tbody tr th:only-of-type {\n",
              "        vertical-align: middle;\n",
              "    }\n",
              "\n",
              "    .dataframe tbody tr th {\n",
              "        vertical-align: top;\n",
              "    }\n",
              "\n",
              "    .dataframe thead th {\n",
              "        text-align: right;\n",
              "    }\n",
              "</style>\n",
              "<table border=\"1\" class=\"dataframe\">\n",
              "  <thead>\n",
              "    <tr style=\"text-align: right;\">\n",
              "      <th></th>\n",
              "      <th>A</th>\n",
              "      <th>B</th>\n",
              "      <th>C</th>\n",
              "      <th>D</th>\n",
              "      <th>E</th>\n",
              "    </tr>\n",
              "  </thead>\n",
              "  <tbody>\n",
              "    <tr>\n",
              "      <th>2013-01-01</th>\n",
              "      <td>0.407875</td>\n",
              "      <td>0.613833</td>\n",
              "      <td>1.085321</td>\n",
              "      <td>-1.059496</td>\n",
              "      <td>1.0</td>\n",
              "    </tr>\n",
              "    <tr>\n",
              "      <th>2013-01-02</th>\n",
              "      <td>-0.703462</td>\n",
              "      <td>1.084399</td>\n",
              "      <td>-1.808749</td>\n",
              "      <td>1.125869</td>\n",
              "      <td>1.0</td>\n",
              "    </tr>\n",
              "    <tr>\n",
              "      <th>2013-01-03</th>\n",
              "      <td>-1.047285</td>\n",
              "      <td>1.387736</td>\n",
              "      <td>-0.810255</td>\n",
              "      <td>-1.027657</td>\n",
              "      <td>NaN</td>\n",
              "    </tr>\n",
              "    <tr>\n",
              "      <th>2013-01-04</th>\n",
              "      <td>-0.331057</td>\n",
              "      <td>-0.006956</td>\n",
              "      <td>-1.045402</td>\n",
              "      <td>-0.369908</td>\n",
              "      <td>NaN</td>\n",
              "    </tr>\n",
              "  </tbody>\n",
              "</table>\n",
              "</div>"
            ],
            "text/plain": [
              "                   A         B         C         D    E\n",
              "2013-01-01  0.407875  0.613833  1.085321 -1.059496  1.0\n",
              "2013-01-02 -0.703462  1.084399 -1.808749  1.125869  1.0\n",
              "2013-01-03 -1.047285  1.387736 -0.810255 -1.027657  NaN\n",
              "2013-01-04 -0.331057 -0.006956 -1.045402 -0.369908  NaN"
            ]
          },
          "metadata": {
            "tags": []
          },
          "execution_count": 24
        }
      ]
    },
    {
      "metadata": {
        "id": "PDzPg87hQQi1",
        "colab_type": "text"
      },
      "cell_type": "markdown",
      "source": [
        "Podemos realizar varias operaciones:\n",
        "- Eliminar del conjunto los valores indefinidos\n",
        "- Incluir un valor por defecto (con cuidado de no variar en exceso el conjunto de datos)"
      ]
    },
    {
      "metadata": {
        "id": "TlGohj9IQQi2",
        "colab_type": "code",
        "colab": {},
        "outputId": "f7949a21-e37a-415d-b4f4-a61244c4f9cd"
      },
      "cell_type": "code",
      "source": [
        "# Eliminación de elementos no definidos\n",
        "df1.dropna(how='any')"
      ],
      "execution_count": 0,
      "outputs": [
        {
          "output_type": "execute_result",
          "data": {
            "text/html": [
              "<div>\n",
              "<style scoped>\n",
              "    .dataframe tbody tr th:only-of-type {\n",
              "        vertical-align: middle;\n",
              "    }\n",
              "\n",
              "    .dataframe tbody tr th {\n",
              "        vertical-align: top;\n",
              "    }\n",
              "\n",
              "    .dataframe thead th {\n",
              "        text-align: right;\n",
              "    }\n",
              "</style>\n",
              "<table border=\"1\" class=\"dataframe\">\n",
              "  <thead>\n",
              "    <tr style=\"text-align: right;\">\n",
              "      <th></th>\n",
              "      <th>A</th>\n",
              "      <th>B</th>\n",
              "      <th>C</th>\n",
              "      <th>D</th>\n",
              "      <th>E</th>\n",
              "    </tr>\n",
              "  </thead>\n",
              "  <tbody>\n",
              "    <tr>\n",
              "      <th>2013-01-01</th>\n",
              "      <td>0.407875</td>\n",
              "      <td>0.613833</td>\n",
              "      <td>1.085321</td>\n",
              "      <td>-1.059496</td>\n",
              "      <td>1.0</td>\n",
              "    </tr>\n",
              "    <tr>\n",
              "      <th>2013-01-02</th>\n",
              "      <td>-0.703462</td>\n",
              "      <td>1.084399</td>\n",
              "      <td>-1.808749</td>\n",
              "      <td>1.125869</td>\n",
              "      <td>1.0</td>\n",
              "    </tr>\n",
              "  </tbody>\n",
              "</table>\n",
              "</div>"
            ],
            "text/plain": [
              "                   A         B         C         D    E\n",
              "2013-01-01  0.407875  0.613833  1.085321 -1.059496  1.0\n",
              "2013-01-02 -0.703462  1.084399 -1.808749  1.125869  1.0"
            ]
          },
          "metadata": {
            "tags": []
          },
          "execution_count": 25
        }
      ]
    },
    {
      "metadata": {
        "id": "1IbwD_w2QQi5",
        "colab_type": "code",
        "colab": {},
        "outputId": "a2739495-87e0-4c4f-c971-83dd4e23170f"
      },
      "cell_type": "code",
      "source": [
        "# Relleno de elementos\n",
        "df1.fillna(value=5)"
      ],
      "execution_count": 0,
      "outputs": [
        {
          "output_type": "execute_result",
          "data": {
            "text/html": [
              "<div>\n",
              "<style scoped>\n",
              "    .dataframe tbody tr th:only-of-type {\n",
              "        vertical-align: middle;\n",
              "    }\n",
              "\n",
              "    .dataframe tbody tr th {\n",
              "        vertical-align: top;\n",
              "    }\n",
              "\n",
              "    .dataframe thead th {\n",
              "        text-align: right;\n",
              "    }\n",
              "</style>\n",
              "<table border=\"1\" class=\"dataframe\">\n",
              "  <thead>\n",
              "    <tr style=\"text-align: right;\">\n",
              "      <th></th>\n",
              "      <th>A</th>\n",
              "      <th>B</th>\n",
              "      <th>C</th>\n",
              "      <th>D</th>\n",
              "      <th>E</th>\n",
              "    </tr>\n",
              "  </thead>\n",
              "  <tbody>\n",
              "    <tr>\n",
              "      <th>2013-01-01</th>\n",
              "      <td>0.407875</td>\n",
              "      <td>0.613833</td>\n",
              "      <td>1.085321</td>\n",
              "      <td>-1.059496</td>\n",
              "      <td>1.0</td>\n",
              "    </tr>\n",
              "    <tr>\n",
              "      <th>2013-01-02</th>\n",
              "      <td>-0.703462</td>\n",
              "      <td>1.084399</td>\n",
              "      <td>-1.808749</td>\n",
              "      <td>1.125869</td>\n",
              "      <td>1.0</td>\n",
              "    </tr>\n",
              "    <tr>\n",
              "      <th>2013-01-03</th>\n",
              "      <td>-1.047285</td>\n",
              "      <td>1.387736</td>\n",
              "      <td>-0.810255</td>\n",
              "      <td>-1.027657</td>\n",
              "      <td>5.0</td>\n",
              "    </tr>\n",
              "    <tr>\n",
              "      <th>2013-01-04</th>\n",
              "      <td>-0.331057</td>\n",
              "      <td>-0.006956</td>\n",
              "      <td>-1.045402</td>\n",
              "      <td>-0.369908</td>\n",
              "      <td>5.0</td>\n",
              "    </tr>\n",
              "  </tbody>\n",
              "</table>\n",
              "</div>"
            ],
            "text/plain": [
              "                   A         B         C         D    E\n",
              "2013-01-01  0.407875  0.613833  1.085321 -1.059496  1.0\n",
              "2013-01-02 -0.703462  1.084399 -1.808749  1.125869  1.0\n",
              "2013-01-03 -1.047285  1.387736 -0.810255 -1.027657  5.0\n",
              "2013-01-04 -0.331057 -0.006956 -1.045402 -0.369908  5.0"
            ]
          },
          "metadata": {
            "tags": []
          },
          "execution_count": 26
        }
      ]
    },
    {
      "metadata": {
        "id": "dcsbs2eVQQi9",
        "colab_type": "code",
        "colab": {},
        "outputId": "8c5c9234-81c7-437d-e6de-025d40130d65"
      },
      "cell_type": "code",
      "source": [
        "# Relleno de la columna 'E' con la media de los valores de esa columna\n",
        "df1.fillna(value = df1['E'].mean())"
      ],
      "execution_count": 0,
      "outputs": [
        {
          "output_type": "execute_result",
          "data": {
            "text/html": [
              "<div>\n",
              "<style scoped>\n",
              "    .dataframe tbody tr th:only-of-type {\n",
              "        vertical-align: middle;\n",
              "    }\n",
              "\n",
              "    .dataframe tbody tr th {\n",
              "        vertical-align: top;\n",
              "    }\n",
              "\n",
              "    .dataframe thead th {\n",
              "        text-align: right;\n",
              "    }\n",
              "</style>\n",
              "<table border=\"1\" class=\"dataframe\">\n",
              "  <thead>\n",
              "    <tr style=\"text-align: right;\">\n",
              "      <th></th>\n",
              "      <th>A</th>\n",
              "      <th>B</th>\n",
              "      <th>C</th>\n",
              "      <th>D</th>\n",
              "      <th>E</th>\n",
              "    </tr>\n",
              "  </thead>\n",
              "  <tbody>\n",
              "    <tr>\n",
              "      <th>2013-01-01</th>\n",
              "      <td>0.407875</td>\n",
              "      <td>0.613833</td>\n",
              "      <td>1.085321</td>\n",
              "      <td>-1.059496</td>\n",
              "      <td>1.0</td>\n",
              "    </tr>\n",
              "    <tr>\n",
              "      <th>2013-01-02</th>\n",
              "      <td>-0.703462</td>\n",
              "      <td>1.084399</td>\n",
              "      <td>-1.808749</td>\n",
              "      <td>1.125869</td>\n",
              "      <td>1.0</td>\n",
              "    </tr>\n",
              "    <tr>\n",
              "      <th>2013-01-03</th>\n",
              "      <td>-1.047285</td>\n",
              "      <td>1.387736</td>\n",
              "      <td>-0.810255</td>\n",
              "      <td>-1.027657</td>\n",
              "      <td>1.0</td>\n",
              "    </tr>\n",
              "    <tr>\n",
              "      <th>2013-01-04</th>\n",
              "      <td>-0.331057</td>\n",
              "      <td>-0.006956</td>\n",
              "      <td>-1.045402</td>\n",
              "      <td>-0.369908</td>\n",
              "      <td>1.0</td>\n",
              "    </tr>\n",
              "  </tbody>\n",
              "</table>\n",
              "</div>"
            ],
            "text/plain": [
              "                   A         B         C         D    E\n",
              "2013-01-01  0.407875  0.613833  1.085321 -1.059496  1.0\n",
              "2013-01-02 -0.703462  1.084399 -1.808749  1.125869  1.0\n",
              "2013-01-03 -1.047285  1.387736 -0.810255 -1.027657  1.0\n",
              "2013-01-04 -0.331057 -0.006956 -1.045402 -0.369908  1.0"
            ]
          },
          "metadata": {
            "tags": []
          },
          "execution_count": 27
        }
      ]
    },
    {
      "metadata": {
        "id": "zoLzCBkyQQjE",
        "colab_type": "text"
      },
      "cell_type": "markdown",
      "source": [
        "## Operaciones"
      ]
    },
    {
      "metadata": {
        "id": "ORP3u_eIQQjE",
        "colab_type": "text"
      },
      "cell_type": "markdown",
      "source": [
        "### Agrupaciones"
      ]
    },
    {
      "metadata": {
        "id": "1kUnEROpQQjF",
        "colab_type": "code",
        "colab": {},
        "outputId": "4a62dc97-2982-454e-b55b-211ed30811b3"
      },
      "cell_type": "code",
      "source": [
        "df = pd.DataFrame({'A' : ['foo', 'bar', 'foo', 'bar',\n",
        "                          'foo', 'bar', 'foo', 'foo'],\n",
        "                   'B' : ['one', 'one', 'two', 'three',\n",
        "                          'two', 'two', 'one', 'three'],\n",
        "                   'C' : np.random.randn(8),\n",
        "                   'D' : np.random.randn(8)})\n",
        "df"
      ],
      "execution_count": 0,
      "outputs": [
        {
          "output_type": "execute_result",
          "data": {
            "text/html": [
              "<div>\n",
              "<style scoped>\n",
              "    .dataframe tbody tr th:only-of-type {\n",
              "        vertical-align: middle;\n",
              "    }\n",
              "\n",
              "    .dataframe tbody tr th {\n",
              "        vertical-align: top;\n",
              "    }\n",
              "\n",
              "    .dataframe thead th {\n",
              "        text-align: right;\n",
              "    }\n",
              "</style>\n",
              "<table border=\"1\" class=\"dataframe\">\n",
              "  <thead>\n",
              "    <tr style=\"text-align: right;\">\n",
              "      <th></th>\n",
              "      <th>A</th>\n",
              "      <th>B</th>\n",
              "      <th>C</th>\n",
              "      <th>D</th>\n",
              "    </tr>\n",
              "  </thead>\n",
              "  <tbody>\n",
              "    <tr>\n",
              "      <th>0</th>\n",
              "      <td>foo</td>\n",
              "      <td>one</td>\n",
              "      <td>0.220983</td>\n",
              "      <td>1.026264</td>\n",
              "    </tr>\n",
              "    <tr>\n",
              "      <th>1</th>\n",
              "      <td>bar</td>\n",
              "      <td>one</td>\n",
              "      <td>-1.311326</td>\n",
              "      <td>0.241693</td>\n",
              "    </tr>\n",
              "    <tr>\n",
              "      <th>2</th>\n",
              "      <td>foo</td>\n",
              "      <td>two</td>\n",
              "      <td>-1.702331</td>\n",
              "      <td>0.267460</td>\n",
              "    </tr>\n",
              "    <tr>\n",
              "      <th>3</th>\n",
              "      <td>bar</td>\n",
              "      <td>three</td>\n",
              "      <td>0.041153</td>\n",
              "      <td>-1.294492</td>\n",
              "    </tr>\n",
              "    <tr>\n",
              "      <th>4</th>\n",
              "      <td>foo</td>\n",
              "      <td>two</td>\n",
              "      <td>0.201829</td>\n",
              "      <td>0.566725</td>\n",
              "    </tr>\n",
              "    <tr>\n",
              "      <th>5</th>\n",
              "      <td>bar</td>\n",
              "      <td>two</td>\n",
              "      <td>-0.021131</td>\n",
              "      <td>0.104485</td>\n",
              "    </tr>\n",
              "    <tr>\n",
              "      <th>6</th>\n",
              "      <td>foo</td>\n",
              "      <td>one</td>\n",
              "      <td>-0.075704</td>\n",
              "      <td>-0.170614</td>\n",
              "    </tr>\n",
              "    <tr>\n",
              "      <th>7</th>\n",
              "      <td>foo</td>\n",
              "      <td>three</td>\n",
              "      <td>-1.284916</td>\n",
              "      <td>-0.050867</td>\n",
              "    </tr>\n",
              "  </tbody>\n",
              "</table>\n",
              "</div>"
            ],
            "text/plain": [
              "     A      B         C         D\n",
              "0  foo    one  0.220983  1.026264\n",
              "1  bar    one -1.311326  0.241693\n",
              "2  foo    two -1.702331  0.267460\n",
              "3  bar  three  0.041153 -1.294492\n",
              "4  foo    two  0.201829  0.566725\n",
              "5  bar    two -0.021131  0.104485\n",
              "6  foo    one -0.075704 -0.170614\n",
              "7  foo  three -1.284916 -0.050867"
            ]
          },
          "metadata": {
            "tags": []
          },
          "execution_count": 28
        }
      ]
    },
    {
      "metadata": {
        "id": "IfM2He6wQQjK",
        "colab_type": "code",
        "colab": {},
        "outputId": "803572b6-d1d1-48da-ab1d-41da5d06ad97"
      },
      "cell_type": "code",
      "source": [
        "df.groupby('A').count()"
      ],
      "execution_count": 0,
      "outputs": [
        {
          "output_type": "execute_result",
          "data": {
            "text/html": [
              "<div>\n",
              "<style scoped>\n",
              "    .dataframe tbody tr th:only-of-type {\n",
              "        vertical-align: middle;\n",
              "    }\n",
              "\n",
              "    .dataframe tbody tr th {\n",
              "        vertical-align: top;\n",
              "    }\n",
              "\n",
              "    .dataframe thead th {\n",
              "        text-align: right;\n",
              "    }\n",
              "</style>\n",
              "<table border=\"1\" class=\"dataframe\">\n",
              "  <thead>\n",
              "    <tr style=\"text-align: right;\">\n",
              "      <th></th>\n",
              "      <th>B</th>\n",
              "      <th>C</th>\n",
              "      <th>D</th>\n",
              "    </tr>\n",
              "    <tr>\n",
              "      <th>A</th>\n",
              "      <th></th>\n",
              "      <th></th>\n",
              "      <th></th>\n",
              "    </tr>\n",
              "  </thead>\n",
              "  <tbody>\n",
              "    <tr>\n",
              "      <th>bar</th>\n",
              "      <td>3</td>\n",
              "      <td>3</td>\n",
              "      <td>3</td>\n",
              "    </tr>\n",
              "    <tr>\n",
              "      <th>foo</th>\n",
              "      <td>5</td>\n",
              "      <td>5</td>\n",
              "      <td>5</td>\n",
              "    </tr>\n",
              "  </tbody>\n",
              "</table>\n",
              "</div>"
            ],
            "text/plain": [
              "     B  C  D\n",
              "A           \n",
              "bar  3  3  3\n",
              "foo  5  5  5"
            ]
          },
          "metadata": {
            "tags": []
          },
          "execution_count": 29
        }
      ]
    },
    {
      "metadata": {
        "id": "e7sqSQBvQQjQ",
        "colab_type": "code",
        "colab": {},
        "outputId": "594c2673-0fd0-49d4-fc58-b6a577bcea8b"
      },
      "cell_type": "code",
      "source": [
        "df.groupby(['A','B']).sum()"
      ],
      "execution_count": 0,
      "outputs": [
        {
          "output_type": "execute_result",
          "data": {
            "text/html": [
              "<div>\n",
              "<style scoped>\n",
              "    .dataframe tbody tr th:only-of-type {\n",
              "        vertical-align: middle;\n",
              "    }\n",
              "\n",
              "    .dataframe tbody tr th {\n",
              "        vertical-align: top;\n",
              "    }\n",
              "\n",
              "    .dataframe thead th {\n",
              "        text-align: right;\n",
              "    }\n",
              "</style>\n",
              "<table border=\"1\" class=\"dataframe\">\n",
              "  <thead>\n",
              "    <tr style=\"text-align: right;\">\n",
              "      <th></th>\n",
              "      <th></th>\n",
              "      <th>C</th>\n",
              "      <th>D</th>\n",
              "    </tr>\n",
              "    <tr>\n",
              "      <th>A</th>\n",
              "      <th>B</th>\n",
              "      <th></th>\n",
              "      <th></th>\n",
              "    </tr>\n",
              "  </thead>\n",
              "  <tbody>\n",
              "    <tr>\n",
              "      <th rowspan=\"3\" valign=\"top\">bar</th>\n",
              "      <th>one</th>\n",
              "      <td>-1.311326</td>\n",
              "      <td>0.241693</td>\n",
              "    </tr>\n",
              "    <tr>\n",
              "      <th>three</th>\n",
              "      <td>0.041153</td>\n",
              "      <td>-1.294492</td>\n",
              "    </tr>\n",
              "    <tr>\n",
              "      <th>two</th>\n",
              "      <td>-0.021131</td>\n",
              "      <td>0.104485</td>\n",
              "    </tr>\n",
              "    <tr>\n",
              "      <th rowspan=\"3\" valign=\"top\">foo</th>\n",
              "      <th>one</th>\n",
              "      <td>0.145279</td>\n",
              "      <td>0.855649</td>\n",
              "    </tr>\n",
              "    <tr>\n",
              "      <th>three</th>\n",
              "      <td>-1.284916</td>\n",
              "      <td>-0.050867</td>\n",
              "    </tr>\n",
              "    <tr>\n",
              "      <th>two</th>\n",
              "      <td>-1.500502</td>\n",
              "      <td>0.834184</td>\n",
              "    </tr>\n",
              "  </tbody>\n",
              "</table>\n",
              "</div>"
            ],
            "text/plain": [
              "                  C         D\n",
              "A   B                        \n",
              "bar one   -1.311326  0.241693\n",
              "    three  0.041153 -1.294492\n",
              "    two   -0.021131  0.104485\n",
              "foo one    0.145279  0.855649\n",
              "    three -1.284916 -0.050867\n",
              "    two   -1.500502  0.834184"
            ]
          },
          "metadata": {
            "tags": []
          },
          "execution_count": 30
        }
      ]
    },
    {
      "metadata": {
        "id": "el6KdoojQQjU",
        "colab_type": "text"
      },
      "cell_type": "markdown",
      "source": [
        "### Aplicar Funciones"
      ]
    },
    {
      "metadata": {
        "id": "aKWzqEFtQQjV",
        "colab_type": "text"
      },
      "cell_type": "markdown",
      "source": [
        "Se pueden definir al vuelo funciones lambda (anónimas) que se aplican a todas (o un subconjunto) de las columnas de la tabla.   \n",
        "Resultan muy útiles para obtener campos calculados a partir de los datos originales."
      ]
    },
    {
      "metadata": {
        "id": "d7dGL3-MQQjV",
        "colab_type": "code",
        "colab": {},
        "outputId": "771f8854-02f2-4206-d360-d2cf14ff171e"
      },
      "cell_type": "code",
      "source": [
        "df1.apply(lambda x: x.max() - x.min())"
      ],
      "execution_count": 0,
      "outputs": [
        {
          "output_type": "execute_result",
          "data": {
            "text/plain": [
              "A    1.455159\n",
              "B    1.394692\n",
              "C    2.894069\n",
              "D    2.185365\n",
              "E    0.000000\n",
              "dtype: float64"
            ]
          },
          "metadata": {
            "tags": []
          },
          "execution_count": 31
        }
      ]
    },
    {
      "metadata": {
        "id": "LXnH1Y5_QQjY",
        "colab_type": "text"
      },
      "cell_type": "markdown",
      "source": [
        "### Mezclas"
      ]
    },
    {
      "metadata": {
        "id": "4UacswZCQQja",
        "colab_type": "text"
      },
      "cell_type": "markdown",
      "source": [
        "#### Concatenación (horizontal)"
      ]
    },
    {
      "metadata": {
        "id": "gNvGe7ytQQjb",
        "colab_type": "code",
        "colab": {},
        "outputId": "b0f1ec16-cc1c-48f8-b1b7-7e43107fe8b8"
      },
      "cell_type": "code",
      "source": [
        "# Se genera un conjunto de datos aleatorio (grande)\n",
        "df = pd.DataFrame(np.random.randn(10, 4))\n",
        "df"
      ],
      "execution_count": 0,
      "outputs": [
        {
          "output_type": "execute_result",
          "data": {
            "text/html": [
              "<div>\n",
              "<style scoped>\n",
              "    .dataframe tbody tr th:only-of-type {\n",
              "        vertical-align: middle;\n",
              "    }\n",
              "\n",
              "    .dataframe tbody tr th {\n",
              "        vertical-align: top;\n",
              "    }\n",
              "\n",
              "    .dataframe thead th {\n",
              "        text-align: right;\n",
              "    }\n",
              "</style>\n",
              "<table border=\"1\" class=\"dataframe\">\n",
              "  <thead>\n",
              "    <tr style=\"text-align: right;\">\n",
              "      <th></th>\n",
              "      <th>0</th>\n",
              "      <th>1</th>\n",
              "      <th>2</th>\n",
              "      <th>3</th>\n",
              "    </tr>\n",
              "  </thead>\n",
              "  <tbody>\n",
              "    <tr>\n",
              "      <th>0</th>\n",
              "      <td>0.161899</td>\n",
              "      <td>-1.141201</td>\n",
              "      <td>1.201792</td>\n",
              "      <td>-1.004481</td>\n",
              "    </tr>\n",
              "    <tr>\n",
              "      <th>1</th>\n",
              "      <td>0.225881</td>\n",
              "      <td>0.222387</td>\n",
              "      <td>-1.894205</td>\n",
              "      <td>-1.507622</td>\n",
              "    </tr>\n",
              "    <tr>\n",
              "      <th>2</th>\n",
              "      <td>-0.483131</td>\n",
              "      <td>-1.264452</td>\n",
              "      <td>1.033769</td>\n",
              "      <td>-1.668793</td>\n",
              "    </tr>\n",
              "    <tr>\n",
              "      <th>3</th>\n",
              "      <td>0.763242</td>\n",
              "      <td>0.825401</td>\n",
              "      <td>0.925516</td>\n",
              "      <td>1.065897</td>\n",
              "    </tr>\n",
              "    <tr>\n",
              "      <th>4</th>\n",
              "      <td>1.303707</td>\n",
              "      <td>0.294912</td>\n",
              "      <td>-0.732772</td>\n",
              "      <td>-0.160312</td>\n",
              "    </tr>\n",
              "    <tr>\n",
              "      <th>5</th>\n",
              "      <td>0.462175</td>\n",
              "      <td>-2.160462</td>\n",
              "      <td>0.692350</td>\n",
              "      <td>0.943378</td>\n",
              "    </tr>\n",
              "    <tr>\n",
              "      <th>6</th>\n",
              "      <td>-1.184434</td>\n",
              "      <td>-0.414210</td>\n",
              "      <td>-1.165065</td>\n",
              "      <td>-0.700778</td>\n",
              "    </tr>\n",
              "    <tr>\n",
              "      <th>7</th>\n",
              "      <td>0.040001</td>\n",
              "      <td>0.931418</td>\n",
              "      <td>0.197966</td>\n",
              "      <td>-0.313724</td>\n",
              "    </tr>\n",
              "    <tr>\n",
              "      <th>8</th>\n",
              "      <td>0.989607</td>\n",
              "      <td>-0.629782</td>\n",
              "      <td>-0.184272</td>\n",
              "      <td>0.172765</td>\n",
              "    </tr>\n",
              "    <tr>\n",
              "      <th>9</th>\n",
              "      <td>-0.080125</td>\n",
              "      <td>0.303317</td>\n",
              "      <td>-2.317679</td>\n",
              "      <td>0.013869</td>\n",
              "    </tr>\n",
              "  </tbody>\n",
              "</table>\n",
              "</div>"
            ],
            "text/plain": [
              "          0         1         2         3\n",
              "0  0.161899 -1.141201  1.201792 -1.004481\n",
              "1  0.225881  0.222387 -1.894205 -1.507622\n",
              "2 -0.483131 -1.264452  1.033769 -1.668793\n",
              "3  0.763242  0.825401  0.925516  1.065897\n",
              "4  1.303707  0.294912 -0.732772 -0.160312\n",
              "5  0.462175 -2.160462  0.692350  0.943378\n",
              "6 -1.184434 -0.414210 -1.165065 -0.700778\n",
              "7  0.040001  0.931418  0.197966 -0.313724\n",
              "8  0.989607 -0.629782 -0.184272  0.172765\n",
              "9 -0.080125  0.303317 -2.317679  0.013869"
            ]
          },
          "metadata": {
            "tags": []
          },
          "execution_count": 32
        }
      ]
    },
    {
      "metadata": {
        "id": "Y751yaJrQQje",
        "colab_type": "code",
        "colab": {},
        "outputId": "5b93d6e6-af46-4fd9-d388-ac1c8bad4135"
      },
      "cell_type": "code",
      "source": [
        "# Se reparte en varios trozos\n",
        "pieces = [df[:3], df[3:7], df[7:]]\n",
        "pieces"
      ],
      "execution_count": 0,
      "outputs": [
        {
          "output_type": "execute_result",
          "data": {
            "text/plain": [
              "[          0         1         2         3\n",
              " 0  0.161899 -1.141201  1.201792 -1.004481\n",
              " 1  0.225881  0.222387 -1.894205 -1.507622\n",
              " 2 -0.483131 -1.264452  1.033769 -1.668793,\n",
              "           0         1         2         3\n",
              " 3  0.763242  0.825401  0.925516  1.065897\n",
              " 4  1.303707  0.294912 -0.732772 -0.160312\n",
              " 5  0.462175 -2.160462  0.692350  0.943378\n",
              " 6 -1.184434 -0.414210 -1.165065 -0.700778,\n",
              "           0         1         2         3\n",
              " 7  0.040001  0.931418  0.197966 -0.313724\n",
              " 8  0.989607 -0.629782 -0.184272  0.172765\n",
              " 9 -0.080125  0.303317 -2.317679  0.013869]"
            ]
          },
          "metadata": {
            "tags": []
          },
          "execution_count": 33
        }
      ]
    },
    {
      "metadata": {
        "id": "1-8vHgFEQQjj",
        "colab_type": "code",
        "colab": {},
        "outputId": "17d3d15d-3846-4597-ef27-d026e1fe2094"
      },
      "cell_type": "code",
      "source": [
        "# Se constuye otro DataFrame que contiene las piezas concatenadas\n",
        "df2 = pd.concat(pieces)\n",
        "df2"
      ],
      "execution_count": 0,
      "outputs": [
        {
          "output_type": "execute_result",
          "data": {
            "text/html": [
              "<div>\n",
              "<style scoped>\n",
              "    .dataframe tbody tr th:only-of-type {\n",
              "        vertical-align: middle;\n",
              "    }\n",
              "\n",
              "    .dataframe tbody tr th {\n",
              "        vertical-align: top;\n",
              "    }\n",
              "\n",
              "    .dataframe thead th {\n",
              "        text-align: right;\n",
              "    }\n",
              "</style>\n",
              "<table border=\"1\" class=\"dataframe\">\n",
              "  <thead>\n",
              "    <tr style=\"text-align: right;\">\n",
              "      <th></th>\n",
              "      <th>0</th>\n",
              "      <th>1</th>\n",
              "      <th>2</th>\n",
              "      <th>3</th>\n",
              "    </tr>\n",
              "  </thead>\n",
              "  <tbody>\n",
              "    <tr>\n",
              "      <th>0</th>\n",
              "      <td>0.161899</td>\n",
              "      <td>-1.141201</td>\n",
              "      <td>1.201792</td>\n",
              "      <td>-1.004481</td>\n",
              "    </tr>\n",
              "    <tr>\n",
              "      <th>1</th>\n",
              "      <td>0.225881</td>\n",
              "      <td>0.222387</td>\n",
              "      <td>-1.894205</td>\n",
              "      <td>-1.507622</td>\n",
              "    </tr>\n",
              "    <tr>\n",
              "      <th>2</th>\n",
              "      <td>-0.483131</td>\n",
              "      <td>-1.264452</td>\n",
              "      <td>1.033769</td>\n",
              "      <td>-1.668793</td>\n",
              "    </tr>\n",
              "    <tr>\n",
              "      <th>3</th>\n",
              "      <td>0.763242</td>\n",
              "      <td>0.825401</td>\n",
              "      <td>0.925516</td>\n",
              "      <td>1.065897</td>\n",
              "    </tr>\n",
              "    <tr>\n",
              "      <th>4</th>\n",
              "      <td>1.303707</td>\n",
              "      <td>0.294912</td>\n",
              "      <td>-0.732772</td>\n",
              "      <td>-0.160312</td>\n",
              "    </tr>\n",
              "    <tr>\n",
              "      <th>5</th>\n",
              "      <td>0.462175</td>\n",
              "      <td>-2.160462</td>\n",
              "      <td>0.692350</td>\n",
              "      <td>0.943378</td>\n",
              "    </tr>\n",
              "    <tr>\n",
              "      <th>6</th>\n",
              "      <td>-1.184434</td>\n",
              "      <td>-0.414210</td>\n",
              "      <td>-1.165065</td>\n",
              "      <td>-0.700778</td>\n",
              "    </tr>\n",
              "    <tr>\n",
              "      <th>7</th>\n",
              "      <td>0.040001</td>\n",
              "      <td>0.931418</td>\n",
              "      <td>0.197966</td>\n",
              "      <td>-0.313724</td>\n",
              "    </tr>\n",
              "    <tr>\n",
              "      <th>8</th>\n",
              "      <td>0.989607</td>\n",
              "      <td>-0.629782</td>\n",
              "      <td>-0.184272</td>\n",
              "      <td>0.172765</td>\n",
              "    </tr>\n",
              "    <tr>\n",
              "      <th>9</th>\n",
              "      <td>-0.080125</td>\n",
              "      <td>0.303317</td>\n",
              "      <td>-2.317679</td>\n",
              "      <td>0.013869</td>\n",
              "    </tr>\n",
              "  </tbody>\n",
              "</table>\n",
              "</div>"
            ],
            "text/plain": [
              "          0         1         2         3\n",
              "0  0.161899 -1.141201  1.201792 -1.004481\n",
              "1  0.225881  0.222387 -1.894205 -1.507622\n",
              "2 -0.483131 -1.264452  1.033769 -1.668793\n",
              "3  0.763242  0.825401  0.925516  1.065897\n",
              "4  1.303707  0.294912 -0.732772 -0.160312\n",
              "5  0.462175 -2.160462  0.692350  0.943378\n",
              "6 -1.184434 -0.414210 -1.165065 -0.700778\n",
              "7  0.040001  0.931418  0.197966 -0.313724\n",
              "8  0.989607 -0.629782 -0.184272  0.172765\n",
              "9 -0.080125  0.303317 -2.317679  0.013869"
            ]
          },
          "metadata": {
            "tags": []
          },
          "execution_count": 34
        }
      ]
    },
    {
      "metadata": {
        "id": "Y6553rBWQQjo",
        "colab_type": "code",
        "colab": {},
        "outputId": "27422715-ac53-4ad1-8d9e-d74b446777ca"
      },
      "cell_type": "code",
      "source": [
        "# Se puede comprobar que son iguales\n",
        "df == df2"
      ],
      "execution_count": 0,
      "outputs": [
        {
          "output_type": "execute_result",
          "data": {
            "text/html": [
              "<div>\n",
              "<style scoped>\n",
              "    .dataframe tbody tr th:only-of-type {\n",
              "        vertical-align: middle;\n",
              "    }\n",
              "\n",
              "    .dataframe tbody tr th {\n",
              "        vertical-align: top;\n",
              "    }\n",
              "\n",
              "    .dataframe thead th {\n",
              "        text-align: right;\n",
              "    }\n",
              "</style>\n",
              "<table border=\"1\" class=\"dataframe\">\n",
              "  <thead>\n",
              "    <tr style=\"text-align: right;\">\n",
              "      <th></th>\n",
              "      <th>0</th>\n",
              "      <th>1</th>\n",
              "      <th>2</th>\n",
              "      <th>3</th>\n",
              "    </tr>\n",
              "  </thead>\n",
              "  <tbody>\n",
              "    <tr>\n",
              "      <th>0</th>\n",
              "      <td>True</td>\n",
              "      <td>True</td>\n",
              "      <td>True</td>\n",
              "      <td>True</td>\n",
              "    </tr>\n",
              "    <tr>\n",
              "      <th>1</th>\n",
              "      <td>True</td>\n",
              "      <td>True</td>\n",
              "      <td>True</td>\n",
              "      <td>True</td>\n",
              "    </tr>\n",
              "    <tr>\n",
              "      <th>2</th>\n",
              "      <td>True</td>\n",
              "      <td>True</td>\n",
              "      <td>True</td>\n",
              "      <td>True</td>\n",
              "    </tr>\n",
              "    <tr>\n",
              "      <th>3</th>\n",
              "      <td>True</td>\n",
              "      <td>True</td>\n",
              "      <td>True</td>\n",
              "      <td>True</td>\n",
              "    </tr>\n",
              "    <tr>\n",
              "      <th>4</th>\n",
              "      <td>True</td>\n",
              "      <td>True</td>\n",
              "      <td>True</td>\n",
              "      <td>True</td>\n",
              "    </tr>\n",
              "    <tr>\n",
              "      <th>5</th>\n",
              "      <td>True</td>\n",
              "      <td>True</td>\n",
              "      <td>True</td>\n",
              "      <td>True</td>\n",
              "    </tr>\n",
              "    <tr>\n",
              "      <th>6</th>\n",
              "      <td>True</td>\n",
              "      <td>True</td>\n",
              "      <td>True</td>\n",
              "      <td>True</td>\n",
              "    </tr>\n",
              "    <tr>\n",
              "      <th>7</th>\n",
              "      <td>True</td>\n",
              "      <td>True</td>\n",
              "      <td>True</td>\n",
              "      <td>True</td>\n",
              "    </tr>\n",
              "    <tr>\n",
              "      <th>8</th>\n",
              "      <td>True</td>\n",
              "      <td>True</td>\n",
              "      <td>True</td>\n",
              "      <td>True</td>\n",
              "    </tr>\n",
              "    <tr>\n",
              "      <th>9</th>\n",
              "      <td>True</td>\n",
              "      <td>True</td>\n",
              "      <td>True</td>\n",
              "      <td>True</td>\n",
              "    </tr>\n",
              "  </tbody>\n",
              "</table>\n",
              "</div>"
            ],
            "text/plain": [
              "      0     1     2     3\n",
              "0  True  True  True  True\n",
              "1  True  True  True  True\n",
              "2  True  True  True  True\n",
              "3  True  True  True  True\n",
              "4  True  True  True  True\n",
              "5  True  True  True  True\n",
              "6  True  True  True  True\n",
              "7  True  True  True  True\n",
              "8  True  True  True  True\n",
              "9  True  True  True  True"
            ]
          },
          "metadata": {
            "tags": []
          },
          "execution_count": 35
        }
      ]
    },
    {
      "metadata": {
        "id": "PIs_TGOvQQju",
        "colab_type": "text"
      },
      "cell_type": "markdown",
      "source": [
        "### Join (vertical)"
      ]
    },
    {
      "metadata": {
        "id": "c6atupWgQQjw",
        "colab_type": "code",
        "colab": {},
        "outputId": "309322b9-2d20-41c6-b7d8-c1593f6dc64d"
      },
      "cell_type": "code",
      "source": [
        "left = pd.DataFrame({'key': ['foo', 'foo'], 'lval': [1, 2]})\n",
        "left"
      ],
      "execution_count": 0,
      "outputs": [
        {
          "output_type": "execute_result",
          "data": {
            "text/html": [
              "<div>\n",
              "<style scoped>\n",
              "    .dataframe tbody tr th:only-of-type {\n",
              "        vertical-align: middle;\n",
              "    }\n",
              "\n",
              "    .dataframe tbody tr th {\n",
              "        vertical-align: top;\n",
              "    }\n",
              "\n",
              "    .dataframe thead th {\n",
              "        text-align: right;\n",
              "    }\n",
              "</style>\n",
              "<table border=\"1\" class=\"dataframe\">\n",
              "  <thead>\n",
              "    <tr style=\"text-align: right;\">\n",
              "      <th></th>\n",
              "      <th>key</th>\n",
              "      <th>lval</th>\n",
              "    </tr>\n",
              "  </thead>\n",
              "  <tbody>\n",
              "    <tr>\n",
              "      <th>0</th>\n",
              "      <td>foo</td>\n",
              "      <td>1</td>\n",
              "    </tr>\n",
              "    <tr>\n",
              "      <th>1</th>\n",
              "      <td>foo</td>\n",
              "      <td>2</td>\n",
              "    </tr>\n",
              "  </tbody>\n",
              "</table>\n",
              "</div>"
            ],
            "text/plain": [
              "   key  lval\n",
              "0  foo     1\n",
              "1  foo     2"
            ]
          },
          "metadata": {
            "tags": []
          },
          "execution_count": 36
        }
      ]
    },
    {
      "metadata": {
        "id": "6RD-tHYbQQj0",
        "colab_type": "code",
        "colab": {},
        "outputId": "cffdbddd-3641-4994-ccc9-c93b9974aa02"
      },
      "cell_type": "code",
      "source": [
        "right = pd.DataFrame({'key': ['foo', 'foo'], 'rval': [4, 5]})\n",
        "right"
      ],
      "execution_count": 0,
      "outputs": [
        {
          "output_type": "execute_result",
          "data": {
            "text/html": [
              "<div>\n",
              "<style scoped>\n",
              "    .dataframe tbody tr th:only-of-type {\n",
              "        vertical-align: middle;\n",
              "    }\n",
              "\n",
              "    .dataframe tbody tr th {\n",
              "        vertical-align: top;\n",
              "    }\n",
              "\n",
              "    .dataframe thead th {\n",
              "        text-align: right;\n",
              "    }\n",
              "</style>\n",
              "<table border=\"1\" class=\"dataframe\">\n",
              "  <thead>\n",
              "    <tr style=\"text-align: right;\">\n",
              "      <th></th>\n",
              "      <th>key</th>\n",
              "      <th>rval</th>\n",
              "    </tr>\n",
              "  </thead>\n",
              "  <tbody>\n",
              "    <tr>\n",
              "      <th>0</th>\n",
              "      <td>foo</td>\n",
              "      <td>4</td>\n",
              "    </tr>\n",
              "    <tr>\n",
              "      <th>1</th>\n",
              "      <td>foo</td>\n",
              "      <td>5</td>\n",
              "    </tr>\n",
              "  </tbody>\n",
              "</table>\n",
              "</div>"
            ],
            "text/plain": [
              "   key  rval\n",
              "0  foo     4\n",
              "1  foo     5"
            ]
          },
          "metadata": {
            "tags": []
          },
          "execution_count": 37
        }
      ]
    },
    {
      "metadata": {
        "id": "Z3jXNYugQQkB",
        "colab_type": "code",
        "colab": {},
        "outputId": "a1fab129-2e96-4f98-a960-090397b229f9"
      },
      "cell_type": "code",
      "source": [
        "# Se mezcla empleando como clave la columna ('key')\n",
        "# Se generan todos los emparejamientos de los elementos 2 a 2 (al repetirse el valor de 'key')\n",
        "pd.merge(left, right, on='key')"
      ],
      "execution_count": 0,
      "outputs": [
        {
          "output_type": "execute_result",
          "data": {
            "text/html": [
              "<div>\n",
              "<style scoped>\n",
              "    .dataframe tbody tr th:only-of-type {\n",
              "        vertical-align: middle;\n",
              "    }\n",
              "\n",
              "    .dataframe tbody tr th {\n",
              "        vertical-align: top;\n",
              "    }\n",
              "\n",
              "    .dataframe thead th {\n",
              "        text-align: right;\n",
              "    }\n",
              "</style>\n",
              "<table border=\"1\" class=\"dataframe\">\n",
              "  <thead>\n",
              "    <tr style=\"text-align: right;\">\n",
              "      <th></th>\n",
              "      <th>key</th>\n",
              "      <th>lval</th>\n",
              "      <th>rval</th>\n",
              "    </tr>\n",
              "  </thead>\n",
              "  <tbody>\n",
              "    <tr>\n",
              "      <th>0</th>\n",
              "      <td>foo</td>\n",
              "      <td>1</td>\n",
              "      <td>4</td>\n",
              "    </tr>\n",
              "    <tr>\n",
              "      <th>1</th>\n",
              "      <td>foo</td>\n",
              "      <td>1</td>\n",
              "      <td>5</td>\n",
              "    </tr>\n",
              "    <tr>\n",
              "      <th>2</th>\n",
              "      <td>foo</td>\n",
              "      <td>2</td>\n",
              "      <td>4</td>\n",
              "    </tr>\n",
              "    <tr>\n",
              "      <th>3</th>\n",
              "      <td>foo</td>\n",
              "      <td>2</td>\n",
              "      <td>5</td>\n",
              "    </tr>\n",
              "  </tbody>\n",
              "</table>\n",
              "</div>"
            ],
            "text/plain": [
              "   key  lval  rval\n",
              "0  foo     1     4\n",
              "1  foo     1     5\n",
              "2  foo     2     4\n",
              "3  foo     2     5"
            ]
          },
          "metadata": {
            "tags": []
          },
          "execution_count": 38
        }
      ]
    },
    {
      "metadata": {
        "id": "Q4zHvavjQQkF",
        "colab_type": "text"
      },
      "cell_type": "markdown",
      "source": [
        "Otro ejemplo:"
      ]
    },
    {
      "metadata": {
        "id": "8U3KJ4EIQQkG",
        "colab_type": "code",
        "colab": {},
        "outputId": "dae86f48-c618-4dd9-bf12-41908316d977"
      },
      "cell_type": "code",
      "source": [
        "left = pd.DataFrame({'key': ['foo', 'bar'], 'lval': [1, 2]})\n",
        "left"
      ],
      "execution_count": 0,
      "outputs": [
        {
          "output_type": "execute_result",
          "data": {
            "text/html": [
              "<div>\n",
              "<style scoped>\n",
              "    .dataframe tbody tr th:only-of-type {\n",
              "        vertical-align: middle;\n",
              "    }\n",
              "\n",
              "    .dataframe tbody tr th {\n",
              "        vertical-align: top;\n",
              "    }\n",
              "\n",
              "    .dataframe thead th {\n",
              "        text-align: right;\n",
              "    }\n",
              "</style>\n",
              "<table border=\"1\" class=\"dataframe\">\n",
              "  <thead>\n",
              "    <tr style=\"text-align: right;\">\n",
              "      <th></th>\n",
              "      <th>key</th>\n",
              "      <th>lval</th>\n",
              "    </tr>\n",
              "  </thead>\n",
              "  <tbody>\n",
              "    <tr>\n",
              "      <th>0</th>\n",
              "      <td>foo</td>\n",
              "      <td>1</td>\n",
              "    </tr>\n",
              "    <tr>\n",
              "      <th>1</th>\n",
              "      <td>bar</td>\n",
              "      <td>2</td>\n",
              "    </tr>\n",
              "  </tbody>\n",
              "</table>\n",
              "</div>"
            ],
            "text/plain": [
              "   key  lval\n",
              "0  foo     1\n",
              "1  bar     2"
            ]
          },
          "metadata": {
            "tags": []
          },
          "execution_count": 39
        }
      ]
    },
    {
      "metadata": {
        "id": "lLdjLodcQQkK",
        "colab_type": "code",
        "colab": {},
        "outputId": "b09f86eb-b9ed-4936-ffcd-adf5876601a4"
      },
      "cell_type": "code",
      "source": [
        "right = pd.DataFrame({'key': ['foo', 'bar'], 'rval': [4, 5]})\n",
        "right"
      ],
      "execution_count": 0,
      "outputs": [
        {
          "output_type": "execute_result",
          "data": {
            "text/html": [
              "<div>\n",
              "<style scoped>\n",
              "    .dataframe tbody tr th:only-of-type {\n",
              "        vertical-align: middle;\n",
              "    }\n",
              "\n",
              "    .dataframe tbody tr th {\n",
              "        vertical-align: top;\n",
              "    }\n",
              "\n",
              "    .dataframe thead th {\n",
              "        text-align: right;\n",
              "    }\n",
              "</style>\n",
              "<table border=\"1\" class=\"dataframe\">\n",
              "  <thead>\n",
              "    <tr style=\"text-align: right;\">\n",
              "      <th></th>\n",
              "      <th>key</th>\n",
              "      <th>rval</th>\n",
              "    </tr>\n",
              "  </thead>\n",
              "  <tbody>\n",
              "    <tr>\n",
              "      <th>0</th>\n",
              "      <td>foo</td>\n",
              "      <td>4</td>\n",
              "    </tr>\n",
              "    <tr>\n",
              "      <th>1</th>\n",
              "      <td>bar</td>\n",
              "      <td>5</td>\n",
              "    </tr>\n",
              "  </tbody>\n",
              "</table>\n",
              "</div>"
            ],
            "text/plain": [
              "   key  rval\n",
              "0  foo     4\n",
              "1  bar     5"
            ]
          },
          "metadata": {
            "tags": []
          },
          "execution_count": 40
        }
      ]
    },
    {
      "metadata": {
        "id": "w3uSqGcnQQkS",
        "colab_type": "code",
        "colab": {},
        "outputId": "49dfdc38-42cc-430c-95e1-7073d794c176"
      },
      "cell_type": "code",
      "source": [
        " pd.merge(left, right, on='key')"
      ],
      "execution_count": 0,
      "outputs": [
        {
          "output_type": "execute_result",
          "data": {
            "text/html": [
              "<div>\n",
              "<style scoped>\n",
              "    .dataframe tbody tr th:only-of-type {\n",
              "        vertical-align: middle;\n",
              "    }\n",
              "\n",
              "    .dataframe tbody tr th {\n",
              "        vertical-align: top;\n",
              "    }\n",
              "\n",
              "    .dataframe thead th {\n",
              "        text-align: right;\n",
              "    }\n",
              "</style>\n",
              "<table border=\"1\" class=\"dataframe\">\n",
              "  <thead>\n",
              "    <tr style=\"text-align: right;\">\n",
              "      <th></th>\n",
              "      <th>key</th>\n",
              "      <th>lval</th>\n",
              "      <th>rval</th>\n",
              "    </tr>\n",
              "  </thead>\n",
              "  <tbody>\n",
              "    <tr>\n",
              "      <th>0</th>\n",
              "      <td>foo</td>\n",
              "      <td>1</td>\n",
              "      <td>4</td>\n",
              "    </tr>\n",
              "    <tr>\n",
              "      <th>1</th>\n",
              "      <td>bar</td>\n",
              "      <td>2</td>\n",
              "      <td>5</td>\n",
              "    </tr>\n",
              "  </tbody>\n",
              "</table>\n",
              "</div>"
            ],
            "text/plain": [
              "   key  lval  rval\n",
              "0  foo     1     4\n",
              "1  bar     2     5"
            ]
          },
          "metadata": {
            "tags": []
          },
          "execution_count": 41
        }
      ]
    },
    {
      "metadata": {
        "id": "f4HKrn0LQQkY",
        "colab_type": "text"
      },
      "cell_type": "markdown",
      "source": [
        "## Entrada / Salida en ficheros"
      ]
    },
    {
      "metadata": {
        "id": "g3myWagwQQkY",
        "colab_type": "text"
      },
      "cell_type": "markdown",
      "source": [
        "### Lectura de datos"
      ]
    },
    {
      "metadata": {
        "id": "a-WDVPgqQQkY",
        "colab_type": "code",
        "colab": {},
        "outputId": "8e267585-5727-4e65-dd56-4f23172c371b"
      },
      "cell_type": "code",
      "source": [
        "df = pd.read_csv('./data/FIFA18_Sample25.csv', index_col=0)\n",
        "#df = df.drop('Unnamed: 0',axis=1) # Se elimina la 1ª columna, que no incluye información relevante (es el propio indice)\n",
        "df.head(5)"
      ],
      "execution_count": 0,
      "outputs": [
        {
          "output_type": "execute_result",
          "data": {
            "text/html": [
              "<div>\n",
              "<style scoped>\n",
              "    .dataframe tbody tr th:only-of-type {\n",
              "        vertical-align: middle;\n",
              "    }\n",
              "\n",
              "    .dataframe tbody tr th {\n",
              "        vertical-align: top;\n",
              "    }\n",
              "\n",
              "    .dataframe thead th {\n",
              "        text-align: right;\n",
              "    }\n",
              "</style>\n",
              "<table border=\"1\" class=\"dataframe\">\n",
              "  <thead>\n",
              "    <tr style=\"text-align: right;\">\n",
              "      <th></th>\n",
              "      <th>Unnamed: 0.1</th>\n",
              "      <th>Name</th>\n",
              "      <th>Age</th>\n",
              "      <th>Photo</th>\n",
              "      <th>Nationality</th>\n",
              "      <th>Flag</th>\n",
              "      <th>Overall</th>\n",
              "      <th>Potential</th>\n",
              "      <th>Club</th>\n",
              "      <th>Club Logo</th>\n",
              "      <th>...</th>\n",
              "      <th>RB</th>\n",
              "      <th>RCB</th>\n",
              "      <th>RCM</th>\n",
              "      <th>RDM</th>\n",
              "      <th>RF</th>\n",
              "      <th>RM</th>\n",
              "      <th>RS</th>\n",
              "      <th>RW</th>\n",
              "      <th>RWB</th>\n",
              "      <th>ST</th>\n",
              "    </tr>\n",
              "  </thead>\n",
              "  <tbody>\n",
              "    <tr>\n",
              "      <th>17020</th>\n",
              "      <td>17020</td>\n",
              "      <td>J. Capacho</td>\n",
              "      <td>19</td>\n",
              "      <td>https://cdn.sofifa.org/48/18/players/239658.png</td>\n",
              "      <td>Colombia</td>\n",
              "      <td>https://cdn.sofifa.org/flags/56.png</td>\n",
              "      <td>54</td>\n",
              "      <td>67</td>\n",
              "      <td>Atlético Bucaramanga</td>\n",
              "      <td>https://cdn.sofifa.org/24/18/teams/112992.png</td>\n",
              "      <td>...</td>\n",
              "      <td>34.0</td>\n",
              "      <td>30.0</td>\n",
              "      <td>43.0</td>\n",
              "      <td>32.0</td>\n",
              "      <td>52.0</td>\n",
              "      <td>49.0</td>\n",
              "      <td>53.0</td>\n",
              "      <td>51.0</td>\n",
              "      <td>35.0</td>\n",
              "      <td>53.0</td>\n",
              "    </tr>\n",
              "    <tr>\n",
              "      <th>5979</th>\n",
              "      <td>5979</td>\n",
              "      <td>T. Makino</td>\n",
              "      <td>30</td>\n",
              "      <td>https://cdn.sofifa.org/48/18/players/194361.png</td>\n",
              "      <td>Japan</td>\n",
              "      <td>https://cdn.sofifa.org/flags/163.png</td>\n",
              "      <td>69</td>\n",
              "      <td>69</td>\n",
              "      <td>Urawa Red Diamonds</td>\n",
              "      <td>https://cdn.sofifa.org/24/18/teams/111575.png</td>\n",
              "      <td>...</td>\n",
              "      <td>66.0</td>\n",
              "      <td>68.0</td>\n",
              "      <td>62.0</td>\n",
              "      <td>67.0</td>\n",
              "      <td>57.0</td>\n",
              "      <td>61.0</td>\n",
              "      <td>56.0</td>\n",
              "      <td>58.0</td>\n",
              "      <td>66.0</td>\n",
              "      <td>56.0</td>\n",
              "    </tr>\n",
              "    <tr>\n",
              "      <th>10520</th>\n",
              "      <td>10520</td>\n",
              "      <td>A. Vincent</td>\n",
              "      <td>23</td>\n",
              "      <td>https://cdn.sofifa.org/48/18/players/227492.png</td>\n",
              "      <td>France</td>\n",
              "      <td>https://cdn.sofifa.org/flags/18.png</td>\n",
              "      <td>65</td>\n",
              "      <td>73</td>\n",
              "      <td>AJ Auxerre</td>\n",
              "      <td>https://cdn.sofifa.org/24/18/teams/57.png</td>\n",
              "      <td>...</td>\n",
              "      <td>43.0</td>\n",
              "      <td>35.0</td>\n",
              "      <td>58.0</td>\n",
              "      <td>42.0</td>\n",
              "      <td>65.0</td>\n",
              "      <td>64.0</td>\n",
              "      <td>64.0</td>\n",
              "      <td>65.0</td>\n",
              "      <td>46.0</td>\n",
              "      <td>64.0</td>\n",
              "    </tr>\n",
              "    <tr>\n",
              "      <th>6231</th>\n",
              "      <td>6231</td>\n",
              "      <td>Paulo Daineiro</td>\n",
              "      <td>33</td>\n",
              "      <td>https://cdn.sofifa.org/48/18/players/236165.png</td>\n",
              "      <td>Brazil</td>\n",
              "      <td>https://cdn.sofifa.org/flags/54.png</td>\n",
              "      <td>69</td>\n",
              "      <td>69</td>\n",
              "      <td>Associação Chapecoense de Futebol</td>\n",
              "      <td>https://cdn.sofifa.org/24/18/teams/112476.png</td>\n",
              "      <td>...</td>\n",
              "      <td>52.0</td>\n",
              "      <td>42.0</td>\n",
              "      <td>62.0</td>\n",
              "      <td>49.0</td>\n",
              "      <td>68.0</td>\n",
              "      <td>70.0</td>\n",
              "      <td>63.0</td>\n",
              "      <td>70.0</td>\n",
              "      <td>55.0</td>\n",
              "      <td>63.0</td>\n",
              "    </tr>\n",
              "    <tr>\n",
              "      <th>3096</th>\n",
              "      <td>3096</td>\n",
              "      <td>Alex Berenguer</td>\n",
              "      <td>21</td>\n",
              "      <td>https://cdn.sofifa.org/48/18/players/225201.png</td>\n",
              "      <td>Spain</td>\n",
              "      <td>https://cdn.sofifa.org/flags/45.png</td>\n",
              "      <td>73</td>\n",
              "      <td>81</td>\n",
              "      <td>Torino</td>\n",
              "      <td>https://cdn.sofifa.org/24/18/teams/54.png</td>\n",
              "      <td>...</td>\n",
              "      <td>71.0</td>\n",
              "      <td>65.0</td>\n",
              "      <td>68.0</td>\n",
              "      <td>68.0</td>\n",
              "      <td>71.0</td>\n",
              "      <td>73.0</td>\n",
              "      <td>68.0</td>\n",
              "      <td>72.0</td>\n",
              "      <td>72.0</td>\n",
              "      <td>68.0</td>\n",
              "    </tr>\n",
              "  </tbody>\n",
              "</table>\n",
              "<p>5 rows × 75 columns</p>\n",
              "</div>"
            ],
            "text/plain": [
              "       Unnamed: 0.1            Name  Age  \\\n",
              "17020         17020      J. Capacho   19   \n",
              "5979           5979       T. Makino   30   \n",
              "10520         10520      A. Vincent   23   \n",
              "6231           6231  Paulo Daineiro   33   \n",
              "3096           3096  Alex Berenguer   21   \n",
              "\n",
              "                                                 Photo Nationality  \\\n",
              "17020  https://cdn.sofifa.org/48/18/players/239658.png    Colombia   \n",
              "5979   https://cdn.sofifa.org/48/18/players/194361.png       Japan   \n",
              "10520  https://cdn.sofifa.org/48/18/players/227492.png      France   \n",
              "6231   https://cdn.sofifa.org/48/18/players/236165.png      Brazil   \n",
              "3096   https://cdn.sofifa.org/48/18/players/225201.png       Spain   \n",
              "\n",
              "                                       Flag  Overall  Potential  \\\n",
              "17020   https://cdn.sofifa.org/flags/56.png       54         67   \n",
              "5979   https://cdn.sofifa.org/flags/163.png       69         69   \n",
              "10520   https://cdn.sofifa.org/flags/18.png       65         73   \n",
              "6231    https://cdn.sofifa.org/flags/54.png       69         69   \n",
              "3096    https://cdn.sofifa.org/flags/45.png       73         81   \n",
              "\n",
              "                                    Club  \\\n",
              "17020               Atlético Bucaramanga   \n",
              "5979                  Urawa Red Diamonds   \n",
              "10520                         AJ Auxerre   \n",
              "6231   Associação Chapecoense de Futebol   \n",
              "3096                              Torino   \n",
              "\n",
              "                                           Club Logo  ...     RB   RCB   RCM  \\\n",
              "17020  https://cdn.sofifa.org/24/18/teams/112992.png  ...   34.0  30.0  43.0   \n",
              "5979   https://cdn.sofifa.org/24/18/teams/111575.png  ...   66.0  68.0  62.0   \n",
              "10520      https://cdn.sofifa.org/24/18/teams/57.png  ...   43.0  35.0  58.0   \n",
              "6231   https://cdn.sofifa.org/24/18/teams/112476.png  ...   52.0  42.0  62.0   \n",
              "3096       https://cdn.sofifa.org/24/18/teams/54.png  ...   71.0  65.0  68.0   \n",
              "\n",
              "        RDM    RF    RM    RS    RW   RWB    ST  \n",
              "17020  32.0  52.0  49.0  53.0  51.0  35.0  53.0  \n",
              "5979   67.0  57.0  61.0  56.0  58.0  66.0  56.0  \n",
              "10520  42.0  65.0  64.0  64.0  65.0  46.0  64.0  \n",
              "6231   49.0  68.0  70.0  63.0  70.0  55.0  63.0  \n",
              "3096   68.0  71.0  73.0  68.0  72.0  72.0  68.0  \n",
              "\n",
              "[5 rows x 75 columns]"
            ]
          },
          "metadata": {
            "tags": []
          },
          "execution_count": 42
        }
      ]
    },
    {
      "metadata": {
        "id": "EIsOtPBdQQkc",
        "colab_type": "text"
      },
      "cell_type": "markdown",
      "source": [
        "### Escritura de datos"
      ]
    },
    {
      "metadata": {
        "id": "v_cSHboXQQkc",
        "colab_type": "code",
        "colab": {},
        "outputId": "5700c235-6680-4c2b-a80a-d637ceaac110"
      },
      "cell_type": "code",
      "source": [
        "df2 = df.iloc[0:5,[0,1,3,5]]\n",
        "df2"
      ],
      "execution_count": 0,
      "outputs": [
        {
          "output_type": "execute_result",
          "data": {
            "text/html": [
              "<div>\n",
              "<style scoped>\n",
              "    .dataframe tbody tr th:only-of-type {\n",
              "        vertical-align: middle;\n",
              "    }\n",
              "\n",
              "    .dataframe tbody tr th {\n",
              "        vertical-align: top;\n",
              "    }\n",
              "\n",
              "    .dataframe thead th {\n",
              "        text-align: right;\n",
              "    }\n",
              "</style>\n",
              "<table border=\"1\" class=\"dataframe\">\n",
              "  <thead>\n",
              "    <tr style=\"text-align: right;\">\n",
              "      <th></th>\n",
              "      <th>Unnamed: 0.1</th>\n",
              "      <th>Name</th>\n",
              "      <th>Photo</th>\n",
              "      <th>Flag</th>\n",
              "    </tr>\n",
              "  </thead>\n",
              "  <tbody>\n",
              "    <tr>\n",
              "      <th>17020</th>\n",
              "      <td>17020</td>\n",
              "      <td>J. Capacho</td>\n",
              "      <td>https://cdn.sofifa.org/48/18/players/239658.png</td>\n",
              "      <td>https://cdn.sofifa.org/flags/56.png</td>\n",
              "    </tr>\n",
              "    <tr>\n",
              "      <th>5979</th>\n",
              "      <td>5979</td>\n",
              "      <td>T. Makino</td>\n",
              "      <td>https://cdn.sofifa.org/48/18/players/194361.png</td>\n",
              "      <td>https://cdn.sofifa.org/flags/163.png</td>\n",
              "    </tr>\n",
              "    <tr>\n",
              "      <th>10520</th>\n",
              "      <td>10520</td>\n",
              "      <td>A. Vincent</td>\n",
              "      <td>https://cdn.sofifa.org/48/18/players/227492.png</td>\n",
              "      <td>https://cdn.sofifa.org/flags/18.png</td>\n",
              "    </tr>\n",
              "    <tr>\n",
              "      <th>6231</th>\n",
              "      <td>6231</td>\n",
              "      <td>Paulo Daineiro</td>\n",
              "      <td>https://cdn.sofifa.org/48/18/players/236165.png</td>\n",
              "      <td>https://cdn.sofifa.org/flags/54.png</td>\n",
              "    </tr>\n",
              "    <tr>\n",
              "      <th>3096</th>\n",
              "      <td>3096</td>\n",
              "      <td>Alex Berenguer</td>\n",
              "      <td>https://cdn.sofifa.org/48/18/players/225201.png</td>\n",
              "      <td>https://cdn.sofifa.org/flags/45.png</td>\n",
              "    </tr>\n",
              "  </tbody>\n",
              "</table>\n",
              "</div>"
            ],
            "text/plain": [
              "       Unnamed: 0.1            Name  \\\n",
              "17020         17020      J. Capacho   \n",
              "5979           5979       T. Makino   \n",
              "10520         10520      A. Vincent   \n",
              "6231           6231  Paulo Daineiro   \n",
              "3096           3096  Alex Berenguer   \n",
              "\n",
              "                                                 Photo  \\\n",
              "17020  https://cdn.sofifa.org/48/18/players/239658.png   \n",
              "5979   https://cdn.sofifa.org/48/18/players/194361.png   \n",
              "10520  https://cdn.sofifa.org/48/18/players/227492.png   \n",
              "6231   https://cdn.sofifa.org/48/18/players/236165.png   \n",
              "3096   https://cdn.sofifa.org/48/18/players/225201.png   \n",
              "\n",
              "                                       Flag  \n",
              "17020   https://cdn.sofifa.org/flags/56.png  \n",
              "5979   https://cdn.sofifa.org/flags/163.png  \n",
              "10520   https://cdn.sofifa.org/flags/18.png  \n",
              "6231    https://cdn.sofifa.org/flags/54.png  \n",
              "3096    https://cdn.sofifa.org/flags/45.png  "
            ]
          },
          "metadata": {
            "tags": []
          },
          "execution_count": 43
        }
      ]
    },
    {
      "metadata": {
        "id": "zk1lbMe7QQkh",
        "colab_type": "code",
        "colab": {}
      },
      "cell_type": "code",
      "source": [
        "df2.to_csv('./First5.csv') # Se puede comprobar que se genera un fichero en formato csv con los datos de df2"
      ],
      "execution_count": 0,
      "outputs": []
    },
    {
      "metadata": {
        "id": "tObC555FQQkm",
        "colab_type": "code",
        "colab": {}
      },
      "cell_type": "code",
      "source": [
        ""
      ],
      "execution_count": 0,
      "outputs": []
    }
  ]
}